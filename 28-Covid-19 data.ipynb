{
 "cells": [
  {
   "cell_type": "markdown",
   "metadata": {},
   "source": [
    "# COVID-19 LIVE TRACKER- INDIA"
   ]
  },
  {
   "cell_type": "markdown",
   "metadata": {},
   "source": [
    "It contains some graphs and maps that will give you the latest updates about the pandemic- **CORONA VIRUS**\n",
    "\n",
    "**OPEN AS A DESKTOP SITE FOR A BETTER VIEW!**\n",
    "\n",
    "<h1>Developed by:-</h1>\n",
    "    \n",
    "   <font color= \"blue\" >ANUJAY SUYAL </font>\n",
    "    \n",
    "   <font color= \"blue\" >VAISHALI PANT</font>"
   ]
  },
  {
   "cell_type": "code",
   "execution_count": 1,
   "metadata": {},
   "outputs": [],
   "source": [
    "import pandas as pd\n",
    "import seaborn as sns\n",
    "import matplotlib.pyplot as plt  ##used for plotting graph\n",
    "from matplotlib import style\n",
    "##style.use('ggplot')\n",
    "%matplotlib inline\n",
    "\n",
    "\n",
    "import plotly\n",
    "import plotly.express as px\n",
    "import plotly.graph_objects as go   ##go means graph object\n",
    "plt.rcParams['figure.figsize']=17,8\n",
    "import cufflinks as cf\n",
    "import plotly.offline as pyo\n",
    "from plotly.offline import init_notebook_mode,plot,iplot\n",
    "\n",
    "import folium\n"
   ]
  },
  {
   "cell_type": "code",
   "execution_count": 2,
   "metadata": {},
   "outputs": [
    {
     "data": {
      "text/html": [
       "        <script type=\"text/javascript\">\n",
       "        window.PlotlyConfig = {MathJaxConfig: 'local'};\n",
       "        if (window.MathJax) {MathJax.Hub.Config({SVG: {font: \"STIX-Web\"}});}\n",
       "        if (typeof require !== 'undefined') {\n",
       "        require.undef(\"plotly\");\n",
       "        requirejs.config({\n",
       "            paths: {\n",
       "                'plotly': ['https://cdn.plot.ly/plotly-latest.min']\n",
       "            }\n",
       "        });\n",
       "        require(['plotly'], function(Plotly) {\n",
       "            window._Plotly = Plotly;\n",
       "        });\n",
       "        }\n",
       "        </script>\n",
       "        "
      ]
     },
     "metadata": {},
     "output_type": "display_data"
    },
    {
     "data": {
      "text/html": [
       "        <script type=\"text/javascript\">\n",
       "        window.PlotlyConfig = {MathJaxConfig: 'local'};\n",
       "        if (window.MathJax) {MathJax.Hub.Config({SVG: {font: \"STIX-Web\"}});}\n",
       "        if (typeof require !== 'undefined') {\n",
       "        require.undef(\"plotly\");\n",
       "        requirejs.config({\n",
       "            paths: {\n",
       "                'plotly': ['https://cdn.plot.ly/plotly-latest.min']\n",
       "            }\n",
       "        });\n",
       "        require(['plotly'], function(Plotly) {\n",
       "            window._Plotly = Plotly;\n",
       "        });\n",
       "        }\n",
       "        </script>\n",
       "        "
      ]
     },
     "metadata": {},
     "output_type": "display_data"
    }
   ],
   "source": [
    "pyo.init_notebook_mode(connected= True)\n",
    "cf.go_offline()"
   ]
  },
  {
   "cell_type": "markdown",
   "metadata": {},
   "source": [
    "# 28th April, 2020 :-"
   ]
  },
  {
   "cell_type": "code",
   "execution_count": 3,
   "metadata": {},
   "outputs": [
    {
     "data": {
      "text/html": [
       "<div>\n",
       "<style scoped>\n",
       "    .dataframe tbody tr th:only-of-type {\n",
       "        vertical-align: middle;\n",
       "    }\n",
       "\n",
       "    .dataframe tbody tr th {\n",
       "        vertical-align: top;\n",
       "    }\n",
       "\n",
       "    .dataframe thead th {\n",
       "        text-align: right;\n",
       "    }\n",
       "</style>\n",
       "<table border=\"1\" class=\"dataframe\">\n",
       "  <thead>\n",
       "    <tr style=\"text-align: right;\">\n",
       "      <th></th>\n",
       "      <th>State</th>\n",
       "      <th>Confirmed</th>\n",
       "      <th>Recovered</th>\n",
       "      <th>Deaths</th>\n",
       "      <th>Active</th>\n",
       "      <th>Last_Updated_Time</th>\n",
       "      <th>State_code</th>\n",
       "      <th>Delta_Confirmed</th>\n",
       "      <th>Delta_Recovered</th>\n",
       "      <th>Delta_Deaths</th>\n",
       "      <th>State_Notes</th>\n",
       "    </tr>\n",
       "  </thead>\n",
       "  <tbody>\n",
       "    <tr>\n",
       "      <th>0</th>\n",
       "      <td>Total</td>\n",
       "      <td>29458</td>\n",
       "      <td>7137</td>\n",
       "      <td>939</td>\n",
       "      <td>21382</td>\n",
       "      <td>28/04/2020 08:11:55</td>\n",
       "      <td>TT</td>\n",
       "      <td>7</td>\n",
       "      <td>0</td>\n",
       "      <td>0</td>\n",
       "      <td>NaN</td>\n",
       "    </tr>\n",
       "    <tr>\n",
       "      <th>1</th>\n",
       "      <td>Maharashtra</td>\n",
       "      <td>8590</td>\n",
       "      <td>1282</td>\n",
       "      <td>369</td>\n",
       "      <td>6939</td>\n",
       "      <td>28/04/2020 03:01:56</td>\n",
       "      <td>MH</td>\n",
       "      <td>0</td>\n",
       "      <td>0</td>\n",
       "      <td>0</td>\n",
       "      <td>NaN</td>\n",
       "    </tr>\n",
       "    <tr>\n",
       "      <th>2</th>\n",
       "      <td>Gujarat</td>\n",
       "      <td>3548</td>\n",
       "      <td>394</td>\n",
       "      <td>162</td>\n",
       "      <td>2992</td>\n",
       "      <td>27/04/2020 20:51:55</td>\n",
       "      <td>GJ</td>\n",
       "      <td>0</td>\n",
       "      <td>0</td>\n",
       "      <td>0</td>\n",
       "      <td>NaN</td>\n",
       "    </tr>\n",
       "    <tr>\n",
       "      <th>3</th>\n",
       "      <td>Delhi</td>\n",
       "      <td>3108</td>\n",
       "      <td>877</td>\n",
       "      <td>54</td>\n",
       "      <td>2177</td>\n",
       "      <td>27/04/2020 22:21:59</td>\n",
       "      <td>DL</td>\n",
       "      <td>0</td>\n",
       "      <td>0</td>\n",
       "      <td>0</td>\n",
       "      <td>NaN</td>\n",
       "    </tr>\n",
       "    <tr>\n",
       "      <th>4</th>\n",
       "      <td>Rajasthan</td>\n",
       "      <td>2262</td>\n",
       "      <td>744</td>\n",
       "      <td>50</td>\n",
       "      <td>1468</td>\n",
       "      <td>27/04/2020 21:54:55</td>\n",
       "      <td>RJ</td>\n",
       "      <td>0</td>\n",
       "      <td>0</td>\n",
       "      <td>0</td>\n",
       "      <td>NaN</td>\n",
       "    </tr>\n",
       "    <tr>\n",
       "      <th>5</th>\n",
       "      <td>Madhya Pradesh</td>\n",
       "      <td>2165</td>\n",
       "      <td>357</td>\n",
       "      <td>110</td>\n",
       "      <td>1698</td>\n",
       "      <td>27/04/2020 21:21:56</td>\n",
       "      <td>MP</td>\n",
       "      <td>0</td>\n",
       "      <td>0</td>\n",
       "      <td>0</td>\n",
       "      <td>NaN</td>\n",
       "    </tr>\n",
       "    <tr>\n",
       "      <th>6</th>\n",
       "      <td>Tamil Nadu</td>\n",
       "      <td>1937</td>\n",
       "      <td>1101</td>\n",
       "      <td>24</td>\n",
       "      <td>812</td>\n",
       "      <td>27/04/2020 18:21:56</td>\n",
       "      <td>TN</td>\n",
       "      <td>0</td>\n",
       "      <td>0</td>\n",
       "      <td>0</td>\n",
       "      <td>NaN</td>\n",
       "    </tr>\n",
       "    <tr>\n",
       "      <th>7</th>\n",
       "      <td>Uttar Pradesh</td>\n",
       "      <td>1986</td>\n",
       "      <td>399</td>\n",
       "      <td>31</td>\n",
       "      <td>1556</td>\n",
       "      <td>27/04/2020 21:21:57</td>\n",
       "      <td>UP</td>\n",
       "      <td>0</td>\n",
       "      <td>0</td>\n",
       "      <td>0</td>\n",
       "      <td>NaN</td>\n",
       "    </tr>\n",
       "    <tr>\n",
       "      <th>8</th>\n",
       "      <td>Andhra Pradesh</td>\n",
       "      <td>1177</td>\n",
       "      <td>235</td>\n",
       "      <td>31</td>\n",
       "      <td>911</td>\n",
       "      <td>27/04/2020 11:21:56</td>\n",
       "      <td>AP</td>\n",
       "      <td>0</td>\n",
       "      <td>0</td>\n",
       "      <td>0</td>\n",
       "      <td>NaN</td>\n",
       "    </tr>\n",
       "    <tr>\n",
       "      <th>9</th>\n",
       "      <td>Telangana</td>\n",
       "      <td>1003</td>\n",
       "      <td>332</td>\n",
       "      <td>25</td>\n",
       "      <td>646</td>\n",
       "      <td>27/04/2020 20:32:58</td>\n",
       "      <td>TG</td>\n",
       "      <td>0</td>\n",
       "      <td>0</td>\n",
       "      <td>0</td>\n",
       "      <td>NaN</td>\n",
       "    </tr>\n",
       "    <tr>\n",
       "      <th>10</th>\n",
       "      <td>West Bengal</td>\n",
       "      <td>649</td>\n",
       "      <td>105</td>\n",
       "      <td>20</td>\n",
       "      <td>524</td>\n",
       "      <td>26/04/2020 09:47:38</td>\n",
       "      <td>WB</td>\n",
       "      <td>0</td>\n",
       "      <td>0</td>\n",
       "      <td>0</td>\n",
       "      <td>WB totals and district numbers are currently u...</td>\n",
       "    </tr>\n",
       "    <tr>\n",
       "      <th>11</th>\n",
       "      <td>Jammu and Kashmir</td>\n",
       "      <td>546</td>\n",
       "      <td>164</td>\n",
       "      <td>7</td>\n",
       "      <td>375</td>\n",
       "      <td>27/04/2020 19:41:56</td>\n",
       "      <td>JK</td>\n",
       "      <td>0</td>\n",
       "      <td>0</td>\n",
       "      <td>0</td>\n",
       "      <td>NaN</td>\n",
       "    </tr>\n",
       "    <tr>\n",
       "      <th>12</th>\n",
       "      <td>Karnataka</td>\n",
       "      <td>512</td>\n",
       "      <td>193</td>\n",
       "      <td>20</td>\n",
       "      <td>299</td>\n",
       "      <td>27/04/2020 23:01:56</td>\n",
       "      <td>KA</td>\n",
       "      <td>0</td>\n",
       "      <td>0</td>\n",
       "      <td>0</td>\n",
       "      <td>NaN</td>\n",
       "    </tr>\n",
       "    <tr>\n",
       "      <th>13</th>\n",
       "      <td>Kerala</td>\n",
       "      <td>482</td>\n",
       "      <td>355</td>\n",
       "      <td>4</td>\n",
       "      <td>123</td>\n",
       "      <td>26/04/2020 17:57:38</td>\n",
       "      <td>KL</td>\n",
       "      <td>0</td>\n",
       "      <td>0</td>\n",
       "      <td>0</td>\n",
       "      <td>Mahe native who expired in Kannur included in ...</td>\n",
       "    </tr>\n",
       "    <tr>\n",
       "      <th>14</th>\n",
       "      <td>Punjab</td>\n",
       "      <td>330</td>\n",
       "      <td>98</td>\n",
       "      <td>19</td>\n",
       "      <td>213</td>\n",
       "      <td>27/04/2020 22:02:20</td>\n",
       "      <td>PB</td>\n",
       "      <td>0</td>\n",
       "      <td>0</td>\n",
       "      <td>0</td>\n",
       "      <td>NaN</td>\n",
       "    </tr>\n",
       "    <tr>\n",
       "      <th>15</th>\n",
       "      <td>Haryana</td>\n",
       "      <td>301</td>\n",
       "      <td>213</td>\n",
       "      <td>3</td>\n",
       "      <td>85</td>\n",
       "      <td>27/04/2020 19:21:56</td>\n",
       "      <td>HR</td>\n",
       "      <td>0</td>\n",
       "      <td>0</td>\n",
       "      <td>0</td>\n",
       "      <td>NaN</td>\n",
       "    </tr>\n",
       "    <tr>\n",
       "      <th>16</th>\n",
       "      <td>Bihar</td>\n",
       "      <td>346</td>\n",
       "      <td>56</td>\n",
       "      <td>2</td>\n",
       "      <td>288</td>\n",
       "      <td>27/04/2020 23:32:56</td>\n",
       "      <td>BR</td>\n",
       "      <td>0</td>\n",
       "      <td>0</td>\n",
       "      <td>0</td>\n",
       "      <td>NaN</td>\n",
       "    </tr>\n",
       "    <tr>\n",
       "      <th>17</th>\n",
       "      <td>Odisha</td>\n",
       "      <td>118</td>\n",
       "      <td>37</td>\n",
       "      <td>1</td>\n",
       "      <td>80</td>\n",
       "      <td>28/04/2020 08:11:56</td>\n",
       "      <td>OR</td>\n",
       "      <td>7</td>\n",
       "      <td>0</td>\n",
       "      <td>0</td>\n",
       "      <td>NaN</td>\n",
       "    </tr>\n",
       "    <tr>\n",
       "      <th>18</th>\n",
       "      <td>Jharkhand</td>\n",
       "      <td>103</td>\n",
       "      <td>17</td>\n",
       "      <td>3</td>\n",
       "      <td>83</td>\n",
       "      <td>27/04/2020 22:32:57</td>\n",
       "      <td>JH</td>\n",
       "      <td>0</td>\n",
       "      <td>0</td>\n",
       "      <td>0</td>\n",
       "      <td>NaN</td>\n",
       "    </tr>\n",
       "    <tr>\n",
       "      <th>19</th>\n",
       "      <td>Uttarakhand</td>\n",
       "      <td>51</td>\n",
       "      <td>33</td>\n",
       "      <td>0</td>\n",
       "      <td>18</td>\n",
       "      <td>27/04/2020 18:21:57</td>\n",
       "      <td>UT</td>\n",
       "      <td>0</td>\n",
       "      <td>0</td>\n",
       "      <td>0</td>\n",
       "      <td>NaN</td>\n",
       "    </tr>\n",
       "    <tr>\n",
       "      <th>20</th>\n",
       "      <td>Himachal Pradesh</td>\n",
       "      <td>40</td>\n",
       "      <td>25</td>\n",
       "      <td>2</td>\n",
       "      <td>13</td>\n",
       "      <td>28/04/2020 01:11:56</td>\n",
       "      <td>HP</td>\n",
       "      <td>0</td>\n",
       "      <td>0</td>\n",
       "      <td>0</td>\n",
       "      <td>Death of Tibetan refugee included</td>\n",
       "    </tr>\n",
       "    <tr>\n",
       "      <th>21</th>\n",
       "      <td>Chhattisgarh</td>\n",
       "      <td>37</td>\n",
       "      <td>32</td>\n",
       "      <td>0</td>\n",
       "      <td>5</td>\n",
       "      <td>25/04/2020 09:37:38</td>\n",
       "      <td>CT</td>\n",
       "      <td>0</td>\n",
       "      <td>0</td>\n",
       "      <td>0</td>\n",
       "      <td>NaN</td>\n",
       "    </tr>\n",
       "    <tr>\n",
       "      <th>22</th>\n",
       "      <td>Assam</td>\n",
       "      <td>36</td>\n",
       "      <td>27</td>\n",
       "      <td>1</td>\n",
       "      <td>8</td>\n",
       "      <td>26/04/2020 17:32:41</td>\n",
       "      <td>AS</td>\n",
       "      <td>0</td>\n",
       "      <td>0</td>\n",
       "      <td>0</td>\n",
       "      <td>Includes one case from Nagaland</td>\n",
       "    </tr>\n",
       "    <tr>\n",
       "      <th>23</th>\n",
       "      <td>Chandigarh</td>\n",
       "      <td>45</td>\n",
       "      <td>17</td>\n",
       "      <td>0</td>\n",
       "      <td>28</td>\n",
       "      <td>27/04/2020 20:21:56</td>\n",
       "      <td>CH</td>\n",
       "      <td>0</td>\n",
       "      <td>0</td>\n",
       "      <td>0</td>\n",
       "      <td>NaN</td>\n",
       "    </tr>\n",
       "    <tr>\n",
       "      <th>24</th>\n",
       "      <td>Andaman and Nicobar Islands</td>\n",
       "      <td>33</td>\n",
       "      <td>11</td>\n",
       "      <td>0</td>\n",
       "      <td>22</td>\n",
       "      <td>25/04/2020 20:02:39</td>\n",
       "      <td>AN</td>\n",
       "      <td>0</td>\n",
       "      <td>0</td>\n",
       "      <td>0</td>\n",
       "      <td>NaN</td>\n",
       "    </tr>\n",
       "    <tr>\n",
       "      <th>25</th>\n",
       "      <td>Ladakh</td>\n",
       "      <td>20</td>\n",
       "      <td>16</td>\n",
       "      <td>0</td>\n",
       "      <td>4</td>\n",
       "      <td>25/04/2020 17:32:38</td>\n",
       "      <td>LA</td>\n",
       "      <td>0</td>\n",
       "      <td>0</td>\n",
       "      <td>0</td>\n",
       "      <td>NaN</td>\n",
       "    </tr>\n",
       "    <tr>\n",
       "      <th>26</th>\n",
       "      <td>Meghalaya</td>\n",
       "      <td>12</td>\n",
       "      <td>0</td>\n",
       "      <td>1</td>\n",
       "      <td>11</td>\n",
       "      <td>18/04/2020 12:38:07</td>\n",
       "      <td>ML</td>\n",
       "      <td>0</td>\n",
       "      <td>0</td>\n",
       "      <td>0</td>\n",
       "      <td>NaN</td>\n",
       "    </tr>\n",
       "    <tr>\n",
       "      <th>27</th>\n",
       "      <td>Puducherry</td>\n",
       "      <td>8</td>\n",
       "      <td>5</td>\n",
       "      <td>0</td>\n",
       "      <td>3</td>\n",
       "      <td>27/04/2020 23:21:56</td>\n",
       "      <td>PY</td>\n",
       "      <td>0</td>\n",
       "      <td>0</td>\n",
       "      <td>0</td>\n",
       "      <td>NaN</td>\n",
       "    </tr>\n",
       "    <tr>\n",
       "      <th>28</th>\n",
       "      <td>Goa</td>\n",
       "      <td>7</td>\n",
       "      <td>7</td>\n",
       "      <td>0</td>\n",
       "      <td>0</td>\n",
       "      <td>19/04/2020 17:04:07</td>\n",
       "      <td>GA</td>\n",
       "      <td>0</td>\n",
       "      <td>0</td>\n",
       "      <td>0</td>\n",
       "      <td>NaN</td>\n",
       "    </tr>\n",
       "    <tr>\n",
       "      <th>29</th>\n",
       "      <td>Manipur</td>\n",
       "      <td>2</td>\n",
       "      <td>2</td>\n",
       "      <td>0</td>\n",
       "      <td>0</td>\n",
       "      <td>20/04/2020 10:04:08</td>\n",
       "      <td>MN</td>\n",
       "      <td>0</td>\n",
       "      <td>0</td>\n",
       "      <td>0</td>\n",
       "      <td>NaN</td>\n",
       "    </tr>\n",
       "    <tr>\n",
       "      <th>30</th>\n",
       "      <td>Tripura</td>\n",
       "      <td>2</td>\n",
       "      <td>2</td>\n",
       "      <td>0</td>\n",
       "      <td>0</td>\n",
       "      <td>23/04/2020 20:47:41</td>\n",
       "      <td>TR</td>\n",
       "      <td>0</td>\n",
       "      <td>0</td>\n",
       "      <td>0</td>\n",
       "      <td>NaN</td>\n",
       "    </tr>\n",
       "    <tr>\n",
       "      <th>31</th>\n",
       "      <td>Mizoram</td>\n",
       "      <td>1</td>\n",
       "      <td>0</td>\n",
       "      <td>0</td>\n",
       "      <td>1</td>\n",
       "      <td>26/03/2020 07:19:29</td>\n",
       "      <td>MZ</td>\n",
       "      <td>0</td>\n",
       "      <td>0</td>\n",
       "      <td>0</td>\n",
       "      <td>NaN</td>\n",
       "    </tr>\n",
       "    <tr>\n",
       "      <th>32</th>\n",
       "      <td>Arunachal Pradesh</td>\n",
       "      <td>1</td>\n",
       "      <td>1</td>\n",
       "      <td>0</td>\n",
       "      <td>0</td>\n",
       "      <td>16/04/2020 19:33:11</td>\n",
       "      <td>AR</td>\n",
       "      <td>0</td>\n",
       "      <td>0</td>\n",
       "      <td>0</td>\n",
       "      <td>NaN</td>\n",
       "    </tr>\n",
       "    <tr>\n",
       "      <th>33</th>\n",
       "      <td>Nagaland</td>\n",
       "      <td>0</td>\n",
       "      <td>0</td>\n",
       "      <td>0</td>\n",
       "      <td>0</td>\n",
       "      <td>20/04/2020 08:45:07</td>\n",
       "      <td>NL</td>\n",
       "      <td>0</td>\n",
       "      <td>0</td>\n",
       "      <td>0</td>\n",
       "      <td>NaN</td>\n",
       "    </tr>\n",
       "    <tr>\n",
       "      <th>34</th>\n",
       "      <td>Dadra and Nagar Haveli</td>\n",
       "      <td>0</td>\n",
       "      <td>0</td>\n",
       "      <td>0</td>\n",
       "      <td>0</td>\n",
       "      <td>17/04/2020 15:03:07</td>\n",
       "      <td>DN</td>\n",
       "      <td>0</td>\n",
       "      <td>0</td>\n",
       "      <td>0</td>\n",
       "      <td>NaN</td>\n",
       "    </tr>\n",
       "    <tr>\n",
       "      <th>35</th>\n",
       "      <td>Daman and Diu</td>\n",
       "      <td>0</td>\n",
       "      <td>0</td>\n",
       "      <td>0</td>\n",
       "      <td>0</td>\n",
       "      <td>26/03/2020 07:19:29</td>\n",
       "      <td>DD</td>\n",
       "      <td>0</td>\n",
       "      <td>0</td>\n",
       "      <td>0</td>\n",
       "      <td>NaN</td>\n",
       "    </tr>\n",
       "    <tr>\n",
       "      <th>36</th>\n",
       "      <td>Lakshadweep</td>\n",
       "      <td>0</td>\n",
       "      <td>0</td>\n",
       "      <td>0</td>\n",
       "      <td>0</td>\n",
       "      <td>26/03/2020 07:19:29</td>\n",
       "      <td>LD</td>\n",
       "      <td>0</td>\n",
       "      <td>0</td>\n",
       "      <td>0</td>\n",
       "      <td>NaN</td>\n",
       "    </tr>\n",
       "    <tr>\n",
       "      <th>37</th>\n",
       "      <td>Sikkim</td>\n",
       "      <td>0</td>\n",
       "      <td>0</td>\n",
       "      <td>0</td>\n",
       "      <td>0</td>\n",
       "      <td>26/03/2020 07:19:29</td>\n",
       "      <td>SK</td>\n",
       "      <td>0</td>\n",
       "      <td>0</td>\n",
       "      <td>0</td>\n",
       "      <td>NaN</td>\n",
       "    </tr>\n",
       "  </tbody>\n",
       "</table>\n",
       "</div>"
      ],
      "text/plain": [
       "                          State  Confirmed  Recovered  Deaths  Active  \\\n",
       "0                         Total      29458       7137     939   21382   \n",
       "1                   Maharashtra       8590       1282     369    6939   \n",
       "2                       Gujarat       3548        394     162    2992   \n",
       "3                         Delhi       3108        877      54    2177   \n",
       "4                     Rajasthan       2262        744      50    1468   \n",
       "5                Madhya Pradesh       2165        357     110    1698   \n",
       "6                    Tamil Nadu       1937       1101      24     812   \n",
       "7                 Uttar Pradesh       1986        399      31    1556   \n",
       "8                Andhra Pradesh       1177        235      31     911   \n",
       "9                     Telangana       1003        332      25     646   \n",
       "10                  West Bengal        649        105      20     524   \n",
       "11            Jammu and Kashmir        546        164       7     375   \n",
       "12                    Karnataka        512        193      20     299   \n",
       "13                       Kerala        482        355       4     123   \n",
       "14                       Punjab        330         98      19     213   \n",
       "15                      Haryana        301        213       3      85   \n",
       "16                        Bihar        346         56       2     288   \n",
       "17                       Odisha        118         37       1      80   \n",
       "18                    Jharkhand        103         17       3      83   \n",
       "19                  Uttarakhand         51         33       0      18   \n",
       "20             Himachal Pradesh         40         25       2      13   \n",
       "21                 Chhattisgarh         37         32       0       5   \n",
       "22                        Assam         36         27       1       8   \n",
       "23                   Chandigarh         45         17       0      28   \n",
       "24  Andaman and Nicobar Islands         33         11       0      22   \n",
       "25                       Ladakh         20         16       0       4   \n",
       "26                    Meghalaya         12          0       1      11   \n",
       "27                   Puducherry          8          5       0       3   \n",
       "28                          Goa          7          7       0       0   \n",
       "29                      Manipur          2          2       0       0   \n",
       "30                      Tripura          2          2       0       0   \n",
       "31                      Mizoram          1          0       0       1   \n",
       "32            Arunachal Pradesh          1          1       0       0   \n",
       "33                     Nagaland          0          0       0       0   \n",
       "34       Dadra and Nagar Haveli          0          0       0       0   \n",
       "35                Daman and Diu          0          0       0       0   \n",
       "36                  Lakshadweep          0          0       0       0   \n",
       "37                       Sikkim          0          0       0       0   \n",
       "\n",
       "      Last_Updated_Time State_code  Delta_Confirmed  Delta_Recovered  \\\n",
       "0   28/04/2020 08:11:55         TT                7                0   \n",
       "1   28/04/2020 03:01:56         MH                0                0   \n",
       "2   27/04/2020 20:51:55         GJ                0                0   \n",
       "3   27/04/2020 22:21:59         DL                0                0   \n",
       "4   27/04/2020 21:54:55         RJ                0                0   \n",
       "5   27/04/2020 21:21:56         MP                0                0   \n",
       "6   27/04/2020 18:21:56         TN                0                0   \n",
       "7   27/04/2020 21:21:57         UP                0                0   \n",
       "8   27/04/2020 11:21:56         AP                0                0   \n",
       "9   27/04/2020 20:32:58         TG                0                0   \n",
       "10  26/04/2020 09:47:38         WB                0                0   \n",
       "11  27/04/2020 19:41:56         JK                0                0   \n",
       "12  27/04/2020 23:01:56         KA                0                0   \n",
       "13  26/04/2020 17:57:38         KL                0                0   \n",
       "14  27/04/2020 22:02:20         PB                0                0   \n",
       "15  27/04/2020 19:21:56         HR                0                0   \n",
       "16  27/04/2020 23:32:56         BR                0                0   \n",
       "17  28/04/2020 08:11:56         OR                7                0   \n",
       "18  27/04/2020 22:32:57         JH                0                0   \n",
       "19  27/04/2020 18:21:57         UT                0                0   \n",
       "20  28/04/2020 01:11:56         HP                0                0   \n",
       "21  25/04/2020 09:37:38         CT                0                0   \n",
       "22  26/04/2020 17:32:41         AS                0                0   \n",
       "23  27/04/2020 20:21:56         CH                0                0   \n",
       "24  25/04/2020 20:02:39         AN                0                0   \n",
       "25  25/04/2020 17:32:38         LA                0                0   \n",
       "26  18/04/2020 12:38:07         ML                0                0   \n",
       "27  27/04/2020 23:21:56         PY                0                0   \n",
       "28  19/04/2020 17:04:07         GA                0                0   \n",
       "29  20/04/2020 10:04:08         MN                0                0   \n",
       "30  23/04/2020 20:47:41         TR                0                0   \n",
       "31  26/03/2020 07:19:29         MZ                0                0   \n",
       "32  16/04/2020 19:33:11         AR                0                0   \n",
       "33  20/04/2020 08:45:07         NL                0                0   \n",
       "34  17/04/2020 15:03:07         DN                0                0   \n",
       "35  26/03/2020 07:19:29         DD                0                0   \n",
       "36  26/03/2020 07:19:29         LD                0                0   \n",
       "37  26/03/2020 07:19:29         SK                0                0   \n",
       "\n",
       "    Delta_Deaths                                        State_Notes  \n",
       "0              0                                                NaN  \n",
       "1              0                                                NaN  \n",
       "2              0                                                NaN  \n",
       "3              0                                                NaN  \n",
       "4              0                                                NaN  \n",
       "5              0                                                NaN  \n",
       "6              0                                                NaN  \n",
       "7              0                                                NaN  \n",
       "8              0                                                NaN  \n",
       "9              0                                                NaN  \n",
       "10             0  WB totals and district numbers are currently u...  \n",
       "11             0                                                NaN  \n",
       "12             0                                                NaN  \n",
       "13             0  Mahe native who expired in Kannur included in ...  \n",
       "14             0                                                NaN  \n",
       "15             0                                                NaN  \n",
       "16             0                                                NaN  \n",
       "17             0                                                NaN  \n",
       "18             0                                                NaN  \n",
       "19             0                                                NaN  \n",
       "20             0                  Death of Tibetan refugee included  \n",
       "21             0                                                NaN  \n",
       "22             0                    Includes one case from Nagaland  \n",
       "23             0                                                NaN  \n",
       "24             0                                                NaN  \n",
       "25             0                                                NaN  \n",
       "26             0                                                NaN  \n",
       "27             0                                                NaN  \n",
       "28             0                                                NaN  \n",
       "29             0                                                NaN  \n",
       "30             0                                                NaN  \n",
       "31             0                                                NaN  \n",
       "32             0                                                NaN  \n",
       "33             0                                                NaN  \n",
       "34             0                                                NaN  \n",
       "35             0                                                NaN  \n",
       "36             0                                                NaN  \n",
       "37             0                                                NaN  "
      ]
     },
     "execution_count": 3,
     "metadata": {},
     "output_type": "execute_result"
    }
   ],
   "source": [
    "df= pd.read_csv(\"https://api.covid19india.org/csv/latest/state_wise.csv\")\n",
    "df"
   ]
  },
  {
   "cell_type": "code",
   "execution_count": 4,
   "metadata": {},
   "outputs": [],
   "source": [
    "df.drop(['Last_Updated_Time', 'Delta_Confirmed','State_Notes', 'Delta_Deaths','Delta_Recovered'],axis= 1,inplace= True)\n"
   ]
  },
  {
   "cell_type": "code",
   "execution_count": null,
   "metadata": {},
   "outputs": [],
   "source": []
  },
  {
   "cell_type": "code",
   "execution_count": null,
   "metadata": {},
   "outputs": [],
   "source": []
  },
  {
   "cell_type": "code",
   "execution_count": 5,
   "metadata": {},
   "outputs": [
    {
     "data": {
      "text/html": [
       "<style  type=\"text/css\" >\n",
       "    #T_402fadfa_88fc_11ea_8461_acd5641be5f4row0_col1 {\n",
       "            background-color:  #67000d;\n",
       "            color:  #f1f1f1;\n",
       "        }    #T_402fadfa_88fc_11ea_8461_acd5641be5f4row0_col2 {\n",
       "            background-color:  #67000d;\n",
       "            color:  #f1f1f1;\n",
       "        }    #T_402fadfa_88fc_11ea_8461_acd5641be5f4row0_col3 {\n",
       "            background-color:  #67000d;\n",
       "            color:  #f1f1f1;\n",
       "        }    #T_402fadfa_88fc_11ea_8461_acd5641be5f4row0_col4 {\n",
       "            background-color:  #67000d;\n",
       "            color:  #f1f1f1;\n",
       "        }    #T_402fadfa_88fc_11ea_8461_acd5641be5f4row1_col1 {\n",
       "            background-color:  #fcae92;\n",
       "            color:  #000000;\n",
       "        }    #T_402fadfa_88fc_11ea_8461_acd5641be5f4row1_col2 {\n",
       "            background-color:  #fdd1be;\n",
       "            color:  #000000;\n",
       "        }    #T_402fadfa_88fc_11ea_8461_acd5641be5f4row1_col3 {\n",
       "            background-color:  #fc8d6d;\n",
       "            color:  #000000;\n",
       "        }    #T_402fadfa_88fc_11ea_8461_acd5641be5f4row1_col4 {\n",
       "            background-color:  #fca285;\n",
       "            color:  #000000;\n",
       "        }    #T_402fadfa_88fc_11ea_8461_acd5641be5f4row2_col1 {\n",
       "            background-color:  #fee1d4;\n",
       "            color:  #000000;\n",
       "        }    #T_402fadfa_88fc_11ea_8461_acd5641be5f4row2_col2 {\n",
       "            background-color:  #ffece3;\n",
       "            color:  #000000;\n",
       "        }    #T_402fadfa_88fc_11ea_8461_acd5641be5f4row2_col3 {\n",
       "            background-color:  #fdd2bf;\n",
       "            color:  #000000;\n",
       "        }    #T_402fadfa_88fc_11ea_8461_acd5641be5f4row2_col4 {\n",
       "            background-color:  #fedccd;\n",
       "            color:  #000000;\n",
       "        }    #T_402fadfa_88fc_11ea_8461_acd5641be5f4row3_col1 {\n",
       "            background-color:  #fee3d7;\n",
       "            color:  #000000;\n",
       "        }    #T_402fadfa_88fc_11ea_8461_acd5641be5f4row3_col2 {\n",
       "            background-color:  #fee1d3;\n",
       "            color:  #000000;\n",
       "        }    #T_402fadfa_88fc_11ea_8461_acd5641be5f4row3_col3 {\n",
       "            background-color:  #ffece3;\n",
       "            color:  #000000;\n",
       "        }    #T_402fadfa_88fc_11ea_8461_acd5641be5f4row3_col4 {\n",
       "            background-color:  #fee4d8;\n",
       "            color:  #000000;\n",
       "        }    #T_402fadfa_88fc_11ea_8461_acd5641be5f4row4_col1 {\n",
       "            background-color:  #fee8de;\n",
       "            color:  #000000;\n",
       "        }    #T_402fadfa_88fc_11ea_8461_acd5641be5f4row4_col2 {\n",
       "            background-color:  #fee4d8;\n",
       "            color:  #000000;\n",
       "        }    #T_402fadfa_88fc_11ea_8461_acd5641be5f4row4_col3 {\n",
       "            background-color:  #ffece4;\n",
       "            color:  #000000;\n",
       "        }    #T_402fadfa_88fc_11ea_8461_acd5641be5f4row4_col4 {\n",
       "            background-color:  #feeae0;\n",
       "            color:  #000000;\n",
       "        }    #T_402fadfa_88fc_11ea_8461_acd5641be5f4row5_col1 {\n",
       "            background-color:  #fee9df;\n",
       "            color:  #000000;\n",
       "        }    #T_402fadfa_88fc_11ea_8461_acd5641be5f4row5_col2 {\n",
       "            background-color:  #ffede5;\n",
       "            color:  #000000;\n",
       "        }    #T_402fadfa_88fc_11ea_8461_acd5641be5f4row5_col3 {\n",
       "            background-color:  #fee2d5;\n",
       "            color:  #000000;\n",
       "        }    #T_402fadfa_88fc_11ea_8461_acd5641be5f4row5_col4 {\n",
       "            background-color:  #fee8dd;\n",
       "            color:  #000000;\n",
       "        }    #T_402fadfa_88fc_11ea_8461_acd5641be5f4row6_col1 {\n",
       "            background-color:  #feeae1;\n",
       "            color:  #000000;\n",
       "        }    #T_402fadfa_88fc_11ea_8461_acd5641be5f4row6_col2 {\n",
       "            background-color:  #fed8c7;\n",
       "            color:  #000000;\n",
       "        }    #T_402fadfa_88fc_11ea_8461_acd5641be5f4row6_col3 {\n",
       "            background-color:  #fff1ea;\n",
       "            color:  #000000;\n",
       "        }    #T_402fadfa_88fc_11ea_8461_acd5641be5f4row6_col4 {\n",
       "            background-color:  #ffefe8;\n",
       "            color:  #000000;\n",
       "        }    #T_402fadfa_88fc_11ea_8461_acd5641be5f4row7_col1 {\n",
       "            background-color:  #feeae0;\n",
       "            color:  #000000;\n",
       "        }    #T_402fadfa_88fc_11ea_8461_acd5641be5f4row7_col2 {\n",
       "            background-color:  #ffece3;\n",
       "            color:  #000000;\n",
       "        }    #T_402fadfa_88fc_11ea_8461_acd5641be5f4row7_col3 {\n",
       "            background-color:  #fff0e8;\n",
       "            color:  #000000;\n",
       "        }    #T_402fadfa_88fc_11ea_8461_acd5641be5f4row7_col4 {\n",
       "            background-color:  #fee9df;\n",
       "            color:  #000000;\n",
       "        }    #T_402fadfa_88fc_11ea_8461_acd5641be5f4row8_col1 {\n",
       "            background-color:  #ffeee7;\n",
       "            color:  #000000;\n",
       "        }    #T_402fadfa_88fc_11ea_8461_acd5641be5f4row8_col2 {\n",
       "            background-color:  #fff0e8;\n",
       "            color:  #000000;\n",
       "        }    #T_402fadfa_88fc_11ea_8461_acd5641be5f4row8_col3 {\n",
       "            background-color:  #fff0e8;\n",
       "            color:  #000000;\n",
       "        }    #T_402fadfa_88fc_11ea_8461_acd5641be5f4row8_col4 {\n",
       "            background-color:  #ffeee7;\n",
       "            color:  #000000;\n",
       "        }    #T_402fadfa_88fc_11ea_8461_acd5641be5f4row9_col1 {\n",
       "            background-color:  #fff0e8;\n",
       "            color:  #000000;\n",
       "        }    #T_402fadfa_88fc_11ea_8461_acd5641be5f4row9_col2 {\n",
       "            background-color:  #ffeee6;\n",
       "            color:  #000000;\n",
       "        }    #T_402fadfa_88fc_11ea_8461_acd5641be5f4row9_col3 {\n",
       "            background-color:  #fff1ea;\n",
       "            color:  #000000;\n",
       "        }    #T_402fadfa_88fc_11ea_8461_acd5641be5f4row9_col4 {\n",
       "            background-color:  #fff0e9;\n",
       "            color:  #000000;\n",
       "        }    #T_402fadfa_88fc_11ea_8461_acd5641be5f4row10_col1 {\n",
       "            background-color:  #fff2eb;\n",
       "            color:  #000000;\n",
       "        }    #T_402fadfa_88fc_11ea_8461_acd5641be5f4row10_col2 {\n",
       "            background-color:  #fff3ed;\n",
       "            color:  #000000;\n",
       "        }    #T_402fadfa_88fc_11ea_8461_acd5641be5f4row10_col3 {\n",
       "            background-color:  #fff2eb;\n",
       "            color:  #000000;\n",
       "        }    #T_402fadfa_88fc_11ea_8461_acd5641be5f4row10_col4 {\n",
       "            background-color:  #fff1ea;\n",
       "            color:  #000000;\n",
       "        }    #T_402fadfa_88fc_11ea_8461_acd5641be5f4row11_col1 {\n",
       "            background-color:  #fff2ec;\n",
       "            color:  #000000;\n",
       "        }    #T_402fadfa_88fc_11ea_8461_acd5641be5f4row11_col2 {\n",
       "            background-color:  #fff2eb;\n",
       "            color:  #000000;\n",
       "        }    #T_402fadfa_88fc_11ea_8461_acd5641be5f4row11_col3 {\n",
       "            background-color:  #fff4ef;\n",
       "            color:  #000000;\n",
       "        }    #T_402fadfa_88fc_11ea_8461_acd5641be5f4row11_col4 {\n",
       "            background-color:  #fff2ec;\n",
       "            color:  #000000;\n",
       "        }    #T_402fadfa_88fc_11ea_8461_acd5641be5f4row12_col1 {\n",
       "            background-color:  #fff2ec;\n",
       "            color:  #000000;\n",
       "        }    #T_402fadfa_88fc_11ea_8461_acd5641be5f4row12_col2 {\n",
       "            background-color:  #fff1ea;\n",
       "            color:  #000000;\n",
       "        }    #T_402fadfa_88fc_11ea_8461_acd5641be5f4row12_col3 {\n",
       "            background-color:  #fff2eb;\n",
       "            color:  #000000;\n",
       "        }    #T_402fadfa_88fc_11ea_8461_acd5641be5f4row12_col4 {\n",
       "            background-color:  #fff3ed;\n",
       "            color:  #000000;\n",
       "        }    #T_402fadfa_88fc_11ea_8461_acd5641be5f4row13_col1 {\n",
       "            background-color:  #fff2ec;\n",
       "            color:  #000000;\n",
       "        }    #T_402fadfa_88fc_11ea_8461_acd5641be5f4row13_col2 {\n",
       "            background-color:  #ffede5;\n",
       "            color:  #000000;\n",
       "        }    #T_402fadfa_88fc_11ea_8461_acd5641be5f4row13_col3 {\n",
       "            background-color:  #fff4ef;\n",
       "            color:  #000000;\n",
       "        }    #T_402fadfa_88fc_11ea_8461_acd5641be5f4row13_col4 {\n",
       "            background-color:  #fff4ef;\n",
       "            color:  #000000;\n",
       "        }    #T_402fadfa_88fc_11ea_8461_acd5641be5f4row14_col1 {\n",
       "            background-color:  #fff4ee;\n",
       "            color:  #000000;\n",
       "        }    #T_402fadfa_88fc_11ea_8461_acd5641be5f4row14_col2 {\n",
       "            background-color:  #fff3ed;\n",
       "            color:  #000000;\n",
       "        }    #T_402fadfa_88fc_11ea_8461_acd5641be5f4row14_col3 {\n",
       "            background-color:  #fff2eb;\n",
       "            color:  #000000;\n",
       "        }    #T_402fadfa_88fc_11ea_8461_acd5641be5f4row14_col4 {\n",
       "            background-color:  #fff4ee;\n",
       "            color:  #000000;\n",
       "        }    #T_402fadfa_88fc_11ea_8461_acd5641be5f4row15_col1 {\n",
       "            background-color:  #fff4ee;\n",
       "            color:  #000000;\n",
       "        }    #T_402fadfa_88fc_11ea_8461_acd5641be5f4row15_col2 {\n",
       "            background-color:  #fff0e9;\n",
       "            color:  #000000;\n",
       "        }    #T_402fadfa_88fc_11ea_8461_acd5641be5f4row15_col3 {\n",
       "            background-color:  #fff5f0;\n",
       "            color:  #000000;\n",
       "        }    #T_402fadfa_88fc_11ea_8461_acd5641be5f4row15_col4 {\n",
       "            background-color:  #fff4ef;\n",
       "            color:  #000000;\n",
       "        }    #T_402fadfa_88fc_11ea_8461_acd5641be5f4row16_col1 {\n",
       "            background-color:  #fff3ed;\n",
       "            color:  #000000;\n",
       "        }    #T_402fadfa_88fc_11ea_8461_acd5641be5f4row16_col2 {\n",
       "            background-color:  #fff4ee;\n",
       "            color:  #000000;\n",
       "        }    #T_402fadfa_88fc_11ea_8461_acd5641be5f4row16_col3 {\n",
       "            background-color:  #fff5f0;\n",
       "            color:  #000000;\n",
       "        }    #T_402fadfa_88fc_11ea_8461_acd5641be5f4row16_col4 {\n",
       "            background-color:  #fff3ed;\n",
       "            color:  #000000;\n",
       "        }    #T_402fadfa_88fc_11ea_8461_acd5641be5f4row17_col1 {\n",
       "            background-color:  #fff4ef;\n",
       "            color:  #000000;\n",
       "        }    #T_402fadfa_88fc_11ea_8461_acd5641be5f4row17_col2 {\n",
       "            background-color:  #fff4ef;\n",
       "            color:  #000000;\n",
       "        }    #T_402fadfa_88fc_11ea_8461_acd5641be5f4row17_col3 {\n",
       "            background-color:  #fff5f0;\n",
       "            color:  #000000;\n",
       "        }    #T_402fadfa_88fc_11ea_8461_acd5641be5f4row17_col4 {\n",
       "            background-color:  #fff5f0;\n",
       "            color:  #000000;\n",
       "        }    #T_402fadfa_88fc_11ea_8461_acd5641be5f4row18_col1 {\n",
       "            background-color:  #fff5f0;\n",
       "            color:  #000000;\n",
       "        }    #T_402fadfa_88fc_11ea_8461_acd5641be5f4row18_col2 {\n",
       "            background-color:  #fff5f0;\n",
       "            color:  #000000;\n",
       "        }    #T_402fadfa_88fc_11ea_8461_acd5641be5f4row18_col3 {\n",
       "            background-color:  #fff5f0;\n",
       "            color:  #000000;\n",
       "        }    #T_402fadfa_88fc_11ea_8461_acd5641be5f4row18_col4 {\n",
       "            background-color:  #fff5f0;\n",
       "            color:  #000000;\n",
       "        }    #T_402fadfa_88fc_11ea_8461_acd5641be5f4row19_col1 {\n",
       "            background-color:  #fff5f0;\n",
       "            color:  #000000;\n",
       "        }    #T_402fadfa_88fc_11ea_8461_acd5641be5f4row19_col2 {\n",
       "            background-color:  #fff4ef;\n",
       "            color:  #000000;\n",
       "        }    #T_402fadfa_88fc_11ea_8461_acd5641be5f4row19_col3 {\n",
       "            background-color:  #fff5f0;\n",
       "            color:  #000000;\n",
       "        }    #T_402fadfa_88fc_11ea_8461_acd5641be5f4row19_col4 {\n",
       "            background-color:  #fff5f0;\n",
       "            color:  #000000;\n",
       "        }    #T_402fadfa_88fc_11ea_8461_acd5641be5f4row20_col1 {\n",
       "            background-color:  #fff5f0;\n",
       "            color:  #000000;\n",
       "        }    #T_402fadfa_88fc_11ea_8461_acd5641be5f4row20_col2 {\n",
       "            background-color:  #fff5f0;\n",
       "            color:  #000000;\n",
       "        }    #T_402fadfa_88fc_11ea_8461_acd5641be5f4row20_col3 {\n",
       "            background-color:  #fff5f0;\n",
       "            color:  #000000;\n",
       "        }    #T_402fadfa_88fc_11ea_8461_acd5641be5f4row20_col4 {\n",
       "            background-color:  #fff5f0;\n",
       "            color:  #000000;\n",
       "        }    #T_402fadfa_88fc_11ea_8461_acd5641be5f4row21_col1 {\n",
       "            background-color:  #fff5f0;\n",
       "            color:  #000000;\n",
       "        }    #T_402fadfa_88fc_11ea_8461_acd5641be5f4row21_col2 {\n",
       "            background-color:  #fff4ef;\n",
       "            color:  #000000;\n",
       "        }    #T_402fadfa_88fc_11ea_8461_acd5641be5f4row21_col3 {\n",
       "            background-color:  #fff5f0;\n",
       "            color:  #000000;\n",
       "        }    #T_402fadfa_88fc_11ea_8461_acd5641be5f4row21_col4 {\n",
       "            background-color:  #fff5f0;\n",
       "            color:  #000000;\n",
       "        }    #T_402fadfa_88fc_11ea_8461_acd5641be5f4row22_col1 {\n",
       "            background-color:  #fff5f0;\n",
       "            color:  #000000;\n",
       "        }    #T_402fadfa_88fc_11ea_8461_acd5641be5f4row22_col2 {\n",
       "            background-color:  #fff5f0;\n",
       "            color:  #000000;\n",
       "        }    #T_402fadfa_88fc_11ea_8461_acd5641be5f4row22_col3 {\n",
       "            background-color:  #fff5f0;\n",
       "            color:  #000000;\n",
       "        }    #T_402fadfa_88fc_11ea_8461_acd5641be5f4row22_col4 {\n",
       "            background-color:  #fff5f0;\n",
       "            color:  #000000;\n",
       "        }    #T_402fadfa_88fc_11ea_8461_acd5641be5f4row23_col1 {\n",
       "            background-color:  #fff5f0;\n",
       "            color:  #000000;\n",
       "        }    #T_402fadfa_88fc_11ea_8461_acd5641be5f4row23_col2 {\n",
       "            background-color:  #fff5f0;\n",
       "            color:  #000000;\n",
       "        }    #T_402fadfa_88fc_11ea_8461_acd5641be5f4row23_col3 {\n",
       "            background-color:  #fff5f0;\n",
       "            color:  #000000;\n",
       "        }    #T_402fadfa_88fc_11ea_8461_acd5641be5f4row23_col4 {\n",
       "            background-color:  #fff5f0;\n",
       "            color:  #000000;\n",
       "        }    #T_402fadfa_88fc_11ea_8461_acd5641be5f4row24_col1 {\n",
       "            background-color:  #fff5f0;\n",
       "            color:  #000000;\n",
       "        }    #T_402fadfa_88fc_11ea_8461_acd5641be5f4row24_col2 {\n",
       "            background-color:  #fff5f0;\n",
       "            color:  #000000;\n",
       "        }    #T_402fadfa_88fc_11ea_8461_acd5641be5f4row24_col3 {\n",
       "            background-color:  #fff5f0;\n",
       "            color:  #000000;\n",
       "        }    #T_402fadfa_88fc_11ea_8461_acd5641be5f4row24_col4 {\n",
       "            background-color:  #fff5f0;\n",
       "            color:  #000000;\n",
       "        }    #T_402fadfa_88fc_11ea_8461_acd5641be5f4row25_col1 {\n",
       "            background-color:  #fff5f0;\n",
       "            color:  #000000;\n",
       "        }    #T_402fadfa_88fc_11ea_8461_acd5641be5f4row25_col2 {\n",
       "            background-color:  #fff5f0;\n",
       "            color:  #000000;\n",
       "        }    #T_402fadfa_88fc_11ea_8461_acd5641be5f4row25_col3 {\n",
       "            background-color:  #fff5f0;\n",
       "            color:  #000000;\n",
       "        }    #T_402fadfa_88fc_11ea_8461_acd5641be5f4row25_col4 {\n",
       "            background-color:  #fff5f0;\n",
       "            color:  #000000;\n",
       "        }    #T_402fadfa_88fc_11ea_8461_acd5641be5f4row26_col1 {\n",
       "            background-color:  #fff5f0;\n",
       "            color:  #000000;\n",
       "        }    #T_402fadfa_88fc_11ea_8461_acd5641be5f4row26_col2 {\n",
       "            background-color:  #fff5f0;\n",
       "            color:  #000000;\n",
       "        }    #T_402fadfa_88fc_11ea_8461_acd5641be5f4row26_col3 {\n",
       "            background-color:  #fff5f0;\n",
       "            color:  #000000;\n",
       "        }    #T_402fadfa_88fc_11ea_8461_acd5641be5f4row26_col4 {\n",
       "            background-color:  #fff5f0;\n",
       "            color:  #000000;\n",
       "        }    #T_402fadfa_88fc_11ea_8461_acd5641be5f4row27_col1 {\n",
       "            background-color:  #fff5f0;\n",
       "            color:  #000000;\n",
       "        }    #T_402fadfa_88fc_11ea_8461_acd5641be5f4row27_col2 {\n",
       "            background-color:  #fff5f0;\n",
       "            color:  #000000;\n",
       "        }    #T_402fadfa_88fc_11ea_8461_acd5641be5f4row27_col3 {\n",
       "            background-color:  #fff5f0;\n",
       "            color:  #000000;\n",
       "        }    #T_402fadfa_88fc_11ea_8461_acd5641be5f4row27_col4 {\n",
       "            background-color:  #fff5f0;\n",
       "            color:  #000000;\n",
       "        }    #T_402fadfa_88fc_11ea_8461_acd5641be5f4row28_col1 {\n",
       "            background-color:  #fff5f0;\n",
       "            color:  #000000;\n",
       "        }    #T_402fadfa_88fc_11ea_8461_acd5641be5f4row28_col2 {\n",
       "            background-color:  #fff5f0;\n",
       "            color:  #000000;\n",
       "        }    #T_402fadfa_88fc_11ea_8461_acd5641be5f4row28_col3 {\n",
       "            background-color:  #fff5f0;\n",
       "            color:  #000000;\n",
       "        }    #T_402fadfa_88fc_11ea_8461_acd5641be5f4row28_col4 {\n",
       "            background-color:  #fff5f0;\n",
       "            color:  #000000;\n",
       "        }    #T_402fadfa_88fc_11ea_8461_acd5641be5f4row29_col1 {\n",
       "            background-color:  #fff5f0;\n",
       "            color:  #000000;\n",
       "        }    #T_402fadfa_88fc_11ea_8461_acd5641be5f4row29_col2 {\n",
       "            background-color:  #fff5f0;\n",
       "            color:  #000000;\n",
       "        }    #T_402fadfa_88fc_11ea_8461_acd5641be5f4row29_col3 {\n",
       "            background-color:  #fff5f0;\n",
       "            color:  #000000;\n",
       "        }    #T_402fadfa_88fc_11ea_8461_acd5641be5f4row29_col4 {\n",
       "            background-color:  #fff5f0;\n",
       "            color:  #000000;\n",
       "        }    #T_402fadfa_88fc_11ea_8461_acd5641be5f4row30_col1 {\n",
       "            background-color:  #fff5f0;\n",
       "            color:  #000000;\n",
       "        }    #T_402fadfa_88fc_11ea_8461_acd5641be5f4row30_col2 {\n",
       "            background-color:  #fff5f0;\n",
       "            color:  #000000;\n",
       "        }    #T_402fadfa_88fc_11ea_8461_acd5641be5f4row30_col3 {\n",
       "            background-color:  #fff5f0;\n",
       "            color:  #000000;\n",
       "        }    #T_402fadfa_88fc_11ea_8461_acd5641be5f4row30_col4 {\n",
       "            background-color:  #fff5f0;\n",
       "            color:  #000000;\n",
       "        }    #T_402fadfa_88fc_11ea_8461_acd5641be5f4row31_col1 {\n",
       "            background-color:  #fff5f0;\n",
       "            color:  #000000;\n",
       "        }    #T_402fadfa_88fc_11ea_8461_acd5641be5f4row31_col2 {\n",
       "            background-color:  #fff5f0;\n",
       "            color:  #000000;\n",
       "        }    #T_402fadfa_88fc_11ea_8461_acd5641be5f4row31_col3 {\n",
       "            background-color:  #fff5f0;\n",
       "            color:  #000000;\n",
       "        }    #T_402fadfa_88fc_11ea_8461_acd5641be5f4row31_col4 {\n",
       "            background-color:  #fff5f0;\n",
       "            color:  #000000;\n",
       "        }    #T_402fadfa_88fc_11ea_8461_acd5641be5f4row32_col1 {\n",
       "            background-color:  #fff5f0;\n",
       "            color:  #000000;\n",
       "        }    #T_402fadfa_88fc_11ea_8461_acd5641be5f4row32_col2 {\n",
       "            background-color:  #fff5f0;\n",
       "            color:  #000000;\n",
       "        }    #T_402fadfa_88fc_11ea_8461_acd5641be5f4row32_col3 {\n",
       "            background-color:  #fff5f0;\n",
       "            color:  #000000;\n",
       "        }    #T_402fadfa_88fc_11ea_8461_acd5641be5f4row32_col4 {\n",
       "            background-color:  #fff5f0;\n",
       "            color:  #000000;\n",
       "        }    #T_402fadfa_88fc_11ea_8461_acd5641be5f4row33_col1 {\n",
       "            background-color:  #fff5f0;\n",
       "            color:  #000000;\n",
       "        }    #T_402fadfa_88fc_11ea_8461_acd5641be5f4row33_col2 {\n",
       "            background-color:  #fff5f0;\n",
       "            color:  #000000;\n",
       "        }    #T_402fadfa_88fc_11ea_8461_acd5641be5f4row33_col3 {\n",
       "            background-color:  #fff5f0;\n",
       "            color:  #000000;\n",
       "        }    #T_402fadfa_88fc_11ea_8461_acd5641be5f4row33_col4 {\n",
       "            background-color:  #fff5f0;\n",
       "            color:  #000000;\n",
       "        }    #T_402fadfa_88fc_11ea_8461_acd5641be5f4row34_col1 {\n",
       "            background-color:  #fff5f0;\n",
       "            color:  #000000;\n",
       "        }    #T_402fadfa_88fc_11ea_8461_acd5641be5f4row34_col2 {\n",
       "            background-color:  #fff5f0;\n",
       "            color:  #000000;\n",
       "        }    #T_402fadfa_88fc_11ea_8461_acd5641be5f4row34_col3 {\n",
       "            background-color:  #fff5f0;\n",
       "            color:  #000000;\n",
       "        }    #T_402fadfa_88fc_11ea_8461_acd5641be5f4row34_col4 {\n",
       "            background-color:  #fff5f0;\n",
       "            color:  #000000;\n",
       "        }    #T_402fadfa_88fc_11ea_8461_acd5641be5f4row35_col1 {\n",
       "            background-color:  #fff5f0;\n",
       "            color:  #000000;\n",
       "        }    #T_402fadfa_88fc_11ea_8461_acd5641be5f4row35_col2 {\n",
       "            background-color:  #fff5f0;\n",
       "            color:  #000000;\n",
       "        }    #T_402fadfa_88fc_11ea_8461_acd5641be5f4row35_col3 {\n",
       "            background-color:  #fff5f0;\n",
       "            color:  #000000;\n",
       "        }    #T_402fadfa_88fc_11ea_8461_acd5641be5f4row35_col4 {\n",
       "            background-color:  #fff5f0;\n",
       "            color:  #000000;\n",
       "        }    #T_402fadfa_88fc_11ea_8461_acd5641be5f4row36_col1 {\n",
       "            background-color:  #fff5f0;\n",
       "            color:  #000000;\n",
       "        }    #T_402fadfa_88fc_11ea_8461_acd5641be5f4row36_col2 {\n",
       "            background-color:  #fff5f0;\n",
       "            color:  #000000;\n",
       "        }    #T_402fadfa_88fc_11ea_8461_acd5641be5f4row36_col3 {\n",
       "            background-color:  #fff5f0;\n",
       "            color:  #000000;\n",
       "        }    #T_402fadfa_88fc_11ea_8461_acd5641be5f4row36_col4 {\n",
       "            background-color:  #fff5f0;\n",
       "            color:  #000000;\n",
       "        }    #T_402fadfa_88fc_11ea_8461_acd5641be5f4row37_col1 {\n",
       "            background-color:  #fff5f0;\n",
       "            color:  #000000;\n",
       "        }    #T_402fadfa_88fc_11ea_8461_acd5641be5f4row37_col2 {\n",
       "            background-color:  #fff5f0;\n",
       "            color:  #000000;\n",
       "        }    #T_402fadfa_88fc_11ea_8461_acd5641be5f4row37_col3 {\n",
       "            background-color:  #fff5f0;\n",
       "            color:  #000000;\n",
       "        }    #T_402fadfa_88fc_11ea_8461_acd5641be5f4row37_col4 {\n",
       "            background-color:  #fff5f0;\n",
       "            color:  #000000;\n",
       "        }</style><table id=\"T_402fadfa_88fc_11ea_8461_acd5641be5f4\" ><thead>    <tr>        <th class=\"blank level0\" ></th>        <th class=\"col_heading level0 col0\" >State</th>        <th class=\"col_heading level0 col1\" >Confirmed</th>        <th class=\"col_heading level0 col2\" >Recovered</th>        <th class=\"col_heading level0 col3\" >Deaths</th>        <th class=\"col_heading level0 col4\" >Active</th>        <th class=\"col_heading level0 col5\" >State_code</th>    </tr></thead><tbody>\n",
       "                <tr>\n",
       "                        <th id=\"T_402fadfa_88fc_11ea_8461_acd5641be5f4level0_row0\" class=\"row_heading level0 row0\" >0</th>\n",
       "                        <td id=\"T_402fadfa_88fc_11ea_8461_acd5641be5f4row0_col0\" class=\"data row0 col0\" >Total</td>\n",
       "                        <td id=\"T_402fadfa_88fc_11ea_8461_acd5641be5f4row0_col1\" class=\"data row0 col1\" >29458</td>\n",
       "                        <td id=\"T_402fadfa_88fc_11ea_8461_acd5641be5f4row0_col2\" class=\"data row0 col2\" >7137</td>\n",
       "                        <td id=\"T_402fadfa_88fc_11ea_8461_acd5641be5f4row0_col3\" class=\"data row0 col3\" >939</td>\n",
       "                        <td id=\"T_402fadfa_88fc_11ea_8461_acd5641be5f4row0_col4\" class=\"data row0 col4\" >21382</td>\n",
       "                        <td id=\"T_402fadfa_88fc_11ea_8461_acd5641be5f4row0_col5\" class=\"data row0 col5\" >TT</td>\n",
       "            </tr>\n",
       "            <tr>\n",
       "                        <th id=\"T_402fadfa_88fc_11ea_8461_acd5641be5f4level0_row1\" class=\"row_heading level0 row1\" >1</th>\n",
       "                        <td id=\"T_402fadfa_88fc_11ea_8461_acd5641be5f4row1_col0\" class=\"data row1 col0\" >Maharashtra</td>\n",
       "                        <td id=\"T_402fadfa_88fc_11ea_8461_acd5641be5f4row1_col1\" class=\"data row1 col1\" >8590</td>\n",
       "                        <td id=\"T_402fadfa_88fc_11ea_8461_acd5641be5f4row1_col2\" class=\"data row1 col2\" >1282</td>\n",
       "                        <td id=\"T_402fadfa_88fc_11ea_8461_acd5641be5f4row1_col3\" class=\"data row1 col3\" >369</td>\n",
       "                        <td id=\"T_402fadfa_88fc_11ea_8461_acd5641be5f4row1_col4\" class=\"data row1 col4\" >6939</td>\n",
       "                        <td id=\"T_402fadfa_88fc_11ea_8461_acd5641be5f4row1_col5\" class=\"data row1 col5\" >MH</td>\n",
       "            </tr>\n",
       "            <tr>\n",
       "                        <th id=\"T_402fadfa_88fc_11ea_8461_acd5641be5f4level0_row2\" class=\"row_heading level0 row2\" >2</th>\n",
       "                        <td id=\"T_402fadfa_88fc_11ea_8461_acd5641be5f4row2_col0\" class=\"data row2 col0\" >Gujarat</td>\n",
       "                        <td id=\"T_402fadfa_88fc_11ea_8461_acd5641be5f4row2_col1\" class=\"data row2 col1\" >3548</td>\n",
       "                        <td id=\"T_402fadfa_88fc_11ea_8461_acd5641be5f4row2_col2\" class=\"data row2 col2\" >394</td>\n",
       "                        <td id=\"T_402fadfa_88fc_11ea_8461_acd5641be5f4row2_col3\" class=\"data row2 col3\" >162</td>\n",
       "                        <td id=\"T_402fadfa_88fc_11ea_8461_acd5641be5f4row2_col4\" class=\"data row2 col4\" >2992</td>\n",
       "                        <td id=\"T_402fadfa_88fc_11ea_8461_acd5641be5f4row2_col5\" class=\"data row2 col5\" >GJ</td>\n",
       "            </tr>\n",
       "            <tr>\n",
       "                        <th id=\"T_402fadfa_88fc_11ea_8461_acd5641be5f4level0_row3\" class=\"row_heading level0 row3\" >3</th>\n",
       "                        <td id=\"T_402fadfa_88fc_11ea_8461_acd5641be5f4row3_col0\" class=\"data row3 col0\" >Delhi</td>\n",
       "                        <td id=\"T_402fadfa_88fc_11ea_8461_acd5641be5f4row3_col1\" class=\"data row3 col1\" >3108</td>\n",
       "                        <td id=\"T_402fadfa_88fc_11ea_8461_acd5641be5f4row3_col2\" class=\"data row3 col2\" >877</td>\n",
       "                        <td id=\"T_402fadfa_88fc_11ea_8461_acd5641be5f4row3_col3\" class=\"data row3 col3\" >54</td>\n",
       "                        <td id=\"T_402fadfa_88fc_11ea_8461_acd5641be5f4row3_col4\" class=\"data row3 col4\" >2177</td>\n",
       "                        <td id=\"T_402fadfa_88fc_11ea_8461_acd5641be5f4row3_col5\" class=\"data row3 col5\" >DL</td>\n",
       "            </tr>\n",
       "            <tr>\n",
       "                        <th id=\"T_402fadfa_88fc_11ea_8461_acd5641be5f4level0_row4\" class=\"row_heading level0 row4\" >4</th>\n",
       "                        <td id=\"T_402fadfa_88fc_11ea_8461_acd5641be5f4row4_col0\" class=\"data row4 col0\" >Rajasthan</td>\n",
       "                        <td id=\"T_402fadfa_88fc_11ea_8461_acd5641be5f4row4_col1\" class=\"data row4 col1\" >2262</td>\n",
       "                        <td id=\"T_402fadfa_88fc_11ea_8461_acd5641be5f4row4_col2\" class=\"data row4 col2\" >744</td>\n",
       "                        <td id=\"T_402fadfa_88fc_11ea_8461_acd5641be5f4row4_col3\" class=\"data row4 col3\" >50</td>\n",
       "                        <td id=\"T_402fadfa_88fc_11ea_8461_acd5641be5f4row4_col4\" class=\"data row4 col4\" >1468</td>\n",
       "                        <td id=\"T_402fadfa_88fc_11ea_8461_acd5641be5f4row4_col5\" class=\"data row4 col5\" >RJ</td>\n",
       "            </tr>\n",
       "            <tr>\n",
       "                        <th id=\"T_402fadfa_88fc_11ea_8461_acd5641be5f4level0_row5\" class=\"row_heading level0 row5\" >5</th>\n",
       "                        <td id=\"T_402fadfa_88fc_11ea_8461_acd5641be5f4row5_col0\" class=\"data row5 col0\" >Madhya Pradesh</td>\n",
       "                        <td id=\"T_402fadfa_88fc_11ea_8461_acd5641be5f4row5_col1\" class=\"data row5 col1\" >2165</td>\n",
       "                        <td id=\"T_402fadfa_88fc_11ea_8461_acd5641be5f4row5_col2\" class=\"data row5 col2\" >357</td>\n",
       "                        <td id=\"T_402fadfa_88fc_11ea_8461_acd5641be5f4row5_col3\" class=\"data row5 col3\" >110</td>\n",
       "                        <td id=\"T_402fadfa_88fc_11ea_8461_acd5641be5f4row5_col4\" class=\"data row5 col4\" >1698</td>\n",
       "                        <td id=\"T_402fadfa_88fc_11ea_8461_acd5641be5f4row5_col5\" class=\"data row5 col5\" >MP</td>\n",
       "            </tr>\n",
       "            <tr>\n",
       "                        <th id=\"T_402fadfa_88fc_11ea_8461_acd5641be5f4level0_row6\" class=\"row_heading level0 row6\" >6</th>\n",
       "                        <td id=\"T_402fadfa_88fc_11ea_8461_acd5641be5f4row6_col0\" class=\"data row6 col0\" >Tamil Nadu</td>\n",
       "                        <td id=\"T_402fadfa_88fc_11ea_8461_acd5641be5f4row6_col1\" class=\"data row6 col1\" >1937</td>\n",
       "                        <td id=\"T_402fadfa_88fc_11ea_8461_acd5641be5f4row6_col2\" class=\"data row6 col2\" >1101</td>\n",
       "                        <td id=\"T_402fadfa_88fc_11ea_8461_acd5641be5f4row6_col3\" class=\"data row6 col3\" >24</td>\n",
       "                        <td id=\"T_402fadfa_88fc_11ea_8461_acd5641be5f4row6_col4\" class=\"data row6 col4\" >812</td>\n",
       "                        <td id=\"T_402fadfa_88fc_11ea_8461_acd5641be5f4row6_col5\" class=\"data row6 col5\" >TN</td>\n",
       "            </tr>\n",
       "            <tr>\n",
       "                        <th id=\"T_402fadfa_88fc_11ea_8461_acd5641be5f4level0_row7\" class=\"row_heading level0 row7\" >7</th>\n",
       "                        <td id=\"T_402fadfa_88fc_11ea_8461_acd5641be5f4row7_col0\" class=\"data row7 col0\" >Uttar Pradesh</td>\n",
       "                        <td id=\"T_402fadfa_88fc_11ea_8461_acd5641be5f4row7_col1\" class=\"data row7 col1\" >1986</td>\n",
       "                        <td id=\"T_402fadfa_88fc_11ea_8461_acd5641be5f4row7_col2\" class=\"data row7 col2\" >399</td>\n",
       "                        <td id=\"T_402fadfa_88fc_11ea_8461_acd5641be5f4row7_col3\" class=\"data row7 col3\" >31</td>\n",
       "                        <td id=\"T_402fadfa_88fc_11ea_8461_acd5641be5f4row7_col4\" class=\"data row7 col4\" >1556</td>\n",
       "                        <td id=\"T_402fadfa_88fc_11ea_8461_acd5641be5f4row7_col5\" class=\"data row7 col5\" >UP</td>\n",
       "            </tr>\n",
       "            <tr>\n",
       "                        <th id=\"T_402fadfa_88fc_11ea_8461_acd5641be5f4level0_row8\" class=\"row_heading level0 row8\" >8</th>\n",
       "                        <td id=\"T_402fadfa_88fc_11ea_8461_acd5641be5f4row8_col0\" class=\"data row8 col0\" >Andhra Pradesh</td>\n",
       "                        <td id=\"T_402fadfa_88fc_11ea_8461_acd5641be5f4row8_col1\" class=\"data row8 col1\" >1177</td>\n",
       "                        <td id=\"T_402fadfa_88fc_11ea_8461_acd5641be5f4row8_col2\" class=\"data row8 col2\" >235</td>\n",
       "                        <td id=\"T_402fadfa_88fc_11ea_8461_acd5641be5f4row8_col3\" class=\"data row8 col3\" >31</td>\n",
       "                        <td id=\"T_402fadfa_88fc_11ea_8461_acd5641be5f4row8_col4\" class=\"data row8 col4\" >911</td>\n",
       "                        <td id=\"T_402fadfa_88fc_11ea_8461_acd5641be5f4row8_col5\" class=\"data row8 col5\" >AP</td>\n",
       "            </tr>\n",
       "            <tr>\n",
       "                        <th id=\"T_402fadfa_88fc_11ea_8461_acd5641be5f4level0_row9\" class=\"row_heading level0 row9\" >9</th>\n",
       "                        <td id=\"T_402fadfa_88fc_11ea_8461_acd5641be5f4row9_col0\" class=\"data row9 col0\" >Telangana</td>\n",
       "                        <td id=\"T_402fadfa_88fc_11ea_8461_acd5641be5f4row9_col1\" class=\"data row9 col1\" >1003</td>\n",
       "                        <td id=\"T_402fadfa_88fc_11ea_8461_acd5641be5f4row9_col2\" class=\"data row9 col2\" >332</td>\n",
       "                        <td id=\"T_402fadfa_88fc_11ea_8461_acd5641be5f4row9_col3\" class=\"data row9 col3\" >25</td>\n",
       "                        <td id=\"T_402fadfa_88fc_11ea_8461_acd5641be5f4row9_col4\" class=\"data row9 col4\" >646</td>\n",
       "                        <td id=\"T_402fadfa_88fc_11ea_8461_acd5641be5f4row9_col5\" class=\"data row9 col5\" >TG</td>\n",
       "            </tr>\n",
       "            <tr>\n",
       "                        <th id=\"T_402fadfa_88fc_11ea_8461_acd5641be5f4level0_row10\" class=\"row_heading level0 row10\" >10</th>\n",
       "                        <td id=\"T_402fadfa_88fc_11ea_8461_acd5641be5f4row10_col0\" class=\"data row10 col0\" >West Bengal</td>\n",
       "                        <td id=\"T_402fadfa_88fc_11ea_8461_acd5641be5f4row10_col1\" class=\"data row10 col1\" >649</td>\n",
       "                        <td id=\"T_402fadfa_88fc_11ea_8461_acd5641be5f4row10_col2\" class=\"data row10 col2\" >105</td>\n",
       "                        <td id=\"T_402fadfa_88fc_11ea_8461_acd5641be5f4row10_col3\" class=\"data row10 col3\" >20</td>\n",
       "                        <td id=\"T_402fadfa_88fc_11ea_8461_acd5641be5f4row10_col4\" class=\"data row10 col4\" >524</td>\n",
       "                        <td id=\"T_402fadfa_88fc_11ea_8461_acd5641be5f4row10_col5\" class=\"data row10 col5\" >WB</td>\n",
       "            </tr>\n",
       "            <tr>\n",
       "                        <th id=\"T_402fadfa_88fc_11ea_8461_acd5641be5f4level0_row11\" class=\"row_heading level0 row11\" >11</th>\n",
       "                        <td id=\"T_402fadfa_88fc_11ea_8461_acd5641be5f4row11_col0\" class=\"data row11 col0\" >Jammu and Kashmir</td>\n",
       "                        <td id=\"T_402fadfa_88fc_11ea_8461_acd5641be5f4row11_col1\" class=\"data row11 col1\" >546</td>\n",
       "                        <td id=\"T_402fadfa_88fc_11ea_8461_acd5641be5f4row11_col2\" class=\"data row11 col2\" >164</td>\n",
       "                        <td id=\"T_402fadfa_88fc_11ea_8461_acd5641be5f4row11_col3\" class=\"data row11 col3\" >7</td>\n",
       "                        <td id=\"T_402fadfa_88fc_11ea_8461_acd5641be5f4row11_col4\" class=\"data row11 col4\" >375</td>\n",
       "                        <td id=\"T_402fadfa_88fc_11ea_8461_acd5641be5f4row11_col5\" class=\"data row11 col5\" >JK</td>\n",
       "            </tr>\n",
       "            <tr>\n",
       "                        <th id=\"T_402fadfa_88fc_11ea_8461_acd5641be5f4level0_row12\" class=\"row_heading level0 row12\" >12</th>\n",
       "                        <td id=\"T_402fadfa_88fc_11ea_8461_acd5641be5f4row12_col0\" class=\"data row12 col0\" >Karnataka</td>\n",
       "                        <td id=\"T_402fadfa_88fc_11ea_8461_acd5641be5f4row12_col1\" class=\"data row12 col1\" >512</td>\n",
       "                        <td id=\"T_402fadfa_88fc_11ea_8461_acd5641be5f4row12_col2\" class=\"data row12 col2\" >193</td>\n",
       "                        <td id=\"T_402fadfa_88fc_11ea_8461_acd5641be5f4row12_col3\" class=\"data row12 col3\" >20</td>\n",
       "                        <td id=\"T_402fadfa_88fc_11ea_8461_acd5641be5f4row12_col4\" class=\"data row12 col4\" >299</td>\n",
       "                        <td id=\"T_402fadfa_88fc_11ea_8461_acd5641be5f4row12_col5\" class=\"data row12 col5\" >KA</td>\n",
       "            </tr>\n",
       "            <tr>\n",
       "                        <th id=\"T_402fadfa_88fc_11ea_8461_acd5641be5f4level0_row13\" class=\"row_heading level0 row13\" >13</th>\n",
       "                        <td id=\"T_402fadfa_88fc_11ea_8461_acd5641be5f4row13_col0\" class=\"data row13 col0\" >Kerala</td>\n",
       "                        <td id=\"T_402fadfa_88fc_11ea_8461_acd5641be5f4row13_col1\" class=\"data row13 col1\" >482</td>\n",
       "                        <td id=\"T_402fadfa_88fc_11ea_8461_acd5641be5f4row13_col2\" class=\"data row13 col2\" >355</td>\n",
       "                        <td id=\"T_402fadfa_88fc_11ea_8461_acd5641be5f4row13_col3\" class=\"data row13 col3\" >4</td>\n",
       "                        <td id=\"T_402fadfa_88fc_11ea_8461_acd5641be5f4row13_col4\" class=\"data row13 col4\" >123</td>\n",
       "                        <td id=\"T_402fadfa_88fc_11ea_8461_acd5641be5f4row13_col5\" class=\"data row13 col5\" >KL</td>\n",
       "            </tr>\n",
       "            <tr>\n",
       "                        <th id=\"T_402fadfa_88fc_11ea_8461_acd5641be5f4level0_row14\" class=\"row_heading level0 row14\" >14</th>\n",
       "                        <td id=\"T_402fadfa_88fc_11ea_8461_acd5641be5f4row14_col0\" class=\"data row14 col0\" >Punjab</td>\n",
       "                        <td id=\"T_402fadfa_88fc_11ea_8461_acd5641be5f4row14_col1\" class=\"data row14 col1\" >330</td>\n",
       "                        <td id=\"T_402fadfa_88fc_11ea_8461_acd5641be5f4row14_col2\" class=\"data row14 col2\" >98</td>\n",
       "                        <td id=\"T_402fadfa_88fc_11ea_8461_acd5641be5f4row14_col3\" class=\"data row14 col3\" >19</td>\n",
       "                        <td id=\"T_402fadfa_88fc_11ea_8461_acd5641be5f4row14_col4\" class=\"data row14 col4\" >213</td>\n",
       "                        <td id=\"T_402fadfa_88fc_11ea_8461_acd5641be5f4row14_col5\" class=\"data row14 col5\" >PB</td>\n",
       "            </tr>\n",
       "            <tr>\n",
       "                        <th id=\"T_402fadfa_88fc_11ea_8461_acd5641be5f4level0_row15\" class=\"row_heading level0 row15\" >15</th>\n",
       "                        <td id=\"T_402fadfa_88fc_11ea_8461_acd5641be5f4row15_col0\" class=\"data row15 col0\" >Haryana</td>\n",
       "                        <td id=\"T_402fadfa_88fc_11ea_8461_acd5641be5f4row15_col1\" class=\"data row15 col1\" >301</td>\n",
       "                        <td id=\"T_402fadfa_88fc_11ea_8461_acd5641be5f4row15_col2\" class=\"data row15 col2\" >213</td>\n",
       "                        <td id=\"T_402fadfa_88fc_11ea_8461_acd5641be5f4row15_col3\" class=\"data row15 col3\" >3</td>\n",
       "                        <td id=\"T_402fadfa_88fc_11ea_8461_acd5641be5f4row15_col4\" class=\"data row15 col4\" >85</td>\n",
       "                        <td id=\"T_402fadfa_88fc_11ea_8461_acd5641be5f4row15_col5\" class=\"data row15 col5\" >HR</td>\n",
       "            </tr>\n",
       "            <tr>\n",
       "                        <th id=\"T_402fadfa_88fc_11ea_8461_acd5641be5f4level0_row16\" class=\"row_heading level0 row16\" >16</th>\n",
       "                        <td id=\"T_402fadfa_88fc_11ea_8461_acd5641be5f4row16_col0\" class=\"data row16 col0\" >Bihar</td>\n",
       "                        <td id=\"T_402fadfa_88fc_11ea_8461_acd5641be5f4row16_col1\" class=\"data row16 col1\" >346</td>\n",
       "                        <td id=\"T_402fadfa_88fc_11ea_8461_acd5641be5f4row16_col2\" class=\"data row16 col2\" >56</td>\n",
       "                        <td id=\"T_402fadfa_88fc_11ea_8461_acd5641be5f4row16_col3\" class=\"data row16 col3\" >2</td>\n",
       "                        <td id=\"T_402fadfa_88fc_11ea_8461_acd5641be5f4row16_col4\" class=\"data row16 col4\" >288</td>\n",
       "                        <td id=\"T_402fadfa_88fc_11ea_8461_acd5641be5f4row16_col5\" class=\"data row16 col5\" >BR</td>\n",
       "            </tr>\n",
       "            <tr>\n",
       "                        <th id=\"T_402fadfa_88fc_11ea_8461_acd5641be5f4level0_row17\" class=\"row_heading level0 row17\" >17</th>\n",
       "                        <td id=\"T_402fadfa_88fc_11ea_8461_acd5641be5f4row17_col0\" class=\"data row17 col0\" >Odisha</td>\n",
       "                        <td id=\"T_402fadfa_88fc_11ea_8461_acd5641be5f4row17_col1\" class=\"data row17 col1\" >118</td>\n",
       "                        <td id=\"T_402fadfa_88fc_11ea_8461_acd5641be5f4row17_col2\" class=\"data row17 col2\" >37</td>\n",
       "                        <td id=\"T_402fadfa_88fc_11ea_8461_acd5641be5f4row17_col3\" class=\"data row17 col3\" >1</td>\n",
       "                        <td id=\"T_402fadfa_88fc_11ea_8461_acd5641be5f4row17_col4\" class=\"data row17 col4\" >80</td>\n",
       "                        <td id=\"T_402fadfa_88fc_11ea_8461_acd5641be5f4row17_col5\" class=\"data row17 col5\" >OR</td>\n",
       "            </tr>\n",
       "            <tr>\n",
       "                        <th id=\"T_402fadfa_88fc_11ea_8461_acd5641be5f4level0_row18\" class=\"row_heading level0 row18\" >18</th>\n",
       "                        <td id=\"T_402fadfa_88fc_11ea_8461_acd5641be5f4row18_col0\" class=\"data row18 col0\" >Jharkhand</td>\n",
       "                        <td id=\"T_402fadfa_88fc_11ea_8461_acd5641be5f4row18_col1\" class=\"data row18 col1\" >103</td>\n",
       "                        <td id=\"T_402fadfa_88fc_11ea_8461_acd5641be5f4row18_col2\" class=\"data row18 col2\" >17</td>\n",
       "                        <td id=\"T_402fadfa_88fc_11ea_8461_acd5641be5f4row18_col3\" class=\"data row18 col3\" >3</td>\n",
       "                        <td id=\"T_402fadfa_88fc_11ea_8461_acd5641be5f4row18_col4\" class=\"data row18 col4\" >83</td>\n",
       "                        <td id=\"T_402fadfa_88fc_11ea_8461_acd5641be5f4row18_col5\" class=\"data row18 col5\" >JH</td>\n",
       "            </tr>\n",
       "            <tr>\n",
       "                        <th id=\"T_402fadfa_88fc_11ea_8461_acd5641be5f4level0_row19\" class=\"row_heading level0 row19\" >19</th>\n",
       "                        <td id=\"T_402fadfa_88fc_11ea_8461_acd5641be5f4row19_col0\" class=\"data row19 col0\" >Uttarakhand</td>\n",
       "                        <td id=\"T_402fadfa_88fc_11ea_8461_acd5641be5f4row19_col1\" class=\"data row19 col1\" >51</td>\n",
       "                        <td id=\"T_402fadfa_88fc_11ea_8461_acd5641be5f4row19_col2\" class=\"data row19 col2\" >33</td>\n",
       "                        <td id=\"T_402fadfa_88fc_11ea_8461_acd5641be5f4row19_col3\" class=\"data row19 col3\" >0</td>\n",
       "                        <td id=\"T_402fadfa_88fc_11ea_8461_acd5641be5f4row19_col4\" class=\"data row19 col4\" >18</td>\n",
       "                        <td id=\"T_402fadfa_88fc_11ea_8461_acd5641be5f4row19_col5\" class=\"data row19 col5\" >UT</td>\n",
       "            </tr>\n",
       "            <tr>\n",
       "                        <th id=\"T_402fadfa_88fc_11ea_8461_acd5641be5f4level0_row20\" class=\"row_heading level0 row20\" >20</th>\n",
       "                        <td id=\"T_402fadfa_88fc_11ea_8461_acd5641be5f4row20_col0\" class=\"data row20 col0\" >Himachal Pradesh</td>\n",
       "                        <td id=\"T_402fadfa_88fc_11ea_8461_acd5641be5f4row20_col1\" class=\"data row20 col1\" >40</td>\n",
       "                        <td id=\"T_402fadfa_88fc_11ea_8461_acd5641be5f4row20_col2\" class=\"data row20 col2\" >25</td>\n",
       "                        <td id=\"T_402fadfa_88fc_11ea_8461_acd5641be5f4row20_col3\" class=\"data row20 col3\" >2</td>\n",
       "                        <td id=\"T_402fadfa_88fc_11ea_8461_acd5641be5f4row20_col4\" class=\"data row20 col4\" >13</td>\n",
       "                        <td id=\"T_402fadfa_88fc_11ea_8461_acd5641be5f4row20_col5\" class=\"data row20 col5\" >HP</td>\n",
       "            </tr>\n",
       "            <tr>\n",
       "                        <th id=\"T_402fadfa_88fc_11ea_8461_acd5641be5f4level0_row21\" class=\"row_heading level0 row21\" >21</th>\n",
       "                        <td id=\"T_402fadfa_88fc_11ea_8461_acd5641be5f4row21_col0\" class=\"data row21 col0\" >Chhattisgarh</td>\n",
       "                        <td id=\"T_402fadfa_88fc_11ea_8461_acd5641be5f4row21_col1\" class=\"data row21 col1\" >37</td>\n",
       "                        <td id=\"T_402fadfa_88fc_11ea_8461_acd5641be5f4row21_col2\" class=\"data row21 col2\" >32</td>\n",
       "                        <td id=\"T_402fadfa_88fc_11ea_8461_acd5641be5f4row21_col3\" class=\"data row21 col3\" >0</td>\n",
       "                        <td id=\"T_402fadfa_88fc_11ea_8461_acd5641be5f4row21_col4\" class=\"data row21 col4\" >5</td>\n",
       "                        <td id=\"T_402fadfa_88fc_11ea_8461_acd5641be5f4row21_col5\" class=\"data row21 col5\" >CT</td>\n",
       "            </tr>\n",
       "            <tr>\n",
       "                        <th id=\"T_402fadfa_88fc_11ea_8461_acd5641be5f4level0_row22\" class=\"row_heading level0 row22\" >22</th>\n",
       "                        <td id=\"T_402fadfa_88fc_11ea_8461_acd5641be5f4row22_col0\" class=\"data row22 col0\" >Assam</td>\n",
       "                        <td id=\"T_402fadfa_88fc_11ea_8461_acd5641be5f4row22_col1\" class=\"data row22 col1\" >36</td>\n",
       "                        <td id=\"T_402fadfa_88fc_11ea_8461_acd5641be5f4row22_col2\" class=\"data row22 col2\" >27</td>\n",
       "                        <td id=\"T_402fadfa_88fc_11ea_8461_acd5641be5f4row22_col3\" class=\"data row22 col3\" >1</td>\n",
       "                        <td id=\"T_402fadfa_88fc_11ea_8461_acd5641be5f4row22_col4\" class=\"data row22 col4\" >8</td>\n",
       "                        <td id=\"T_402fadfa_88fc_11ea_8461_acd5641be5f4row22_col5\" class=\"data row22 col5\" >AS</td>\n",
       "            </tr>\n",
       "            <tr>\n",
       "                        <th id=\"T_402fadfa_88fc_11ea_8461_acd5641be5f4level0_row23\" class=\"row_heading level0 row23\" >23</th>\n",
       "                        <td id=\"T_402fadfa_88fc_11ea_8461_acd5641be5f4row23_col0\" class=\"data row23 col0\" >Chandigarh</td>\n",
       "                        <td id=\"T_402fadfa_88fc_11ea_8461_acd5641be5f4row23_col1\" class=\"data row23 col1\" >45</td>\n",
       "                        <td id=\"T_402fadfa_88fc_11ea_8461_acd5641be5f4row23_col2\" class=\"data row23 col2\" >17</td>\n",
       "                        <td id=\"T_402fadfa_88fc_11ea_8461_acd5641be5f4row23_col3\" class=\"data row23 col3\" >0</td>\n",
       "                        <td id=\"T_402fadfa_88fc_11ea_8461_acd5641be5f4row23_col4\" class=\"data row23 col4\" >28</td>\n",
       "                        <td id=\"T_402fadfa_88fc_11ea_8461_acd5641be5f4row23_col5\" class=\"data row23 col5\" >CH</td>\n",
       "            </tr>\n",
       "            <tr>\n",
       "                        <th id=\"T_402fadfa_88fc_11ea_8461_acd5641be5f4level0_row24\" class=\"row_heading level0 row24\" >24</th>\n",
       "                        <td id=\"T_402fadfa_88fc_11ea_8461_acd5641be5f4row24_col0\" class=\"data row24 col0\" >Andaman and Nicobar Islands</td>\n",
       "                        <td id=\"T_402fadfa_88fc_11ea_8461_acd5641be5f4row24_col1\" class=\"data row24 col1\" >33</td>\n",
       "                        <td id=\"T_402fadfa_88fc_11ea_8461_acd5641be5f4row24_col2\" class=\"data row24 col2\" >11</td>\n",
       "                        <td id=\"T_402fadfa_88fc_11ea_8461_acd5641be5f4row24_col3\" class=\"data row24 col3\" >0</td>\n",
       "                        <td id=\"T_402fadfa_88fc_11ea_8461_acd5641be5f4row24_col4\" class=\"data row24 col4\" >22</td>\n",
       "                        <td id=\"T_402fadfa_88fc_11ea_8461_acd5641be5f4row24_col5\" class=\"data row24 col5\" >AN</td>\n",
       "            </tr>\n",
       "            <tr>\n",
       "                        <th id=\"T_402fadfa_88fc_11ea_8461_acd5641be5f4level0_row25\" class=\"row_heading level0 row25\" >25</th>\n",
       "                        <td id=\"T_402fadfa_88fc_11ea_8461_acd5641be5f4row25_col0\" class=\"data row25 col0\" >Ladakh</td>\n",
       "                        <td id=\"T_402fadfa_88fc_11ea_8461_acd5641be5f4row25_col1\" class=\"data row25 col1\" >20</td>\n",
       "                        <td id=\"T_402fadfa_88fc_11ea_8461_acd5641be5f4row25_col2\" class=\"data row25 col2\" >16</td>\n",
       "                        <td id=\"T_402fadfa_88fc_11ea_8461_acd5641be5f4row25_col3\" class=\"data row25 col3\" >0</td>\n",
       "                        <td id=\"T_402fadfa_88fc_11ea_8461_acd5641be5f4row25_col4\" class=\"data row25 col4\" >4</td>\n",
       "                        <td id=\"T_402fadfa_88fc_11ea_8461_acd5641be5f4row25_col5\" class=\"data row25 col5\" >LA</td>\n",
       "            </tr>\n",
       "            <tr>\n",
       "                        <th id=\"T_402fadfa_88fc_11ea_8461_acd5641be5f4level0_row26\" class=\"row_heading level0 row26\" >26</th>\n",
       "                        <td id=\"T_402fadfa_88fc_11ea_8461_acd5641be5f4row26_col0\" class=\"data row26 col0\" >Meghalaya</td>\n",
       "                        <td id=\"T_402fadfa_88fc_11ea_8461_acd5641be5f4row26_col1\" class=\"data row26 col1\" >12</td>\n",
       "                        <td id=\"T_402fadfa_88fc_11ea_8461_acd5641be5f4row26_col2\" class=\"data row26 col2\" >0</td>\n",
       "                        <td id=\"T_402fadfa_88fc_11ea_8461_acd5641be5f4row26_col3\" class=\"data row26 col3\" >1</td>\n",
       "                        <td id=\"T_402fadfa_88fc_11ea_8461_acd5641be5f4row26_col4\" class=\"data row26 col4\" >11</td>\n",
       "                        <td id=\"T_402fadfa_88fc_11ea_8461_acd5641be5f4row26_col5\" class=\"data row26 col5\" >ML</td>\n",
       "            </tr>\n",
       "            <tr>\n",
       "                        <th id=\"T_402fadfa_88fc_11ea_8461_acd5641be5f4level0_row27\" class=\"row_heading level0 row27\" >27</th>\n",
       "                        <td id=\"T_402fadfa_88fc_11ea_8461_acd5641be5f4row27_col0\" class=\"data row27 col0\" >Puducherry</td>\n",
       "                        <td id=\"T_402fadfa_88fc_11ea_8461_acd5641be5f4row27_col1\" class=\"data row27 col1\" >8</td>\n",
       "                        <td id=\"T_402fadfa_88fc_11ea_8461_acd5641be5f4row27_col2\" class=\"data row27 col2\" >5</td>\n",
       "                        <td id=\"T_402fadfa_88fc_11ea_8461_acd5641be5f4row27_col3\" class=\"data row27 col3\" >0</td>\n",
       "                        <td id=\"T_402fadfa_88fc_11ea_8461_acd5641be5f4row27_col4\" class=\"data row27 col4\" >3</td>\n",
       "                        <td id=\"T_402fadfa_88fc_11ea_8461_acd5641be5f4row27_col5\" class=\"data row27 col5\" >PY</td>\n",
       "            </tr>\n",
       "            <tr>\n",
       "                        <th id=\"T_402fadfa_88fc_11ea_8461_acd5641be5f4level0_row28\" class=\"row_heading level0 row28\" >28</th>\n",
       "                        <td id=\"T_402fadfa_88fc_11ea_8461_acd5641be5f4row28_col0\" class=\"data row28 col0\" >Goa</td>\n",
       "                        <td id=\"T_402fadfa_88fc_11ea_8461_acd5641be5f4row28_col1\" class=\"data row28 col1\" >7</td>\n",
       "                        <td id=\"T_402fadfa_88fc_11ea_8461_acd5641be5f4row28_col2\" class=\"data row28 col2\" >7</td>\n",
       "                        <td id=\"T_402fadfa_88fc_11ea_8461_acd5641be5f4row28_col3\" class=\"data row28 col3\" >0</td>\n",
       "                        <td id=\"T_402fadfa_88fc_11ea_8461_acd5641be5f4row28_col4\" class=\"data row28 col4\" >0</td>\n",
       "                        <td id=\"T_402fadfa_88fc_11ea_8461_acd5641be5f4row28_col5\" class=\"data row28 col5\" >GA</td>\n",
       "            </tr>\n",
       "            <tr>\n",
       "                        <th id=\"T_402fadfa_88fc_11ea_8461_acd5641be5f4level0_row29\" class=\"row_heading level0 row29\" >29</th>\n",
       "                        <td id=\"T_402fadfa_88fc_11ea_8461_acd5641be5f4row29_col0\" class=\"data row29 col0\" >Manipur</td>\n",
       "                        <td id=\"T_402fadfa_88fc_11ea_8461_acd5641be5f4row29_col1\" class=\"data row29 col1\" >2</td>\n",
       "                        <td id=\"T_402fadfa_88fc_11ea_8461_acd5641be5f4row29_col2\" class=\"data row29 col2\" >2</td>\n",
       "                        <td id=\"T_402fadfa_88fc_11ea_8461_acd5641be5f4row29_col3\" class=\"data row29 col3\" >0</td>\n",
       "                        <td id=\"T_402fadfa_88fc_11ea_8461_acd5641be5f4row29_col4\" class=\"data row29 col4\" >0</td>\n",
       "                        <td id=\"T_402fadfa_88fc_11ea_8461_acd5641be5f4row29_col5\" class=\"data row29 col5\" >MN</td>\n",
       "            </tr>\n",
       "            <tr>\n",
       "                        <th id=\"T_402fadfa_88fc_11ea_8461_acd5641be5f4level0_row30\" class=\"row_heading level0 row30\" >30</th>\n",
       "                        <td id=\"T_402fadfa_88fc_11ea_8461_acd5641be5f4row30_col0\" class=\"data row30 col0\" >Tripura</td>\n",
       "                        <td id=\"T_402fadfa_88fc_11ea_8461_acd5641be5f4row30_col1\" class=\"data row30 col1\" >2</td>\n",
       "                        <td id=\"T_402fadfa_88fc_11ea_8461_acd5641be5f4row30_col2\" class=\"data row30 col2\" >2</td>\n",
       "                        <td id=\"T_402fadfa_88fc_11ea_8461_acd5641be5f4row30_col3\" class=\"data row30 col3\" >0</td>\n",
       "                        <td id=\"T_402fadfa_88fc_11ea_8461_acd5641be5f4row30_col4\" class=\"data row30 col4\" >0</td>\n",
       "                        <td id=\"T_402fadfa_88fc_11ea_8461_acd5641be5f4row30_col5\" class=\"data row30 col5\" >TR</td>\n",
       "            </tr>\n",
       "            <tr>\n",
       "                        <th id=\"T_402fadfa_88fc_11ea_8461_acd5641be5f4level0_row31\" class=\"row_heading level0 row31\" >31</th>\n",
       "                        <td id=\"T_402fadfa_88fc_11ea_8461_acd5641be5f4row31_col0\" class=\"data row31 col0\" >Mizoram</td>\n",
       "                        <td id=\"T_402fadfa_88fc_11ea_8461_acd5641be5f4row31_col1\" class=\"data row31 col1\" >1</td>\n",
       "                        <td id=\"T_402fadfa_88fc_11ea_8461_acd5641be5f4row31_col2\" class=\"data row31 col2\" >0</td>\n",
       "                        <td id=\"T_402fadfa_88fc_11ea_8461_acd5641be5f4row31_col3\" class=\"data row31 col3\" >0</td>\n",
       "                        <td id=\"T_402fadfa_88fc_11ea_8461_acd5641be5f4row31_col4\" class=\"data row31 col4\" >1</td>\n",
       "                        <td id=\"T_402fadfa_88fc_11ea_8461_acd5641be5f4row31_col5\" class=\"data row31 col5\" >MZ</td>\n",
       "            </tr>\n",
       "            <tr>\n",
       "                        <th id=\"T_402fadfa_88fc_11ea_8461_acd5641be5f4level0_row32\" class=\"row_heading level0 row32\" >32</th>\n",
       "                        <td id=\"T_402fadfa_88fc_11ea_8461_acd5641be5f4row32_col0\" class=\"data row32 col0\" >Arunachal Pradesh</td>\n",
       "                        <td id=\"T_402fadfa_88fc_11ea_8461_acd5641be5f4row32_col1\" class=\"data row32 col1\" >1</td>\n",
       "                        <td id=\"T_402fadfa_88fc_11ea_8461_acd5641be5f4row32_col2\" class=\"data row32 col2\" >1</td>\n",
       "                        <td id=\"T_402fadfa_88fc_11ea_8461_acd5641be5f4row32_col3\" class=\"data row32 col3\" >0</td>\n",
       "                        <td id=\"T_402fadfa_88fc_11ea_8461_acd5641be5f4row32_col4\" class=\"data row32 col4\" >0</td>\n",
       "                        <td id=\"T_402fadfa_88fc_11ea_8461_acd5641be5f4row32_col5\" class=\"data row32 col5\" >AR</td>\n",
       "            </tr>\n",
       "            <tr>\n",
       "                        <th id=\"T_402fadfa_88fc_11ea_8461_acd5641be5f4level0_row33\" class=\"row_heading level0 row33\" >33</th>\n",
       "                        <td id=\"T_402fadfa_88fc_11ea_8461_acd5641be5f4row33_col0\" class=\"data row33 col0\" >Nagaland</td>\n",
       "                        <td id=\"T_402fadfa_88fc_11ea_8461_acd5641be5f4row33_col1\" class=\"data row33 col1\" >0</td>\n",
       "                        <td id=\"T_402fadfa_88fc_11ea_8461_acd5641be5f4row33_col2\" class=\"data row33 col2\" >0</td>\n",
       "                        <td id=\"T_402fadfa_88fc_11ea_8461_acd5641be5f4row33_col3\" class=\"data row33 col3\" >0</td>\n",
       "                        <td id=\"T_402fadfa_88fc_11ea_8461_acd5641be5f4row33_col4\" class=\"data row33 col4\" >0</td>\n",
       "                        <td id=\"T_402fadfa_88fc_11ea_8461_acd5641be5f4row33_col5\" class=\"data row33 col5\" >NL</td>\n",
       "            </tr>\n",
       "            <tr>\n",
       "                        <th id=\"T_402fadfa_88fc_11ea_8461_acd5641be5f4level0_row34\" class=\"row_heading level0 row34\" >34</th>\n",
       "                        <td id=\"T_402fadfa_88fc_11ea_8461_acd5641be5f4row34_col0\" class=\"data row34 col0\" >Dadra and Nagar Haveli</td>\n",
       "                        <td id=\"T_402fadfa_88fc_11ea_8461_acd5641be5f4row34_col1\" class=\"data row34 col1\" >0</td>\n",
       "                        <td id=\"T_402fadfa_88fc_11ea_8461_acd5641be5f4row34_col2\" class=\"data row34 col2\" >0</td>\n",
       "                        <td id=\"T_402fadfa_88fc_11ea_8461_acd5641be5f4row34_col3\" class=\"data row34 col3\" >0</td>\n",
       "                        <td id=\"T_402fadfa_88fc_11ea_8461_acd5641be5f4row34_col4\" class=\"data row34 col4\" >0</td>\n",
       "                        <td id=\"T_402fadfa_88fc_11ea_8461_acd5641be5f4row34_col5\" class=\"data row34 col5\" >DN</td>\n",
       "            </tr>\n",
       "            <tr>\n",
       "                        <th id=\"T_402fadfa_88fc_11ea_8461_acd5641be5f4level0_row35\" class=\"row_heading level0 row35\" >35</th>\n",
       "                        <td id=\"T_402fadfa_88fc_11ea_8461_acd5641be5f4row35_col0\" class=\"data row35 col0\" >Daman and Diu</td>\n",
       "                        <td id=\"T_402fadfa_88fc_11ea_8461_acd5641be5f4row35_col1\" class=\"data row35 col1\" >0</td>\n",
       "                        <td id=\"T_402fadfa_88fc_11ea_8461_acd5641be5f4row35_col2\" class=\"data row35 col2\" >0</td>\n",
       "                        <td id=\"T_402fadfa_88fc_11ea_8461_acd5641be5f4row35_col3\" class=\"data row35 col3\" >0</td>\n",
       "                        <td id=\"T_402fadfa_88fc_11ea_8461_acd5641be5f4row35_col4\" class=\"data row35 col4\" >0</td>\n",
       "                        <td id=\"T_402fadfa_88fc_11ea_8461_acd5641be5f4row35_col5\" class=\"data row35 col5\" >DD</td>\n",
       "            </tr>\n",
       "            <tr>\n",
       "                        <th id=\"T_402fadfa_88fc_11ea_8461_acd5641be5f4level0_row36\" class=\"row_heading level0 row36\" >36</th>\n",
       "                        <td id=\"T_402fadfa_88fc_11ea_8461_acd5641be5f4row36_col0\" class=\"data row36 col0\" >Lakshadweep</td>\n",
       "                        <td id=\"T_402fadfa_88fc_11ea_8461_acd5641be5f4row36_col1\" class=\"data row36 col1\" >0</td>\n",
       "                        <td id=\"T_402fadfa_88fc_11ea_8461_acd5641be5f4row36_col2\" class=\"data row36 col2\" >0</td>\n",
       "                        <td id=\"T_402fadfa_88fc_11ea_8461_acd5641be5f4row36_col3\" class=\"data row36 col3\" >0</td>\n",
       "                        <td id=\"T_402fadfa_88fc_11ea_8461_acd5641be5f4row36_col4\" class=\"data row36 col4\" >0</td>\n",
       "                        <td id=\"T_402fadfa_88fc_11ea_8461_acd5641be5f4row36_col5\" class=\"data row36 col5\" >LD</td>\n",
       "            </tr>\n",
       "            <tr>\n",
       "                        <th id=\"T_402fadfa_88fc_11ea_8461_acd5641be5f4level0_row37\" class=\"row_heading level0 row37\" >37</th>\n",
       "                        <td id=\"T_402fadfa_88fc_11ea_8461_acd5641be5f4row37_col0\" class=\"data row37 col0\" >Sikkim</td>\n",
       "                        <td id=\"T_402fadfa_88fc_11ea_8461_acd5641be5f4row37_col1\" class=\"data row37 col1\" >0</td>\n",
       "                        <td id=\"T_402fadfa_88fc_11ea_8461_acd5641be5f4row37_col2\" class=\"data row37 col2\" >0</td>\n",
       "                        <td id=\"T_402fadfa_88fc_11ea_8461_acd5641be5f4row37_col3\" class=\"data row37 col3\" >0</td>\n",
       "                        <td id=\"T_402fadfa_88fc_11ea_8461_acd5641be5f4row37_col4\" class=\"data row37 col4\" >0</td>\n",
       "                        <td id=\"T_402fadfa_88fc_11ea_8461_acd5641be5f4row37_col5\" class=\"data row37 col5\" >SK</td>\n",
       "            </tr>\n",
       "    </tbody></table>"
      ],
      "text/plain": [
       "<pandas.io.formats.style.Styler at 0x1401a7213c8>"
      ]
     },
     "execution_count": 5,
     "metadata": {},
     "output_type": "execute_result"
    }
   ],
   "source": [
    "df.style.background_gradient(cmap= 'Reds')"
   ]
  },
  {
   "cell_type": "code",
   "execution_count": 6,
   "metadata": {},
   "outputs": [],
   "source": [
    "Indian_Coordinates= pd.read_excel(r\"Indian Coordinates (1).xlsx\")"
   ]
  },
  {
   "cell_type": "code",
   "execution_count": 7,
   "metadata": {},
   "outputs": [],
   "source": [
    "df_full= pd.merge(df, Indian_Coordinates, on= 'State_code')"
   ]
  },
  {
   "cell_type": "code",
   "execution_count": 8,
   "metadata": {},
   "outputs": [],
   "source": [
    "df_add= df_full.drop('States', axis=1)\n",
    "##df_add"
   ]
  },
  {
   "cell_type": "markdown",
   "metadata": {},
   "source": [
    "# MAP REPRESENTATION"
   ]
  },
  {
   "cell_type": "code",
   "execution_count": 9,
   "metadata": {},
   "outputs": [],
   "source": [
    "map= folium.Map(location=[20,70], zoom_start=4, tiles= 'Stamenterrain')\n",
    "for lat, long, value, name in zip(df_add['Latitude'],df_add['Longitude'],df_add['Confirmed'], df_add['State']):\n",
    "    folium.CircleMarker([lat, long], radius= value*0.0, popup= ('<strong>State</strong>:'+str(name).capitalize()+ '<br>''<strong>Confirmed</strong>:' +str(value)+'<br>'+ '<br>''<strong>Recovered</strong>:' +str(value)+'<br>'), color= 'red', full_color= 'red', fill_opacity= 0.6).add_to(map)                                  "
   ]
  },
  {
   "cell_type": "markdown",
   "metadata": {},
   "source": [
    "# CLICK ON THE CIRCLES TO CHECK CONFIRMED CASES FOR EACH STATE."
   ]
  },
  {
   "cell_type": "code",
   "execution_count": 10,
   "metadata": {},
   "outputs": [
    {
     "data": {
      "text/html": [
       "<div style=\"width:100%;\"><div style=\"position:relative;width:100%;height:0;padding-bottom:60%;\"><iframe src=\"about:blank\" style=\"position:absolute;width:100%;height:100%;left:0;top:0;border:none !important;\" data-html=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 onload=\"this.contentDocument.open();this.contentDocument.write(atob(this.getAttribute('data-html')));this.contentDocument.close();\" allowfullscreen webkitallowfullscreen mozallowfullscreen></iframe></div></div>"
      ],
      "text/plain": [
       "<folium.folium.Map at 0x1401a8ac388>"
      ]
     },
     "execution_count": 10,
     "metadata": {},
     "output_type": "execute_result"
    }
   ],
   "source": [
    "map"
   ]
  },
  {
   "cell_type": "markdown",
   "metadata": {},
   "source": [
    "# GRAPHICAL REPRESENTATION"
   ]
  },
  {
   "cell_type": "markdown",
   "metadata": {},
   "source": [
    "# Hover over the graph markers to see confirmed cases for each state."
   ]
  },
  {
   "cell_type": "code",
   "execution_count": 11,
   "metadata": {},
   "outputs": [
    {
     "data": {
      "application/vnd.plotly.v1+json": {
       "config": {
        "linkText": "Export to plot.ly",
        "plotlyServerURL": "https://plot.ly",
        "showLink": true
       },
       "data": [
        {
         "line": {
          "color": "rgba(219, 64, 82, 1.0)",
          "dash": "solid",
          "shape": "linear",
          "width": 1.3
         },
         "marker": {
          "size": 10,
          "symbol": "circle"
         },
         "mode": "markers+lines",
         "name": "Confirmed",
         "text": "",
         "type": "scatter",
         "x": [
          "Total",
          "Maharashtra",
          "Gujarat",
          "Delhi",
          "Rajasthan",
          "Madhya Pradesh",
          "Tamil Nadu",
          "Uttar Pradesh",
          "Andhra Pradesh",
          "Telangana",
          "West Bengal",
          "Jammu and Kashmir",
          "Karnataka",
          "Kerala",
          "Punjab",
          "Haryana",
          "Bihar",
          "Odisha",
          "Jharkhand",
          "Uttarakhand",
          "Himachal Pradesh",
          "Chhattisgarh",
          "Assam",
          "Chandigarh",
          "Andaman and Nicobar Islands",
          "Ladakh",
          "Meghalaya",
          "Puducherry",
          "Goa",
          "Manipur",
          "Tripura",
          "Mizoram",
          "Arunachal Pradesh",
          "Nagaland",
          "Dadra and Nagar Haveli",
          "Daman and Diu",
          "Lakshadweep",
          "Sikkim"
         ],
         "y": [
          29458,
          8590,
          3548,
          3108,
          2262,
          2165,
          1937,
          1986,
          1177,
          1003,
          649,
          546,
          512,
          482,
          330,
          301,
          346,
          118,
          103,
          51,
          40,
          37,
          36,
          45,
          33,
          20,
          12,
          8,
          7,
          2,
          2,
          1,
          1,
          0,
          0,
          0,
          0,
          0
         ]
        }
       ],
       "layout": {
        "legend": {
         "bgcolor": "#F5F6F9",
         "font": {
          "color": "#4D5663"
         }
        },
        "paper_bgcolor": "#F5F6F9",
        "plot_bgcolor": "#F5F6F9",
        "template": {
         "data": {
          "bar": [
           {
            "error_x": {
             "color": "#2a3f5f"
            },
            "error_y": {
             "color": "#2a3f5f"
            },
            "marker": {
             "line": {
              "color": "#E5ECF6",
              "width": 0.5
             }
            },
            "type": "bar"
           }
          ],
          "barpolar": [
           {
            "marker": {
             "line": {
              "color": "#E5ECF6",
              "width": 0.5
             }
            },
            "type": "barpolar"
           }
          ],
          "carpet": [
           {
            "aaxis": {
             "endlinecolor": "#2a3f5f",
             "gridcolor": "white",
             "linecolor": "white",
             "minorgridcolor": "white",
             "startlinecolor": "#2a3f5f"
            },
            "baxis": {
             "endlinecolor": "#2a3f5f",
             "gridcolor": "white",
             "linecolor": "white",
             "minorgridcolor": "white",
             "startlinecolor": "#2a3f5f"
            },
            "type": "carpet"
           }
          ],
          "choropleth": [
           {
            "colorbar": {
             "outlinewidth": 0,
             "ticks": ""
            },
            "type": "choropleth"
           }
          ],
          "contour": [
           {
            "colorbar": {
             "outlinewidth": 0,
             "ticks": ""
            },
            "colorscale": [
             [
              0,
              "#0d0887"
             ],
             [
              0.1111111111111111,
              "#46039f"
             ],
             [
              0.2222222222222222,
              "#7201a8"
             ],
             [
              0.3333333333333333,
              "#9c179e"
             ],
             [
              0.4444444444444444,
              "#bd3786"
             ],
             [
              0.5555555555555556,
              "#d8576b"
             ],
             [
              0.6666666666666666,
              "#ed7953"
             ],
             [
              0.7777777777777778,
              "#fb9f3a"
             ],
             [
              0.8888888888888888,
              "#fdca26"
             ],
             [
              1,
              "#f0f921"
             ]
            ],
            "type": "contour"
           }
          ],
          "contourcarpet": [
           {
            "colorbar": {
             "outlinewidth": 0,
             "ticks": ""
            },
            "type": "contourcarpet"
           }
          ],
          "heatmap": [
           {
            "colorbar": {
             "outlinewidth": 0,
             "ticks": ""
            },
            "colorscale": [
             [
              0,
              "#0d0887"
             ],
             [
              0.1111111111111111,
              "#46039f"
             ],
             [
              0.2222222222222222,
              "#7201a8"
             ],
             [
              0.3333333333333333,
              "#9c179e"
             ],
             [
              0.4444444444444444,
              "#bd3786"
             ],
             [
              0.5555555555555556,
              "#d8576b"
             ],
             [
              0.6666666666666666,
              "#ed7953"
             ],
             [
              0.7777777777777778,
              "#fb9f3a"
             ],
             [
              0.8888888888888888,
              "#fdca26"
             ],
             [
              1,
              "#f0f921"
             ]
            ],
            "type": "heatmap"
           }
          ],
          "heatmapgl": [
           {
            "colorbar": {
             "outlinewidth": 0,
             "ticks": ""
            },
            "colorscale": [
             [
              0,
              "#0d0887"
             ],
             [
              0.1111111111111111,
              "#46039f"
             ],
             [
              0.2222222222222222,
              "#7201a8"
             ],
             [
              0.3333333333333333,
              "#9c179e"
             ],
             [
              0.4444444444444444,
              "#bd3786"
             ],
             [
              0.5555555555555556,
              "#d8576b"
             ],
             [
              0.6666666666666666,
              "#ed7953"
             ],
             [
              0.7777777777777778,
              "#fb9f3a"
             ],
             [
              0.8888888888888888,
              "#fdca26"
             ],
             [
              1,
              "#f0f921"
             ]
            ],
            "type": "heatmapgl"
           }
          ],
          "histogram": [
           {
            "marker": {
             "colorbar": {
              "outlinewidth": 0,
              "ticks": ""
             }
            },
            "type": "histogram"
           }
          ],
          "histogram2d": [
           {
            "colorbar": {
             "outlinewidth": 0,
             "ticks": ""
            },
            "colorscale": [
             [
              0,
              "#0d0887"
             ],
             [
              0.1111111111111111,
              "#46039f"
             ],
             [
              0.2222222222222222,
              "#7201a8"
             ],
             [
              0.3333333333333333,
              "#9c179e"
             ],
             [
              0.4444444444444444,
              "#bd3786"
             ],
             [
              0.5555555555555556,
              "#d8576b"
             ],
             [
              0.6666666666666666,
              "#ed7953"
             ],
             [
              0.7777777777777778,
              "#fb9f3a"
             ],
             [
              0.8888888888888888,
              "#fdca26"
             ],
             [
              1,
              "#f0f921"
             ]
            ],
            "type": "histogram2d"
           }
          ],
          "histogram2dcontour": [
           {
            "colorbar": {
             "outlinewidth": 0,
             "ticks": ""
            },
            "colorscale": [
             [
              0,
              "#0d0887"
             ],
             [
              0.1111111111111111,
              "#46039f"
             ],
             [
              0.2222222222222222,
              "#7201a8"
             ],
             [
              0.3333333333333333,
              "#9c179e"
             ],
             [
              0.4444444444444444,
              "#bd3786"
             ],
             [
              0.5555555555555556,
              "#d8576b"
             ],
             [
              0.6666666666666666,
              "#ed7953"
             ],
             [
              0.7777777777777778,
              "#fb9f3a"
             ],
             [
              0.8888888888888888,
              "#fdca26"
             ],
             [
              1,
              "#f0f921"
             ]
            ],
            "type": "histogram2dcontour"
           }
          ],
          "mesh3d": [
           {
            "colorbar": {
             "outlinewidth": 0,
             "ticks": ""
            },
            "type": "mesh3d"
           }
          ],
          "parcoords": [
           {
            "line": {
             "colorbar": {
              "outlinewidth": 0,
              "ticks": ""
             }
            },
            "type": "parcoords"
           }
          ],
          "pie": [
           {
            "automargin": true,
            "type": "pie"
           }
          ],
          "scatter": [
           {
            "marker": {
             "colorbar": {
              "outlinewidth": 0,
              "ticks": ""
             }
            },
            "type": "scatter"
           }
          ],
          "scatter3d": [
           {
            "line": {
             "colorbar": {
              "outlinewidth": 0,
              "ticks": ""
             }
            },
            "marker": {
             "colorbar": {
              "outlinewidth": 0,
              "ticks": ""
             }
            },
            "type": "scatter3d"
           }
          ],
          "scattercarpet": [
           {
            "marker": {
             "colorbar": {
              "outlinewidth": 0,
              "ticks": ""
             }
            },
            "type": "scattercarpet"
           }
          ],
          "scattergeo": [
           {
            "marker": {
             "colorbar": {
              "outlinewidth": 0,
              "ticks": ""
             }
            },
            "type": "scattergeo"
           }
          ],
          "scattergl": [
           {
            "marker": {
             "colorbar": {
              "outlinewidth": 0,
              "ticks": ""
             }
            },
            "type": "scattergl"
           }
          ],
          "scattermapbox": [
           {
            "marker": {
             "colorbar": {
              "outlinewidth": 0,
              "ticks": ""
             }
            },
            "type": "scattermapbox"
           }
          ],
          "scatterpolar": [
           {
            "marker": {
             "colorbar": {
              "outlinewidth": 0,
              "ticks": ""
             }
            },
            "type": "scatterpolar"
           }
          ],
          "scatterpolargl": [
           {
            "marker": {
             "colorbar": {
              "outlinewidth": 0,
              "ticks": ""
             }
            },
            "type": "scatterpolargl"
           }
          ],
          "scatterternary": [
           {
            "marker": {
             "colorbar": {
              "outlinewidth": 0,
              "ticks": ""
             }
            },
            "type": "scatterternary"
           }
          ],
          "surface": [
           {
            "colorbar": {
             "outlinewidth": 0,
             "ticks": ""
            },
            "colorscale": [
             [
              0,
              "#0d0887"
             ],
             [
              0.1111111111111111,
              "#46039f"
             ],
             [
              0.2222222222222222,
              "#7201a8"
             ],
             [
              0.3333333333333333,
              "#9c179e"
             ],
             [
              0.4444444444444444,
              "#bd3786"
             ],
             [
              0.5555555555555556,
              "#d8576b"
             ],
             [
              0.6666666666666666,
              "#ed7953"
             ],
             [
              0.7777777777777778,
              "#fb9f3a"
             ],
             [
              0.8888888888888888,
              "#fdca26"
             ],
             [
              1,
              "#f0f921"
             ]
            ],
            "type": "surface"
           }
          ],
          "table": [
           {
            "cells": {
             "fill": {
              "color": "#EBF0F8"
             },
             "line": {
              "color": "white"
             }
            },
            "header": {
             "fill": {
              "color": "#C8D4E3"
             },
             "line": {
              "color": "white"
             }
            },
            "type": "table"
           }
          ]
         },
         "layout": {
          "annotationdefaults": {
           "arrowcolor": "#2a3f5f",
           "arrowhead": 0,
           "arrowwidth": 1
          },
          "coloraxis": {
           "colorbar": {
            "outlinewidth": 0,
            "ticks": ""
           }
          },
          "colorscale": {
           "diverging": [
            [
             0,
             "#8e0152"
            ],
            [
             0.1,
             "#c51b7d"
            ],
            [
             0.2,
             "#de77ae"
            ],
            [
             0.3,
             "#f1b6da"
            ],
            [
             0.4,
             "#fde0ef"
            ],
            [
             0.5,
             "#f7f7f7"
            ],
            [
             0.6,
             "#e6f5d0"
            ],
            [
             0.7,
             "#b8e186"
            ],
            [
             0.8,
             "#7fbc41"
            ],
            [
             0.9,
             "#4d9221"
            ],
            [
             1,
             "#276419"
            ]
           ],
           "sequential": [
            [
             0,
             "#0d0887"
            ],
            [
             0.1111111111111111,
             "#46039f"
            ],
            [
             0.2222222222222222,
             "#7201a8"
            ],
            [
             0.3333333333333333,
             "#9c179e"
            ],
            [
             0.4444444444444444,
             "#bd3786"
            ],
            [
             0.5555555555555556,
             "#d8576b"
            ],
            [
             0.6666666666666666,
             "#ed7953"
            ],
            [
             0.7777777777777778,
             "#fb9f3a"
            ],
            [
             0.8888888888888888,
             "#fdca26"
            ],
            [
             1,
             "#f0f921"
            ]
           ],
           "sequentialminus": [
            [
             0,
             "#0d0887"
            ],
            [
             0.1111111111111111,
             "#46039f"
            ],
            [
             0.2222222222222222,
             "#7201a8"
            ],
            [
             0.3333333333333333,
             "#9c179e"
            ],
            [
             0.4444444444444444,
             "#bd3786"
            ],
            [
             0.5555555555555556,
             "#d8576b"
            ],
            [
             0.6666666666666666,
             "#ed7953"
            ],
            [
             0.7777777777777778,
             "#fb9f3a"
            ],
            [
             0.8888888888888888,
             "#fdca26"
            ],
            [
             1,
             "#f0f921"
            ]
           ]
          },
          "colorway": [
           "#636efa",
           "#EF553B",
           "#00cc96",
           "#ab63fa",
           "#FFA15A",
           "#19d3f3",
           "#FF6692",
           "#B6E880",
           "#FF97FF",
           "#FECB52"
          ],
          "font": {
           "color": "#2a3f5f"
          },
          "geo": {
           "bgcolor": "white",
           "lakecolor": "white",
           "landcolor": "#E5ECF6",
           "showlakes": true,
           "showland": true,
           "subunitcolor": "white"
          },
          "hoverlabel": {
           "align": "left"
          },
          "hovermode": "closest",
          "mapbox": {
           "style": "light"
          },
          "paper_bgcolor": "white",
          "plot_bgcolor": "#E5ECF6",
          "polar": {
           "angularaxis": {
            "gridcolor": "white",
            "linecolor": "white",
            "ticks": ""
           },
           "bgcolor": "#E5ECF6",
           "radialaxis": {
            "gridcolor": "white",
            "linecolor": "white",
            "ticks": ""
           }
          },
          "scene": {
           "xaxis": {
            "backgroundcolor": "#E5ECF6",
            "gridcolor": "white",
            "gridwidth": 2,
            "linecolor": "white",
            "showbackground": true,
            "ticks": "",
            "zerolinecolor": "white"
           },
           "yaxis": {
            "backgroundcolor": "#E5ECF6",
            "gridcolor": "white",
            "gridwidth": 2,
            "linecolor": "white",
            "showbackground": true,
            "ticks": "",
            "zerolinecolor": "white"
           },
           "zaxis": {
            "backgroundcolor": "#E5ECF6",
            "gridcolor": "white",
            "gridwidth": 2,
            "linecolor": "white",
            "showbackground": true,
            "ticks": "",
            "zerolinecolor": "white"
           }
          },
          "shapedefaults": {
           "line": {
            "color": "#2a3f5f"
           }
          },
          "ternary": {
           "aaxis": {
            "gridcolor": "white",
            "linecolor": "white",
            "ticks": ""
           },
           "baxis": {
            "gridcolor": "white",
            "linecolor": "white",
            "ticks": ""
           },
           "bgcolor": "#E5ECF6",
           "caxis": {
            "gridcolor": "white",
            "linecolor": "white",
            "ticks": ""
           }
          },
          "title": {
           "x": 0.05
          },
          "xaxis": {
           "automargin": true,
           "gridcolor": "white",
           "linecolor": "white",
           "ticks": "",
           "title": {
            "standoff": 15
           },
           "zerolinecolor": "white",
           "zerolinewidth": 2
          },
          "yaxis": {
           "automargin": true,
           "gridcolor": "white",
           "linecolor": "white",
           "ticks": "",
           "title": {
            "standoff": 15
           },
           "zerolinecolor": "white",
           "zerolinewidth": 2
          }
         }
        },
        "title": {
         "font": {
          "color": "#4D5663"
         },
         "text": "Covid_19 graph"
        },
        "xaxis": {
         "gridcolor": "#E1E5ED",
         "showgrid": true,
         "tickfont": {
          "color": "#4D5663"
         },
         "title": {
          "font": {
           "color": "#4D5663"
          },
          "text": "State"
         },
         "zerolinecolor": "#E1E5ED"
        },
        "yaxis": {
         "gridcolor": "#E1E5ED",
         "showgrid": true,
         "tickfont": {
          "color": "#4D5663"
         },
         "title": {
          "font": {
           "color": "#4D5663"
          },
          "text": "Confirmed Cases"
         },
         "zerolinecolor": "#E1E5ED"
        }
       }
      },
      "text/html": [
       "<div>\n",
       "        \n",
       "        \n",
       "            <div id=\"b8b3d22e-e1c0-4d54-baa7-d686a68ee02a\" class=\"plotly-graph-div\" style=\"height:525px; width:100%;\"></div>\n",
       "            <script type=\"text/javascript\">\n",
       "                require([\"plotly\"], function(Plotly) {\n",
       "                    window.PLOTLYENV=window.PLOTLYENV || {};\n",
       "                    window.PLOTLYENV.BASE_URL='https://plot.ly';\n",
       "                    \n",
       "                if (document.getElementById(\"b8b3d22e-e1c0-4d54-baa7-d686a68ee02a\")) {\n",
       "                    Plotly.newPlot(\n",
       "                        'b8b3d22e-e1c0-4d54-baa7-d686a68ee02a',\n",
       "                        [{\"line\": {\"color\": \"rgba(219, 64, 82, 1.0)\", \"dash\": \"solid\", \"shape\": \"linear\", \"width\": 1.3}, \"marker\": {\"size\": 10, \"symbol\": \"circle\"}, \"mode\": \"markers+lines\", \"name\": \"Confirmed\", \"text\": \"\", \"type\": \"scatter\", \"x\": [\"Total\", \"Maharashtra\", \"Gujarat\", \"Delhi\", \"Rajasthan\", \"Madhya Pradesh\", \"Tamil Nadu\", \"Uttar Pradesh\", \"Andhra Pradesh\", \"Telangana\", \"West Bengal\", \"Jammu and Kashmir\", \"Karnataka\", \"Kerala\", \"Punjab\", \"Haryana\", \"Bihar\", \"Odisha\", \"Jharkhand\", \"Uttarakhand\", \"Himachal Pradesh\", \"Chhattisgarh\", \"Assam\", \"Chandigarh\", \"Andaman and Nicobar Islands\", \"Ladakh\", \"Meghalaya\", \"Puducherry\", \"Goa\", \"Manipur\", \"Tripura\", \"Mizoram\", \"Arunachal Pradesh\", \"Nagaland\", \"Dadra and Nagar Haveli\", \"Daman and Diu\", \"Lakshadweep\", \"Sikkim\"], \"y\": [29458, 8590, 3548, 3108, 2262, 2165, 1937, 1986, 1177, 1003, 649, 546, 512, 482, 330, 301, 346, 118, 103, 51, 40, 37, 36, 45, 33, 20, 12, 8, 7, 2, 2, 1, 1, 0, 0, 0, 0, 0]}],\n",
       "                        {\"legend\": {\"bgcolor\": \"#F5F6F9\", \"font\": {\"color\": \"#4D5663\"}}, \"paper_bgcolor\": \"#F5F6F9\", \"plot_bgcolor\": \"#F5F6F9\", \"template\": {\"data\": {\"bar\": [{\"error_x\": {\"color\": \"#2a3f5f\"}, \"error_y\": {\"color\": \"#2a3f5f\"}, \"marker\": {\"line\": {\"color\": \"#E5ECF6\", \"width\": 0.5}}, \"type\": \"bar\"}], \"barpolar\": [{\"marker\": {\"line\": {\"color\": \"#E5ECF6\", \"width\": 0.5}}, \"type\": \"barpolar\"}], \"carpet\": [{\"aaxis\": {\"endlinecolor\": \"#2a3f5f\", \"gridcolor\": \"white\", \"linecolor\": \"white\", \"minorgridcolor\": \"white\", \"startlinecolor\": \"#2a3f5f\"}, \"baxis\": {\"endlinecolor\": \"#2a3f5f\", \"gridcolor\": \"white\", \"linecolor\": \"white\", \"minorgridcolor\": \"white\", \"startlinecolor\": \"#2a3f5f\"}, \"type\": \"carpet\"}], \"choropleth\": [{\"colorbar\": {\"outlinewidth\": 0, \"ticks\": \"\"}, \"type\": \"choropleth\"}], \"contour\": [{\"colorbar\": {\"outlinewidth\": 0, \"ticks\": \"\"}, \"colorscale\": [[0.0, \"#0d0887\"], [0.1111111111111111, \"#46039f\"], [0.2222222222222222, \"#7201a8\"], [0.3333333333333333, \"#9c179e\"], [0.4444444444444444, \"#bd3786\"], [0.5555555555555556, \"#d8576b\"], [0.6666666666666666, \"#ed7953\"], [0.7777777777777778, \"#fb9f3a\"], [0.8888888888888888, \"#fdca26\"], [1.0, \"#f0f921\"]], \"type\": \"contour\"}], \"contourcarpet\": [{\"colorbar\": {\"outlinewidth\": 0, \"ticks\": \"\"}, \"type\": \"contourcarpet\"}], \"heatmap\": [{\"colorbar\": {\"outlinewidth\": 0, \"ticks\": \"\"}, \"colorscale\": [[0.0, \"#0d0887\"], [0.1111111111111111, \"#46039f\"], [0.2222222222222222, \"#7201a8\"], [0.3333333333333333, \"#9c179e\"], [0.4444444444444444, \"#bd3786\"], [0.5555555555555556, \"#d8576b\"], [0.6666666666666666, \"#ed7953\"], [0.7777777777777778, \"#fb9f3a\"], [0.8888888888888888, \"#fdca26\"], [1.0, \"#f0f921\"]], \"type\": \"heatmap\"}], \"heatmapgl\": [{\"colorbar\": {\"outlinewidth\": 0, \"ticks\": \"\"}, \"colorscale\": [[0.0, \"#0d0887\"], [0.1111111111111111, \"#46039f\"], [0.2222222222222222, \"#7201a8\"], [0.3333333333333333, \"#9c179e\"], [0.4444444444444444, \"#bd3786\"], [0.5555555555555556, \"#d8576b\"], [0.6666666666666666, \"#ed7953\"], [0.7777777777777778, \"#fb9f3a\"], [0.8888888888888888, \"#fdca26\"], [1.0, \"#f0f921\"]], \"type\": \"heatmapgl\"}], \"histogram\": [{\"marker\": {\"colorbar\": {\"outlinewidth\": 0, \"ticks\": \"\"}}, \"type\": \"histogram\"}], \"histogram2d\": [{\"colorbar\": {\"outlinewidth\": 0, \"ticks\": \"\"}, \"colorscale\": [[0.0, \"#0d0887\"], [0.1111111111111111, \"#46039f\"], [0.2222222222222222, \"#7201a8\"], [0.3333333333333333, \"#9c179e\"], [0.4444444444444444, \"#bd3786\"], [0.5555555555555556, \"#d8576b\"], [0.6666666666666666, \"#ed7953\"], [0.7777777777777778, \"#fb9f3a\"], [0.8888888888888888, \"#fdca26\"], [1.0, \"#f0f921\"]], \"type\": \"histogram2d\"}], \"histogram2dcontour\": [{\"colorbar\": {\"outlinewidth\": 0, \"ticks\": \"\"}, \"colorscale\": [[0.0, \"#0d0887\"], [0.1111111111111111, \"#46039f\"], [0.2222222222222222, \"#7201a8\"], [0.3333333333333333, \"#9c179e\"], [0.4444444444444444, \"#bd3786\"], [0.5555555555555556, \"#d8576b\"], [0.6666666666666666, \"#ed7953\"], [0.7777777777777778, \"#fb9f3a\"], [0.8888888888888888, \"#fdca26\"], [1.0, \"#f0f921\"]], \"type\": \"histogram2dcontour\"}], \"mesh3d\": [{\"colorbar\": {\"outlinewidth\": 0, \"ticks\": \"\"}, \"type\": \"mesh3d\"}], \"parcoords\": [{\"line\": {\"colorbar\": {\"outlinewidth\": 0, \"ticks\": \"\"}}, \"type\": \"parcoords\"}], \"pie\": [{\"automargin\": true, \"type\": \"pie\"}], \"scatter\": [{\"marker\": {\"colorbar\": {\"outlinewidth\": 0, \"ticks\": \"\"}}, \"type\": \"scatter\"}], \"scatter3d\": [{\"line\": {\"colorbar\": {\"outlinewidth\": 0, \"ticks\": \"\"}}, \"marker\": {\"colorbar\": {\"outlinewidth\": 0, \"ticks\": \"\"}}, \"type\": \"scatter3d\"}], \"scattercarpet\": [{\"marker\": {\"colorbar\": {\"outlinewidth\": 0, \"ticks\": \"\"}}, \"type\": \"scattercarpet\"}], \"scattergeo\": [{\"marker\": {\"colorbar\": {\"outlinewidth\": 0, \"ticks\": \"\"}}, \"type\": \"scattergeo\"}], \"scattergl\": [{\"marker\": {\"colorbar\": {\"outlinewidth\": 0, \"ticks\": \"\"}}, \"type\": \"scattergl\"}], \"scattermapbox\": [{\"marker\": {\"colorbar\": {\"outlinewidth\": 0, \"ticks\": \"\"}}, \"type\": \"scattermapbox\"}], \"scatterpolar\": [{\"marker\": {\"colorbar\": {\"outlinewidth\": 0, \"ticks\": \"\"}}, \"type\": \"scatterpolar\"}], \"scatterpolargl\": [{\"marker\": {\"colorbar\": {\"outlinewidth\": 0, \"ticks\": \"\"}}, \"type\": \"scatterpolargl\"}], \"scatterternary\": [{\"marker\": {\"colorbar\": {\"outlinewidth\": 0, \"ticks\": \"\"}}, \"type\": \"scatterternary\"}], \"surface\": [{\"colorbar\": {\"outlinewidth\": 0, \"ticks\": \"\"}, \"colorscale\": [[0.0, \"#0d0887\"], [0.1111111111111111, \"#46039f\"], [0.2222222222222222, \"#7201a8\"], [0.3333333333333333, \"#9c179e\"], [0.4444444444444444, \"#bd3786\"], [0.5555555555555556, \"#d8576b\"], [0.6666666666666666, \"#ed7953\"], [0.7777777777777778, \"#fb9f3a\"], [0.8888888888888888, \"#fdca26\"], [1.0, \"#f0f921\"]], \"type\": \"surface\"}], \"table\": [{\"cells\": {\"fill\": {\"color\": \"#EBF0F8\"}, \"line\": {\"color\": \"white\"}}, \"header\": {\"fill\": {\"color\": \"#C8D4E3\"}, \"line\": {\"color\": \"white\"}}, \"type\": \"table\"}]}, \"layout\": {\"annotationdefaults\": {\"arrowcolor\": \"#2a3f5f\", \"arrowhead\": 0, \"arrowwidth\": 1}, \"coloraxis\": {\"colorbar\": {\"outlinewidth\": 0, \"ticks\": \"\"}}, \"colorscale\": {\"diverging\": [[0, \"#8e0152\"], [0.1, \"#c51b7d\"], [0.2, \"#de77ae\"], [0.3, \"#f1b6da\"], [0.4, \"#fde0ef\"], [0.5, \"#f7f7f7\"], [0.6, \"#e6f5d0\"], [0.7, \"#b8e186\"], [0.8, \"#7fbc41\"], [0.9, \"#4d9221\"], [1, \"#276419\"]], \"sequential\": [[0.0, \"#0d0887\"], [0.1111111111111111, \"#46039f\"], [0.2222222222222222, \"#7201a8\"], [0.3333333333333333, \"#9c179e\"], [0.4444444444444444, \"#bd3786\"], [0.5555555555555556, \"#d8576b\"], [0.6666666666666666, \"#ed7953\"], [0.7777777777777778, \"#fb9f3a\"], [0.8888888888888888, \"#fdca26\"], [1.0, \"#f0f921\"]], \"sequentialminus\": [[0.0, \"#0d0887\"], [0.1111111111111111, \"#46039f\"], [0.2222222222222222, \"#7201a8\"], [0.3333333333333333, \"#9c179e\"], [0.4444444444444444, \"#bd3786\"], [0.5555555555555556, \"#d8576b\"], [0.6666666666666666, \"#ed7953\"], [0.7777777777777778, \"#fb9f3a\"], [0.8888888888888888, \"#fdca26\"], [1.0, \"#f0f921\"]]}, \"colorway\": [\"#636efa\", \"#EF553B\", \"#00cc96\", \"#ab63fa\", \"#FFA15A\", \"#19d3f3\", \"#FF6692\", \"#B6E880\", \"#FF97FF\", \"#FECB52\"], \"font\": {\"color\": \"#2a3f5f\"}, \"geo\": {\"bgcolor\": \"white\", \"lakecolor\": \"white\", \"landcolor\": \"#E5ECF6\", \"showlakes\": true, \"showland\": true, \"subunitcolor\": \"white\"}, \"hoverlabel\": {\"align\": \"left\"}, \"hovermode\": \"closest\", \"mapbox\": {\"style\": \"light\"}, \"paper_bgcolor\": \"white\", \"plot_bgcolor\": \"#E5ECF6\", \"polar\": {\"angularaxis\": {\"gridcolor\": \"white\", \"linecolor\": \"white\", \"ticks\": \"\"}, \"bgcolor\": \"#E5ECF6\", \"radialaxis\": {\"gridcolor\": \"white\", \"linecolor\": \"white\", \"ticks\": \"\"}}, \"scene\": {\"xaxis\": {\"backgroundcolor\": \"#E5ECF6\", \"gridcolor\": \"white\", \"gridwidth\": 2, \"linecolor\": \"white\", \"showbackground\": true, \"ticks\": \"\", \"zerolinecolor\": \"white\"}, \"yaxis\": {\"backgroundcolor\": \"#E5ECF6\", \"gridcolor\": \"white\", \"gridwidth\": 2, \"linecolor\": \"white\", \"showbackground\": true, \"ticks\": \"\", \"zerolinecolor\": \"white\"}, \"zaxis\": {\"backgroundcolor\": \"#E5ECF6\", \"gridcolor\": \"white\", \"gridwidth\": 2, \"linecolor\": \"white\", \"showbackground\": true, \"ticks\": \"\", \"zerolinecolor\": \"white\"}}, \"shapedefaults\": {\"line\": {\"color\": \"#2a3f5f\"}}, \"ternary\": {\"aaxis\": {\"gridcolor\": \"white\", \"linecolor\": \"white\", \"ticks\": \"\"}, \"baxis\": {\"gridcolor\": \"white\", \"linecolor\": \"white\", \"ticks\": \"\"}, \"bgcolor\": \"#E5ECF6\", \"caxis\": {\"gridcolor\": \"white\", \"linecolor\": \"white\", \"ticks\": \"\"}}, \"title\": {\"x\": 0.05}, \"xaxis\": {\"automargin\": true, \"gridcolor\": \"white\", \"linecolor\": \"white\", \"ticks\": \"\", \"title\": {\"standoff\": 15}, \"zerolinecolor\": \"white\", \"zerolinewidth\": 2}, \"yaxis\": {\"automargin\": true, \"gridcolor\": \"white\", \"linecolor\": \"white\", \"ticks\": \"\", \"title\": {\"standoff\": 15}, \"zerolinecolor\": \"white\", \"zerolinewidth\": 2}}}, \"title\": {\"font\": {\"color\": \"#4D5663\"}, \"text\": \"Covid_19 graph\"}, \"xaxis\": {\"gridcolor\": \"#E1E5ED\", \"showgrid\": true, \"tickfont\": {\"color\": \"#4D5663\"}, \"title\": {\"font\": {\"color\": \"#4D5663\"}, \"text\": \"State\"}, \"zerolinecolor\": \"#E1E5ED\"}, \"yaxis\": {\"gridcolor\": \"#E1E5ED\", \"showgrid\": true, \"tickfont\": {\"color\": \"#4D5663\"}, \"title\": {\"font\": {\"color\": \"#4D5663\"}, \"text\": \"Confirmed Cases\"}, \"zerolinecolor\": \"#E1E5ED\"}},\n",
       "                        {\"showLink\": true, \"linkText\": \"Export to plot.ly\", \"plotlyServerURL\": \"https://plot.ly\", \"responsive\": true}\n",
       "                    ).then(function(){\n",
       "                            \n",
       "var gd = document.getElementById('b8b3d22e-e1c0-4d54-baa7-d686a68ee02a');\n",
       "var x = new MutationObserver(function (mutations, observer) {{\n",
       "        var display = window.getComputedStyle(gd).display;\n",
       "        if (!display || display === 'none') {{\n",
       "            console.log([gd, 'removed!']);\n",
       "            Plotly.purge(gd);\n",
       "            observer.disconnect();\n",
       "        }}\n",
       "}});\n",
       "\n",
       "// Listen for the removal of the full notebook cells\n",
       "var notebookContainer = gd.closest('#notebook-container');\n",
       "if (notebookContainer) {{\n",
       "    x.observe(notebookContainer, {childList: true});\n",
       "}}\n",
       "\n",
       "// Listen for the clearing of the current output cell\n",
       "var outputEl = gd.closest('.output');\n",
       "if (outputEl) {{\n",
       "    x.observe(outputEl, {childList: true});\n",
       "}}\n",
       "\n",
       "                        })\n",
       "                };\n",
       "                });\n",
       "            </script>\n",
       "        </div>"
      ]
     },
     "metadata": {},
     "output_type": "display_data"
    }
   ],
   "source": [
    "\n",
    "df.iplot(kind= 'scatter', x= 'State', y='Confirmed', mode= 'markers+lines', title= 'Covid_19 graph', xTitle= 'State', yTitle= 'Confirmed Cases', color= 'red', size= 10)\n"
   ]
  },
  {
   "cell_type": "markdown",
   "metadata": {},
   "source": [
    "# Recovered cases per State"
   ]
  },
  {
   "cell_type": "code",
   "execution_count": 12,
   "metadata": {},
   "outputs": [
    {
     "data": {
      "application/vnd.plotly.v1+json": {
       "config": {
        "linkText": "Export to plot.ly",
        "plotlyServerURL": "https://plot.ly",
        "showLink": true
       },
       "data": [
        {
         "line": {
          "color": "rgba(219, 64, 82, 1.0)",
          "dash": "solid",
          "shape": "linear",
          "width": 1.3
         },
         "marker": {
          "size": 10,
          "symbol": "circle"
         },
         "mode": "markers+lines",
         "name": "Recovered",
         "text": "",
         "type": "scatter",
         "x": [
          "Total",
          "Maharashtra",
          "Gujarat",
          "Delhi",
          "Rajasthan",
          "Madhya Pradesh",
          "Tamil Nadu",
          "Uttar Pradesh",
          "Andhra Pradesh",
          "Telangana",
          "West Bengal",
          "Jammu and Kashmir",
          "Karnataka",
          "Kerala",
          "Punjab",
          "Haryana",
          "Bihar",
          "Odisha",
          "Jharkhand",
          "Uttarakhand",
          "Himachal Pradesh",
          "Chhattisgarh",
          "Assam",
          "Chandigarh",
          "Andaman and Nicobar Islands",
          "Ladakh",
          "Meghalaya",
          "Puducherry",
          "Goa",
          "Manipur",
          "Tripura",
          "Mizoram",
          "Arunachal Pradesh",
          "Nagaland",
          "Dadra and Nagar Haveli",
          "Daman and Diu",
          "Lakshadweep",
          "Sikkim"
         ],
         "y": [
          7137,
          1282,
          394,
          877,
          744,
          357,
          1101,
          399,
          235,
          332,
          105,
          164,
          193,
          355,
          98,
          213,
          56,
          37,
          17,
          33,
          25,
          32,
          27,
          17,
          11,
          16,
          0,
          5,
          7,
          2,
          2,
          0,
          1,
          0,
          0,
          0,
          0,
          0
         ]
        }
       ],
       "layout": {
        "legend": {
         "bgcolor": "#F5F6F9",
         "font": {
          "color": "#4D5663"
         }
        },
        "paper_bgcolor": "#F5F6F9",
        "plot_bgcolor": "#F5F6F9",
        "template": {
         "data": {
          "bar": [
           {
            "error_x": {
             "color": "#2a3f5f"
            },
            "error_y": {
             "color": "#2a3f5f"
            },
            "marker": {
             "line": {
              "color": "#E5ECF6",
              "width": 0.5
             }
            },
            "type": "bar"
           }
          ],
          "barpolar": [
           {
            "marker": {
             "line": {
              "color": "#E5ECF6",
              "width": 0.5
             }
            },
            "type": "barpolar"
           }
          ],
          "carpet": [
           {
            "aaxis": {
             "endlinecolor": "#2a3f5f",
             "gridcolor": "white",
             "linecolor": "white",
             "minorgridcolor": "white",
             "startlinecolor": "#2a3f5f"
            },
            "baxis": {
             "endlinecolor": "#2a3f5f",
             "gridcolor": "white",
             "linecolor": "white",
             "minorgridcolor": "white",
             "startlinecolor": "#2a3f5f"
            },
            "type": "carpet"
           }
          ],
          "choropleth": [
           {
            "colorbar": {
             "outlinewidth": 0,
             "ticks": ""
            },
            "type": "choropleth"
           }
          ],
          "contour": [
           {
            "colorbar": {
             "outlinewidth": 0,
             "ticks": ""
            },
            "colorscale": [
             [
              0,
              "#0d0887"
             ],
             [
              0.1111111111111111,
              "#46039f"
             ],
             [
              0.2222222222222222,
              "#7201a8"
             ],
             [
              0.3333333333333333,
              "#9c179e"
             ],
             [
              0.4444444444444444,
              "#bd3786"
             ],
             [
              0.5555555555555556,
              "#d8576b"
             ],
             [
              0.6666666666666666,
              "#ed7953"
             ],
             [
              0.7777777777777778,
              "#fb9f3a"
             ],
             [
              0.8888888888888888,
              "#fdca26"
             ],
             [
              1,
              "#f0f921"
             ]
            ],
            "type": "contour"
           }
          ],
          "contourcarpet": [
           {
            "colorbar": {
             "outlinewidth": 0,
             "ticks": ""
            },
            "type": "contourcarpet"
           }
          ],
          "heatmap": [
           {
            "colorbar": {
             "outlinewidth": 0,
             "ticks": ""
            },
            "colorscale": [
             [
              0,
              "#0d0887"
             ],
             [
              0.1111111111111111,
              "#46039f"
             ],
             [
              0.2222222222222222,
              "#7201a8"
             ],
             [
              0.3333333333333333,
              "#9c179e"
             ],
             [
              0.4444444444444444,
              "#bd3786"
             ],
             [
              0.5555555555555556,
              "#d8576b"
             ],
             [
              0.6666666666666666,
              "#ed7953"
             ],
             [
              0.7777777777777778,
              "#fb9f3a"
             ],
             [
              0.8888888888888888,
              "#fdca26"
             ],
             [
              1,
              "#f0f921"
             ]
            ],
            "type": "heatmap"
           }
          ],
          "heatmapgl": [
           {
            "colorbar": {
             "outlinewidth": 0,
             "ticks": ""
            },
            "colorscale": [
             [
              0,
              "#0d0887"
             ],
             [
              0.1111111111111111,
              "#46039f"
             ],
             [
              0.2222222222222222,
              "#7201a8"
             ],
             [
              0.3333333333333333,
              "#9c179e"
             ],
             [
              0.4444444444444444,
              "#bd3786"
             ],
             [
              0.5555555555555556,
              "#d8576b"
             ],
             [
              0.6666666666666666,
              "#ed7953"
             ],
             [
              0.7777777777777778,
              "#fb9f3a"
             ],
             [
              0.8888888888888888,
              "#fdca26"
             ],
             [
              1,
              "#f0f921"
             ]
            ],
            "type": "heatmapgl"
           }
          ],
          "histogram": [
           {
            "marker": {
             "colorbar": {
              "outlinewidth": 0,
              "ticks": ""
             }
            },
            "type": "histogram"
           }
          ],
          "histogram2d": [
           {
            "colorbar": {
             "outlinewidth": 0,
             "ticks": ""
            },
            "colorscale": [
             [
              0,
              "#0d0887"
             ],
             [
              0.1111111111111111,
              "#46039f"
             ],
             [
              0.2222222222222222,
              "#7201a8"
             ],
             [
              0.3333333333333333,
              "#9c179e"
             ],
             [
              0.4444444444444444,
              "#bd3786"
             ],
             [
              0.5555555555555556,
              "#d8576b"
             ],
             [
              0.6666666666666666,
              "#ed7953"
             ],
             [
              0.7777777777777778,
              "#fb9f3a"
             ],
             [
              0.8888888888888888,
              "#fdca26"
             ],
             [
              1,
              "#f0f921"
             ]
            ],
            "type": "histogram2d"
           }
          ],
          "histogram2dcontour": [
           {
            "colorbar": {
             "outlinewidth": 0,
             "ticks": ""
            },
            "colorscale": [
             [
              0,
              "#0d0887"
             ],
             [
              0.1111111111111111,
              "#46039f"
             ],
             [
              0.2222222222222222,
              "#7201a8"
             ],
             [
              0.3333333333333333,
              "#9c179e"
             ],
             [
              0.4444444444444444,
              "#bd3786"
             ],
             [
              0.5555555555555556,
              "#d8576b"
             ],
             [
              0.6666666666666666,
              "#ed7953"
             ],
             [
              0.7777777777777778,
              "#fb9f3a"
             ],
             [
              0.8888888888888888,
              "#fdca26"
             ],
             [
              1,
              "#f0f921"
             ]
            ],
            "type": "histogram2dcontour"
           }
          ],
          "mesh3d": [
           {
            "colorbar": {
             "outlinewidth": 0,
             "ticks": ""
            },
            "type": "mesh3d"
           }
          ],
          "parcoords": [
           {
            "line": {
             "colorbar": {
              "outlinewidth": 0,
              "ticks": ""
             }
            },
            "type": "parcoords"
           }
          ],
          "pie": [
           {
            "automargin": true,
            "type": "pie"
           }
          ],
          "scatter": [
           {
            "marker": {
             "colorbar": {
              "outlinewidth": 0,
              "ticks": ""
             }
            },
            "type": "scatter"
           }
          ],
          "scatter3d": [
           {
            "line": {
             "colorbar": {
              "outlinewidth": 0,
              "ticks": ""
             }
            },
            "marker": {
             "colorbar": {
              "outlinewidth": 0,
              "ticks": ""
             }
            },
            "type": "scatter3d"
           }
          ],
          "scattercarpet": [
           {
            "marker": {
             "colorbar": {
              "outlinewidth": 0,
              "ticks": ""
             }
            },
            "type": "scattercarpet"
           }
          ],
          "scattergeo": [
           {
            "marker": {
             "colorbar": {
              "outlinewidth": 0,
              "ticks": ""
             }
            },
            "type": "scattergeo"
           }
          ],
          "scattergl": [
           {
            "marker": {
             "colorbar": {
              "outlinewidth": 0,
              "ticks": ""
             }
            },
            "type": "scattergl"
           }
          ],
          "scattermapbox": [
           {
            "marker": {
             "colorbar": {
              "outlinewidth": 0,
              "ticks": ""
             }
            },
            "type": "scattermapbox"
           }
          ],
          "scatterpolar": [
           {
            "marker": {
             "colorbar": {
              "outlinewidth": 0,
              "ticks": ""
             }
            },
            "type": "scatterpolar"
           }
          ],
          "scatterpolargl": [
           {
            "marker": {
             "colorbar": {
              "outlinewidth": 0,
              "ticks": ""
             }
            },
            "type": "scatterpolargl"
           }
          ],
          "scatterternary": [
           {
            "marker": {
             "colorbar": {
              "outlinewidth": 0,
              "ticks": ""
             }
            },
            "type": "scatterternary"
           }
          ],
          "surface": [
           {
            "colorbar": {
             "outlinewidth": 0,
             "ticks": ""
            },
            "colorscale": [
             [
              0,
              "#0d0887"
             ],
             [
              0.1111111111111111,
              "#46039f"
             ],
             [
              0.2222222222222222,
              "#7201a8"
             ],
             [
              0.3333333333333333,
              "#9c179e"
             ],
             [
              0.4444444444444444,
              "#bd3786"
             ],
             [
              0.5555555555555556,
              "#d8576b"
             ],
             [
              0.6666666666666666,
              "#ed7953"
             ],
             [
              0.7777777777777778,
              "#fb9f3a"
             ],
             [
              0.8888888888888888,
              "#fdca26"
             ],
             [
              1,
              "#f0f921"
             ]
            ],
            "type": "surface"
           }
          ],
          "table": [
           {
            "cells": {
             "fill": {
              "color": "#EBF0F8"
             },
             "line": {
              "color": "white"
             }
            },
            "header": {
             "fill": {
              "color": "#C8D4E3"
             },
             "line": {
              "color": "white"
             }
            },
            "type": "table"
           }
          ]
         },
         "layout": {
          "annotationdefaults": {
           "arrowcolor": "#2a3f5f",
           "arrowhead": 0,
           "arrowwidth": 1
          },
          "coloraxis": {
           "colorbar": {
            "outlinewidth": 0,
            "ticks": ""
           }
          },
          "colorscale": {
           "diverging": [
            [
             0,
             "#8e0152"
            ],
            [
             0.1,
             "#c51b7d"
            ],
            [
             0.2,
             "#de77ae"
            ],
            [
             0.3,
             "#f1b6da"
            ],
            [
             0.4,
             "#fde0ef"
            ],
            [
             0.5,
             "#f7f7f7"
            ],
            [
             0.6,
             "#e6f5d0"
            ],
            [
             0.7,
             "#b8e186"
            ],
            [
             0.8,
             "#7fbc41"
            ],
            [
             0.9,
             "#4d9221"
            ],
            [
             1,
             "#276419"
            ]
           ],
           "sequential": [
            [
             0,
             "#0d0887"
            ],
            [
             0.1111111111111111,
             "#46039f"
            ],
            [
             0.2222222222222222,
             "#7201a8"
            ],
            [
             0.3333333333333333,
             "#9c179e"
            ],
            [
             0.4444444444444444,
             "#bd3786"
            ],
            [
             0.5555555555555556,
             "#d8576b"
            ],
            [
             0.6666666666666666,
             "#ed7953"
            ],
            [
             0.7777777777777778,
             "#fb9f3a"
            ],
            [
             0.8888888888888888,
             "#fdca26"
            ],
            [
             1,
             "#f0f921"
            ]
           ],
           "sequentialminus": [
            [
             0,
             "#0d0887"
            ],
            [
             0.1111111111111111,
             "#46039f"
            ],
            [
             0.2222222222222222,
             "#7201a8"
            ],
            [
             0.3333333333333333,
             "#9c179e"
            ],
            [
             0.4444444444444444,
             "#bd3786"
            ],
            [
             0.5555555555555556,
             "#d8576b"
            ],
            [
             0.6666666666666666,
             "#ed7953"
            ],
            [
             0.7777777777777778,
             "#fb9f3a"
            ],
            [
             0.8888888888888888,
             "#fdca26"
            ],
            [
             1,
             "#f0f921"
            ]
           ]
          },
          "colorway": [
           "#636efa",
           "#EF553B",
           "#00cc96",
           "#ab63fa",
           "#FFA15A",
           "#19d3f3",
           "#FF6692",
           "#B6E880",
           "#FF97FF",
           "#FECB52"
          ],
          "font": {
           "color": "#2a3f5f"
          },
          "geo": {
           "bgcolor": "white",
           "lakecolor": "white",
           "landcolor": "#E5ECF6",
           "showlakes": true,
           "showland": true,
           "subunitcolor": "white"
          },
          "hoverlabel": {
           "align": "left"
          },
          "hovermode": "closest",
          "mapbox": {
           "style": "light"
          },
          "paper_bgcolor": "white",
          "plot_bgcolor": "#E5ECF6",
          "polar": {
           "angularaxis": {
            "gridcolor": "white",
            "linecolor": "white",
            "ticks": ""
           },
           "bgcolor": "#E5ECF6",
           "radialaxis": {
            "gridcolor": "white",
            "linecolor": "white",
            "ticks": ""
           }
          },
          "scene": {
           "xaxis": {
            "backgroundcolor": "#E5ECF6",
            "gridcolor": "white",
            "gridwidth": 2,
            "linecolor": "white",
            "showbackground": true,
            "ticks": "",
            "zerolinecolor": "white"
           },
           "yaxis": {
            "backgroundcolor": "#E5ECF6",
            "gridcolor": "white",
            "gridwidth": 2,
            "linecolor": "white",
            "showbackground": true,
            "ticks": "",
            "zerolinecolor": "white"
           },
           "zaxis": {
            "backgroundcolor": "#E5ECF6",
            "gridcolor": "white",
            "gridwidth": 2,
            "linecolor": "white",
            "showbackground": true,
            "ticks": "",
            "zerolinecolor": "white"
           }
          },
          "shapedefaults": {
           "line": {
            "color": "#2a3f5f"
           }
          },
          "ternary": {
           "aaxis": {
            "gridcolor": "white",
            "linecolor": "white",
            "ticks": ""
           },
           "baxis": {
            "gridcolor": "white",
            "linecolor": "white",
            "ticks": ""
           },
           "bgcolor": "#E5ECF6",
           "caxis": {
            "gridcolor": "white",
            "linecolor": "white",
            "ticks": ""
           }
          },
          "title": {
           "x": 0.05
          },
          "xaxis": {
           "automargin": true,
           "gridcolor": "white",
           "linecolor": "white",
           "ticks": "",
           "title": {
            "standoff": 15
           },
           "zerolinecolor": "white",
           "zerolinewidth": 2
          },
          "yaxis": {
           "automargin": true,
           "gridcolor": "white",
           "linecolor": "white",
           "ticks": "",
           "title": {
            "standoff": 15
           },
           "zerolinecolor": "white",
           "zerolinewidth": 2
          }
         }
        },
        "title": {
         "font": {
          "color": "#4D5663"
         },
         "text": "Covid_19 graph"
        },
        "xaxis": {
         "gridcolor": "#E1E5ED",
         "showgrid": true,
         "tickfont": {
          "color": "#4D5663"
         },
         "title": {
          "font": {
           "color": "#4D5663"
          },
          "text": "State"
         },
         "zerolinecolor": "#E1E5ED"
        },
        "yaxis": {
         "gridcolor": "#E1E5ED",
         "showgrid": true,
         "tickfont": {
          "color": "#4D5663"
         },
         "title": {
          "font": {
           "color": "#4D5663"
          },
          "text": "Recovered"
         },
         "zerolinecolor": "#E1E5ED"
        }
       }
      },
      "text/html": [
       "<div>\n",
       "        \n",
       "        \n",
       "            <div id=\"b31c6b9b-946d-469c-8e4e-a6638bbf60f7\" class=\"plotly-graph-div\" style=\"height:525px; width:100%;\"></div>\n",
       "            <script type=\"text/javascript\">\n",
       "                require([\"plotly\"], function(Plotly) {\n",
       "                    window.PLOTLYENV=window.PLOTLYENV || {};\n",
       "                    window.PLOTLYENV.BASE_URL='https://plot.ly';\n",
       "                    \n",
       "                if (document.getElementById(\"b31c6b9b-946d-469c-8e4e-a6638bbf60f7\")) {\n",
       "                    Plotly.newPlot(\n",
       "                        'b31c6b9b-946d-469c-8e4e-a6638bbf60f7',\n",
       "                        [{\"line\": {\"color\": \"rgba(219, 64, 82, 1.0)\", \"dash\": \"solid\", \"shape\": \"linear\", \"width\": 1.3}, \"marker\": {\"size\": 10, \"symbol\": \"circle\"}, \"mode\": \"markers+lines\", \"name\": \"Recovered\", \"text\": \"\", \"type\": \"scatter\", \"x\": [\"Total\", \"Maharashtra\", \"Gujarat\", \"Delhi\", \"Rajasthan\", \"Madhya Pradesh\", \"Tamil Nadu\", \"Uttar Pradesh\", \"Andhra Pradesh\", \"Telangana\", \"West Bengal\", \"Jammu and Kashmir\", \"Karnataka\", \"Kerala\", \"Punjab\", \"Haryana\", \"Bihar\", \"Odisha\", \"Jharkhand\", \"Uttarakhand\", \"Himachal Pradesh\", \"Chhattisgarh\", \"Assam\", \"Chandigarh\", \"Andaman and Nicobar Islands\", \"Ladakh\", \"Meghalaya\", \"Puducherry\", \"Goa\", \"Manipur\", \"Tripura\", \"Mizoram\", \"Arunachal Pradesh\", \"Nagaland\", \"Dadra and Nagar Haveli\", \"Daman and Diu\", \"Lakshadweep\", \"Sikkim\"], \"y\": [7137, 1282, 394, 877, 744, 357, 1101, 399, 235, 332, 105, 164, 193, 355, 98, 213, 56, 37, 17, 33, 25, 32, 27, 17, 11, 16, 0, 5, 7, 2, 2, 0, 1, 0, 0, 0, 0, 0]}],\n",
       "                        {\"legend\": {\"bgcolor\": \"#F5F6F9\", \"font\": {\"color\": \"#4D5663\"}}, \"paper_bgcolor\": \"#F5F6F9\", \"plot_bgcolor\": \"#F5F6F9\", \"template\": {\"data\": {\"bar\": [{\"error_x\": {\"color\": \"#2a3f5f\"}, \"error_y\": {\"color\": \"#2a3f5f\"}, \"marker\": {\"line\": {\"color\": \"#E5ECF6\", \"width\": 0.5}}, \"type\": \"bar\"}], \"barpolar\": [{\"marker\": {\"line\": {\"color\": \"#E5ECF6\", \"width\": 0.5}}, \"type\": \"barpolar\"}], \"carpet\": [{\"aaxis\": {\"endlinecolor\": \"#2a3f5f\", \"gridcolor\": \"white\", \"linecolor\": \"white\", \"minorgridcolor\": \"white\", \"startlinecolor\": \"#2a3f5f\"}, \"baxis\": {\"endlinecolor\": \"#2a3f5f\", \"gridcolor\": \"white\", \"linecolor\": \"white\", \"minorgridcolor\": \"white\", \"startlinecolor\": \"#2a3f5f\"}, \"type\": \"carpet\"}], \"choropleth\": [{\"colorbar\": {\"outlinewidth\": 0, \"ticks\": \"\"}, \"type\": \"choropleth\"}], \"contour\": [{\"colorbar\": {\"outlinewidth\": 0, \"ticks\": \"\"}, \"colorscale\": [[0.0, \"#0d0887\"], [0.1111111111111111, \"#46039f\"], [0.2222222222222222, \"#7201a8\"], [0.3333333333333333, \"#9c179e\"], [0.4444444444444444, \"#bd3786\"], [0.5555555555555556, \"#d8576b\"], [0.6666666666666666, \"#ed7953\"], [0.7777777777777778, \"#fb9f3a\"], [0.8888888888888888, \"#fdca26\"], [1.0, \"#f0f921\"]], \"type\": \"contour\"}], \"contourcarpet\": [{\"colorbar\": {\"outlinewidth\": 0, \"ticks\": \"\"}, \"type\": \"contourcarpet\"}], \"heatmap\": [{\"colorbar\": {\"outlinewidth\": 0, \"ticks\": \"\"}, \"colorscale\": [[0.0, \"#0d0887\"], [0.1111111111111111, \"#46039f\"], [0.2222222222222222, \"#7201a8\"], [0.3333333333333333, \"#9c179e\"], [0.4444444444444444, \"#bd3786\"], [0.5555555555555556, \"#d8576b\"], [0.6666666666666666, \"#ed7953\"], [0.7777777777777778, \"#fb9f3a\"], [0.8888888888888888, \"#fdca26\"], [1.0, \"#f0f921\"]], \"type\": \"heatmap\"}], \"heatmapgl\": [{\"colorbar\": {\"outlinewidth\": 0, \"ticks\": \"\"}, \"colorscale\": [[0.0, \"#0d0887\"], [0.1111111111111111, \"#46039f\"], [0.2222222222222222, \"#7201a8\"], [0.3333333333333333, \"#9c179e\"], [0.4444444444444444, \"#bd3786\"], [0.5555555555555556, \"#d8576b\"], [0.6666666666666666, \"#ed7953\"], [0.7777777777777778, \"#fb9f3a\"], [0.8888888888888888, \"#fdca26\"], [1.0, \"#f0f921\"]], \"type\": \"heatmapgl\"}], \"histogram\": [{\"marker\": {\"colorbar\": {\"outlinewidth\": 0, \"ticks\": \"\"}}, \"type\": \"histogram\"}], \"histogram2d\": [{\"colorbar\": {\"outlinewidth\": 0, \"ticks\": \"\"}, \"colorscale\": [[0.0, \"#0d0887\"], [0.1111111111111111, \"#46039f\"], [0.2222222222222222, \"#7201a8\"], [0.3333333333333333, \"#9c179e\"], [0.4444444444444444, \"#bd3786\"], [0.5555555555555556, \"#d8576b\"], [0.6666666666666666, \"#ed7953\"], [0.7777777777777778, \"#fb9f3a\"], [0.8888888888888888, \"#fdca26\"], [1.0, \"#f0f921\"]], \"type\": \"histogram2d\"}], \"histogram2dcontour\": [{\"colorbar\": {\"outlinewidth\": 0, \"ticks\": \"\"}, \"colorscale\": [[0.0, \"#0d0887\"], [0.1111111111111111, \"#46039f\"], [0.2222222222222222, \"#7201a8\"], [0.3333333333333333, \"#9c179e\"], [0.4444444444444444, \"#bd3786\"], [0.5555555555555556, \"#d8576b\"], [0.6666666666666666, \"#ed7953\"], [0.7777777777777778, \"#fb9f3a\"], [0.8888888888888888, \"#fdca26\"], [1.0, \"#f0f921\"]], \"type\": \"histogram2dcontour\"}], \"mesh3d\": [{\"colorbar\": {\"outlinewidth\": 0, \"ticks\": \"\"}, \"type\": \"mesh3d\"}], \"parcoords\": [{\"line\": {\"colorbar\": {\"outlinewidth\": 0, \"ticks\": \"\"}}, \"type\": \"parcoords\"}], \"pie\": [{\"automargin\": true, \"type\": \"pie\"}], \"scatter\": [{\"marker\": {\"colorbar\": {\"outlinewidth\": 0, \"ticks\": \"\"}}, \"type\": \"scatter\"}], \"scatter3d\": [{\"line\": {\"colorbar\": {\"outlinewidth\": 0, \"ticks\": \"\"}}, \"marker\": {\"colorbar\": {\"outlinewidth\": 0, \"ticks\": \"\"}}, \"type\": \"scatter3d\"}], \"scattercarpet\": [{\"marker\": {\"colorbar\": {\"outlinewidth\": 0, \"ticks\": \"\"}}, \"type\": \"scattercarpet\"}], \"scattergeo\": [{\"marker\": {\"colorbar\": {\"outlinewidth\": 0, \"ticks\": \"\"}}, \"type\": \"scattergeo\"}], \"scattergl\": [{\"marker\": {\"colorbar\": {\"outlinewidth\": 0, \"ticks\": \"\"}}, \"type\": \"scattergl\"}], \"scattermapbox\": [{\"marker\": {\"colorbar\": {\"outlinewidth\": 0, \"ticks\": \"\"}}, \"type\": \"scattermapbox\"}], \"scatterpolar\": [{\"marker\": {\"colorbar\": {\"outlinewidth\": 0, \"ticks\": \"\"}}, \"type\": \"scatterpolar\"}], \"scatterpolargl\": [{\"marker\": {\"colorbar\": {\"outlinewidth\": 0, \"ticks\": \"\"}}, \"type\": \"scatterpolargl\"}], \"scatterternary\": [{\"marker\": {\"colorbar\": {\"outlinewidth\": 0, \"ticks\": \"\"}}, \"type\": \"scatterternary\"}], \"surface\": [{\"colorbar\": {\"outlinewidth\": 0, \"ticks\": \"\"}, \"colorscale\": [[0.0, \"#0d0887\"], [0.1111111111111111, \"#46039f\"], [0.2222222222222222, \"#7201a8\"], [0.3333333333333333, \"#9c179e\"], [0.4444444444444444, \"#bd3786\"], [0.5555555555555556, \"#d8576b\"], [0.6666666666666666, \"#ed7953\"], [0.7777777777777778, \"#fb9f3a\"], [0.8888888888888888, \"#fdca26\"], [1.0, \"#f0f921\"]], \"type\": \"surface\"}], \"table\": [{\"cells\": {\"fill\": {\"color\": \"#EBF0F8\"}, \"line\": {\"color\": \"white\"}}, \"header\": {\"fill\": {\"color\": \"#C8D4E3\"}, \"line\": {\"color\": \"white\"}}, \"type\": \"table\"}]}, \"layout\": {\"annotationdefaults\": {\"arrowcolor\": \"#2a3f5f\", \"arrowhead\": 0, \"arrowwidth\": 1}, \"coloraxis\": {\"colorbar\": {\"outlinewidth\": 0, \"ticks\": \"\"}}, \"colorscale\": {\"diverging\": [[0, \"#8e0152\"], [0.1, \"#c51b7d\"], [0.2, \"#de77ae\"], [0.3, \"#f1b6da\"], [0.4, \"#fde0ef\"], [0.5, \"#f7f7f7\"], [0.6, \"#e6f5d0\"], [0.7, \"#b8e186\"], [0.8, \"#7fbc41\"], [0.9, \"#4d9221\"], [1, \"#276419\"]], \"sequential\": [[0.0, \"#0d0887\"], [0.1111111111111111, \"#46039f\"], [0.2222222222222222, \"#7201a8\"], [0.3333333333333333, \"#9c179e\"], [0.4444444444444444, \"#bd3786\"], [0.5555555555555556, \"#d8576b\"], [0.6666666666666666, \"#ed7953\"], [0.7777777777777778, \"#fb9f3a\"], [0.8888888888888888, \"#fdca26\"], [1.0, \"#f0f921\"]], \"sequentialminus\": [[0.0, \"#0d0887\"], [0.1111111111111111, \"#46039f\"], [0.2222222222222222, \"#7201a8\"], [0.3333333333333333, \"#9c179e\"], [0.4444444444444444, \"#bd3786\"], [0.5555555555555556, \"#d8576b\"], [0.6666666666666666, \"#ed7953\"], [0.7777777777777778, \"#fb9f3a\"], [0.8888888888888888, \"#fdca26\"], [1.0, \"#f0f921\"]]}, \"colorway\": [\"#636efa\", \"#EF553B\", \"#00cc96\", \"#ab63fa\", \"#FFA15A\", \"#19d3f3\", \"#FF6692\", \"#B6E880\", \"#FF97FF\", \"#FECB52\"], \"font\": {\"color\": \"#2a3f5f\"}, \"geo\": {\"bgcolor\": \"white\", \"lakecolor\": \"white\", \"landcolor\": \"#E5ECF6\", \"showlakes\": true, \"showland\": true, \"subunitcolor\": \"white\"}, \"hoverlabel\": {\"align\": \"left\"}, \"hovermode\": \"closest\", \"mapbox\": {\"style\": \"light\"}, \"paper_bgcolor\": \"white\", \"plot_bgcolor\": \"#E5ECF6\", \"polar\": {\"angularaxis\": {\"gridcolor\": \"white\", \"linecolor\": \"white\", \"ticks\": \"\"}, \"bgcolor\": \"#E5ECF6\", \"radialaxis\": {\"gridcolor\": \"white\", \"linecolor\": \"white\", \"ticks\": \"\"}}, \"scene\": {\"xaxis\": {\"backgroundcolor\": \"#E5ECF6\", \"gridcolor\": \"white\", \"gridwidth\": 2, \"linecolor\": \"white\", \"showbackground\": true, \"ticks\": \"\", \"zerolinecolor\": \"white\"}, \"yaxis\": {\"backgroundcolor\": \"#E5ECF6\", \"gridcolor\": \"white\", \"gridwidth\": 2, \"linecolor\": \"white\", \"showbackground\": true, \"ticks\": \"\", \"zerolinecolor\": \"white\"}, \"zaxis\": {\"backgroundcolor\": \"#E5ECF6\", \"gridcolor\": \"white\", \"gridwidth\": 2, \"linecolor\": \"white\", \"showbackground\": true, \"ticks\": \"\", \"zerolinecolor\": \"white\"}}, \"shapedefaults\": {\"line\": {\"color\": \"#2a3f5f\"}}, \"ternary\": {\"aaxis\": {\"gridcolor\": \"white\", \"linecolor\": \"white\", \"ticks\": \"\"}, \"baxis\": {\"gridcolor\": \"white\", \"linecolor\": \"white\", \"ticks\": \"\"}, \"bgcolor\": \"#E5ECF6\", \"caxis\": {\"gridcolor\": \"white\", \"linecolor\": \"white\", \"ticks\": \"\"}}, \"title\": {\"x\": 0.05}, \"xaxis\": {\"automargin\": true, \"gridcolor\": \"white\", \"linecolor\": \"white\", \"ticks\": \"\", \"title\": {\"standoff\": 15}, \"zerolinecolor\": \"white\", \"zerolinewidth\": 2}, \"yaxis\": {\"automargin\": true, \"gridcolor\": \"white\", \"linecolor\": \"white\", \"ticks\": \"\", \"title\": {\"standoff\": 15}, \"zerolinecolor\": \"white\", \"zerolinewidth\": 2}}}, \"title\": {\"font\": {\"color\": \"#4D5663\"}, \"text\": \"Covid_19 graph\"}, \"xaxis\": {\"gridcolor\": \"#E1E5ED\", \"showgrid\": true, \"tickfont\": {\"color\": \"#4D5663\"}, \"title\": {\"font\": {\"color\": \"#4D5663\"}, \"text\": \"State\"}, \"zerolinecolor\": \"#E1E5ED\"}, \"yaxis\": {\"gridcolor\": \"#E1E5ED\", \"showgrid\": true, \"tickfont\": {\"color\": \"#4D5663\"}, \"title\": {\"font\": {\"color\": \"#4D5663\"}, \"text\": \"Recovered\"}, \"zerolinecolor\": \"#E1E5ED\"}},\n",
       "                        {\"showLink\": true, \"linkText\": \"Export to plot.ly\", \"plotlyServerURL\": \"https://plot.ly\", \"responsive\": true}\n",
       "                    ).then(function(){\n",
       "                            \n",
       "var gd = document.getElementById('b31c6b9b-946d-469c-8e4e-a6638bbf60f7');\n",
       "var x = new MutationObserver(function (mutations, observer) {{\n",
       "        var display = window.getComputedStyle(gd).display;\n",
       "        if (!display || display === 'none') {{\n",
       "            console.log([gd, 'removed!']);\n",
       "            Plotly.purge(gd);\n",
       "            observer.disconnect();\n",
       "        }}\n",
       "}});\n",
       "\n",
       "// Listen for the removal of the full notebook cells\n",
       "var notebookContainer = gd.closest('#notebook-container');\n",
       "if (notebookContainer) {{\n",
       "    x.observe(notebookContainer, {childList: true});\n",
       "}}\n",
       "\n",
       "// Listen for the clearing of the current output cell\n",
       "var outputEl = gd.closest('.output');\n",
       "if (outputEl) {{\n",
       "    x.observe(outputEl, {childList: true});\n",
       "}}\n",
       "\n",
       "                        })\n",
       "                };\n",
       "                });\n",
       "            </script>\n",
       "        </div>"
      ]
     },
     "metadata": {},
     "output_type": "display_data"
    }
   ],
   "source": [
    "df.iplot(kind= 'scatter', x= 'State', y='Recovered', mode= 'markers+lines', title= 'Covid_19 graph', xTitle= 'State', yTitle= 'Recovered', color= 'red', size= 10)\n"
   ]
  },
  {
   "cell_type": "markdown",
   "metadata": {},
   "source": [
    "# Deceased per State"
   ]
  },
  {
   "cell_type": "code",
   "execution_count": 13,
   "metadata": {},
   "outputs": [
    {
     "data": {
      "application/vnd.plotly.v1+json": {
       "config": {
        "linkText": "Export to plot.ly",
        "plotlyServerURL": "https://plot.ly",
        "showLink": true
       },
       "data": [
        {
         "line": {
          "color": "rgba(219, 64, 82, 1.0)",
          "dash": "solid",
          "shape": "linear",
          "width": 1.3
         },
         "marker": {
          "size": 10,
          "symbol": "circle"
         },
         "mode": "markers+lines",
         "name": "Deaths",
         "text": "",
         "type": "scatter",
         "x": [
          "Total",
          "Maharashtra",
          "Gujarat",
          "Delhi",
          "Rajasthan",
          "Madhya Pradesh",
          "Tamil Nadu",
          "Uttar Pradesh",
          "Andhra Pradesh",
          "Telangana",
          "West Bengal",
          "Jammu and Kashmir",
          "Karnataka",
          "Kerala",
          "Punjab",
          "Haryana",
          "Bihar",
          "Odisha",
          "Jharkhand",
          "Uttarakhand",
          "Himachal Pradesh",
          "Chhattisgarh",
          "Assam",
          "Chandigarh",
          "Andaman and Nicobar Islands",
          "Ladakh",
          "Meghalaya",
          "Puducherry",
          "Goa",
          "Manipur",
          "Tripura",
          "Mizoram",
          "Arunachal Pradesh",
          "Nagaland",
          "Dadra and Nagar Haveli",
          "Daman and Diu",
          "Lakshadweep",
          "Sikkim"
         ],
         "y": [
          939,
          369,
          162,
          54,
          50,
          110,
          24,
          31,
          31,
          25,
          20,
          7,
          20,
          4,
          19,
          3,
          2,
          1,
          3,
          0,
          2,
          0,
          1,
          0,
          0,
          0,
          1,
          0,
          0,
          0,
          0,
          0,
          0,
          0,
          0,
          0,
          0,
          0
         ]
        }
       ],
       "layout": {
        "legend": {
         "bgcolor": "#F5F6F9",
         "font": {
          "color": "#4D5663"
         }
        },
        "paper_bgcolor": "#F5F6F9",
        "plot_bgcolor": "#F5F6F9",
        "template": {
         "data": {
          "bar": [
           {
            "error_x": {
             "color": "#2a3f5f"
            },
            "error_y": {
             "color": "#2a3f5f"
            },
            "marker": {
             "line": {
              "color": "#E5ECF6",
              "width": 0.5
             }
            },
            "type": "bar"
           }
          ],
          "barpolar": [
           {
            "marker": {
             "line": {
              "color": "#E5ECF6",
              "width": 0.5
             }
            },
            "type": "barpolar"
           }
          ],
          "carpet": [
           {
            "aaxis": {
             "endlinecolor": "#2a3f5f",
             "gridcolor": "white",
             "linecolor": "white",
             "minorgridcolor": "white",
             "startlinecolor": "#2a3f5f"
            },
            "baxis": {
             "endlinecolor": "#2a3f5f",
             "gridcolor": "white",
             "linecolor": "white",
             "minorgridcolor": "white",
             "startlinecolor": "#2a3f5f"
            },
            "type": "carpet"
           }
          ],
          "choropleth": [
           {
            "colorbar": {
             "outlinewidth": 0,
             "ticks": ""
            },
            "type": "choropleth"
           }
          ],
          "contour": [
           {
            "colorbar": {
             "outlinewidth": 0,
             "ticks": ""
            },
            "colorscale": [
             [
              0,
              "#0d0887"
             ],
             [
              0.1111111111111111,
              "#46039f"
             ],
             [
              0.2222222222222222,
              "#7201a8"
             ],
             [
              0.3333333333333333,
              "#9c179e"
             ],
             [
              0.4444444444444444,
              "#bd3786"
             ],
             [
              0.5555555555555556,
              "#d8576b"
             ],
             [
              0.6666666666666666,
              "#ed7953"
             ],
             [
              0.7777777777777778,
              "#fb9f3a"
             ],
             [
              0.8888888888888888,
              "#fdca26"
             ],
             [
              1,
              "#f0f921"
             ]
            ],
            "type": "contour"
           }
          ],
          "contourcarpet": [
           {
            "colorbar": {
             "outlinewidth": 0,
             "ticks": ""
            },
            "type": "contourcarpet"
           }
          ],
          "heatmap": [
           {
            "colorbar": {
             "outlinewidth": 0,
             "ticks": ""
            },
            "colorscale": [
             [
              0,
              "#0d0887"
             ],
             [
              0.1111111111111111,
              "#46039f"
             ],
             [
              0.2222222222222222,
              "#7201a8"
             ],
             [
              0.3333333333333333,
              "#9c179e"
             ],
             [
              0.4444444444444444,
              "#bd3786"
             ],
             [
              0.5555555555555556,
              "#d8576b"
             ],
             [
              0.6666666666666666,
              "#ed7953"
             ],
             [
              0.7777777777777778,
              "#fb9f3a"
             ],
             [
              0.8888888888888888,
              "#fdca26"
             ],
             [
              1,
              "#f0f921"
             ]
            ],
            "type": "heatmap"
           }
          ],
          "heatmapgl": [
           {
            "colorbar": {
             "outlinewidth": 0,
             "ticks": ""
            },
            "colorscale": [
             [
              0,
              "#0d0887"
             ],
             [
              0.1111111111111111,
              "#46039f"
             ],
             [
              0.2222222222222222,
              "#7201a8"
             ],
             [
              0.3333333333333333,
              "#9c179e"
             ],
             [
              0.4444444444444444,
              "#bd3786"
             ],
             [
              0.5555555555555556,
              "#d8576b"
             ],
             [
              0.6666666666666666,
              "#ed7953"
             ],
             [
              0.7777777777777778,
              "#fb9f3a"
             ],
             [
              0.8888888888888888,
              "#fdca26"
             ],
             [
              1,
              "#f0f921"
             ]
            ],
            "type": "heatmapgl"
           }
          ],
          "histogram": [
           {
            "marker": {
             "colorbar": {
              "outlinewidth": 0,
              "ticks": ""
             }
            },
            "type": "histogram"
           }
          ],
          "histogram2d": [
           {
            "colorbar": {
             "outlinewidth": 0,
             "ticks": ""
            },
            "colorscale": [
             [
              0,
              "#0d0887"
             ],
             [
              0.1111111111111111,
              "#46039f"
             ],
             [
              0.2222222222222222,
              "#7201a8"
             ],
             [
              0.3333333333333333,
              "#9c179e"
             ],
             [
              0.4444444444444444,
              "#bd3786"
             ],
             [
              0.5555555555555556,
              "#d8576b"
             ],
             [
              0.6666666666666666,
              "#ed7953"
             ],
             [
              0.7777777777777778,
              "#fb9f3a"
             ],
             [
              0.8888888888888888,
              "#fdca26"
             ],
             [
              1,
              "#f0f921"
             ]
            ],
            "type": "histogram2d"
           }
          ],
          "histogram2dcontour": [
           {
            "colorbar": {
             "outlinewidth": 0,
             "ticks": ""
            },
            "colorscale": [
             [
              0,
              "#0d0887"
             ],
             [
              0.1111111111111111,
              "#46039f"
             ],
             [
              0.2222222222222222,
              "#7201a8"
             ],
             [
              0.3333333333333333,
              "#9c179e"
             ],
             [
              0.4444444444444444,
              "#bd3786"
             ],
             [
              0.5555555555555556,
              "#d8576b"
             ],
             [
              0.6666666666666666,
              "#ed7953"
             ],
             [
              0.7777777777777778,
              "#fb9f3a"
             ],
             [
              0.8888888888888888,
              "#fdca26"
             ],
             [
              1,
              "#f0f921"
             ]
            ],
            "type": "histogram2dcontour"
           }
          ],
          "mesh3d": [
           {
            "colorbar": {
             "outlinewidth": 0,
             "ticks": ""
            },
            "type": "mesh3d"
           }
          ],
          "parcoords": [
           {
            "line": {
             "colorbar": {
              "outlinewidth": 0,
              "ticks": ""
             }
            },
            "type": "parcoords"
           }
          ],
          "pie": [
           {
            "automargin": true,
            "type": "pie"
           }
          ],
          "scatter": [
           {
            "marker": {
             "colorbar": {
              "outlinewidth": 0,
              "ticks": ""
             }
            },
            "type": "scatter"
           }
          ],
          "scatter3d": [
           {
            "line": {
             "colorbar": {
              "outlinewidth": 0,
              "ticks": ""
             }
            },
            "marker": {
             "colorbar": {
              "outlinewidth": 0,
              "ticks": ""
             }
            },
            "type": "scatter3d"
           }
          ],
          "scattercarpet": [
           {
            "marker": {
             "colorbar": {
              "outlinewidth": 0,
              "ticks": ""
             }
            },
            "type": "scattercarpet"
           }
          ],
          "scattergeo": [
           {
            "marker": {
             "colorbar": {
              "outlinewidth": 0,
              "ticks": ""
             }
            },
            "type": "scattergeo"
           }
          ],
          "scattergl": [
           {
            "marker": {
             "colorbar": {
              "outlinewidth": 0,
              "ticks": ""
             }
            },
            "type": "scattergl"
           }
          ],
          "scattermapbox": [
           {
            "marker": {
             "colorbar": {
              "outlinewidth": 0,
              "ticks": ""
             }
            },
            "type": "scattermapbox"
           }
          ],
          "scatterpolar": [
           {
            "marker": {
             "colorbar": {
              "outlinewidth": 0,
              "ticks": ""
             }
            },
            "type": "scatterpolar"
           }
          ],
          "scatterpolargl": [
           {
            "marker": {
             "colorbar": {
              "outlinewidth": 0,
              "ticks": ""
             }
            },
            "type": "scatterpolargl"
           }
          ],
          "scatterternary": [
           {
            "marker": {
             "colorbar": {
              "outlinewidth": 0,
              "ticks": ""
             }
            },
            "type": "scatterternary"
           }
          ],
          "surface": [
           {
            "colorbar": {
             "outlinewidth": 0,
             "ticks": ""
            },
            "colorscale": [
             [
              0,
              "#0d0887"
             ],
             [
              0.1111111111111111,
              "#46039f"
             ],
             [
              0.2222222222222222,
              "#7201a8"
             ],
             [
              0.3333333333333333,
              "#9c179e"
             ],
             [
              0.4444444444444444,
              "#bd3786"
             ],
             [
              0.5555555555555556,
              "#d8576b"
             ],
             [
              0.6666666666666666,
              "#ed7953"
             ],
             [
              0.7777777777777778,
              "#fb9f3a"
             ],
             [
              0.8888888888888888,
              "#fdca26"
             ],
             [
              1,
              "#f0f921"
             ]
            ],
            "type": "surface"
           }
          ],
          "table": [
           {
            "cells": {
             "fill": {
              "color": "#EBF0F8"
             },
             "line": {
              "color": "white"
             }
            },
            "header": {
             "fill": {
              "color": "#C8D4E3"
             },
             "line": {
              "color": "white"
             }
            },
            "type": "table"
           }
          ]
         },
         "layout": {
          "annotationdefaults": {
           "arrowcolor": "#2a3f5f",
           "arrowhead": 0,
           "arrowwidth": 1
          },
          "coloraxis": {
           "colorbar": {
            "outlinewidth": 0,
            "ticks": ""
           }
          },
          "colorscale": {
           "diverging": [
            [
             0,
             "#8e0152"
            ],
            [
             0.1,
             "#c51b7d"
            ],
            [
             0.2,
             "#de77ae"
            ],
            [
             0.3,
             "#f1b6da"
            ],
            [
             0.4,
             "#fde0ef"
            ],
            [
             0.5,
             "#f7f7f7"
            ],
            [
             0.6,
             "#e6f5d0"
            ],
            [
             0.7,
             "#b8e186"
            ],
            [
             0.8,
             "#7fbc41"
            ],
            [
             0.9,
             "#4d9221"
            ],
            [
             1,
             "#276419"
            ]
           ],
           "sequential": [
            [
             0,
             "#0d0887"
            ],
            [
             0.1111111111111111,
             "#46039f"
            ],
            [
             0.2222222222222222,
             "#7201a8"
            ],
            [
             0.3333333333333333,
             "#9c179e"
            ],
            [
             0.4444444444444444,
             "#bd3786"
            ],
            [
             0.5555555555555556,
             "#d8576b"
            ],
            [
             0.6666666666666666,
             "#ed7953"
            ],
            [
             0.7777777777777778,
             "#fb9f3a"
            ],
            [
             0.8888888888888888,
             "#fdca26"
            ],
            [
             1,
             "#f0f921"
            ]
           ],
           "sequentialminus": [
            [
             0,
             "#0d0887"
            ],
            [
             0.1111111111111111,
             "#46039f"
            ],
            [
             0.2222222222222222,
             "#7201a8"
            ],
            [
             0.3333333333333333,
             "#9c179e"
            ],
            [
             0.4444444444444444,
             "#bd3786"
            ],
            [
             0.5555555555555556,
             "#d8576b"
            ],
            [
             0.6666666666666666,
             "#ed7953"
            ],
            [
             0.7777777777777778,
             "#fb9f3a"
            ],
            [
             0.8888888888888888,
             "#fdca26"
            ],
            [
             1,
             "#f0f921"
            ]
           ]
          },
          "colorway": [
           "#636efa",
           "#EF553B",
           "#00cc96",
           "#ab63fa",
           "#FFA15A",
           "#19d3f3",
           "#FF6692",
           "#B6E880",
           "#FF97FF",
           "#FECB52"
          ],
          "font": {
           "color": "#2a3f5f"
          },
          "geo": {
           "bgcolor": "white",
           "lakecolor": "white",
           "landcolor": "#E5ECF6",
           "showlakes": true,
           "showland": true,
           "subunitcolor": "white"
          },
          "hoverlabel": {
           "align": "left"
          },
          "hovermode": "closest",
          "mapbox": {
           "style": "light"
          },
          "paper_bgcolor": "white",
          "plot_bgcolor": "#E5ECF6",
          "polar": {
           "angularaxis": {
            "gridcolor": "white",
            "linecolor": "white",
            "ticks": ""
           },
           "bgcolor": "#E5ECF6",
           "radialaxis": {
            "gridcolor": "white",
            "linecolor": "white",
            "ticks": ""
           }
          },
          "scene": {
           "xaxis": {
            "backgroundcolor": "#E5ECF6",
            "gridcolor": "white",
            "gridwidth": 2,
            "linecolor": "white",
            "showbackground": true,
            "ticks": "",
            "zerolinecolor": "white"
           },
           "yaxis": {
            "backgroundcolor": "#E5ECF6",
            "gridcolor": "white",
            "gridwidth": 2,
            "linecolor": "white",
            "showbackground": true,
            "ticks": "",
            "zerolinecolor": "white"
           },
           "zaxis": {
            "backgroundcolor": "#E5ECF6",
            "gridcolor": "white",
            "gridwidth": 2,
            "linecolor": "white",
            "showbackground": true,
            "ticks": "",
            "zerolinecolor": "white"
           }
          },
          "shapedefaults": {
           "line": {
            "color": "#2a3f5f"
           }
          },
          "ternary": {
           "aaxis": {
            "gridcolor": "white",
            "linecolor": "white",
            "ticks": ""
           },
           "baxis": {
            "gridcolor": "white",
            "linecolor": "white",
            "ticks": ""
           },
           "bgcolor": "#E5ECF6",
           "caxis": {
            "gridcolor": "white",
            "linecolor": "white",
            "ticks": ""
           }
          },
          "title": {
           "x": 0.05
          },
          "xaxis": {
           "automargin": true,
           "gridcolor": "white",
           "linecolor": "white",
           "ticks": "",
           "title": {
            "standoff": 15
           },
           "zerolinecolor": "white",
           "zerolinewidth": 2
          },
          "yaxis": {
           "automargin": true,
           "gridcolor": "white",
           "linecolor": "white",
           "ticks": "",
           "title": {
            "standoff": 15
           },
           "zerolinecolor": "white",
           "zerolinewidth": 2
          }
         }
        },
        "title": {
         "font": {
          "color": "#4D5663"
         },
         "text": "Covid_19 graph"
        },
        "xaxis": {
         "gridcolor": "#E1E5ED",
         "showgrid": true,
         "tickfont": {
          "color": "#4D5663"
         },
         "title": {
          "font": {
           "color": "#4D5663"
          },
          "text": "State"
         },
         "zerolinecolor": "#E1E5ED"
        },
        "yaxis": {
         "gridcolor": "#E1E5ED",
         "showgrid": true,
         "tickfont": {
          "color": "#4D5663"
         },
         "title": {
          "font": {
           "color": "#4D5663"
          },
          "text": "Deaths"
         },
         "zerolinecolor": "#E1E5ED"
        }
       }
      },
      "text/html": [
       "<div>\n",
       "        \n",
       "        \n",
       "            <div id=\"3a66afa3-be4b-47d5-9c32-6493a27e876a\" class=\"plotly-graph-div\" style=\"height:525px; width:100%;\"></div>\n",
       "            <script type=\"text/javascript\">\n",
       "                require([\"plotly\"], function(Plotly) {\n",
       "                    window.PLOTLYENV=window.PLOTLYENV || {};\n",
       "                    window.PLOTLYENV.BASE_URL='https://plot.ly';\n",
       "                    \n",
       "                if (document.getElementById(\"3a66afa3-be4b-47d5-9c32-6493a27e876a\")) {\n",
       "                    Plotly.newPlot(\n",
       "                        '3a66afa3-be4b-47d5-9c32-6493a27e876a',\n",
       "                        [{\"line\": {\"color\": \"rgba(219, 64, 82, 1.0)\", \"dash\": \"solid\", \"shape\": \"linear\", \"width\": 1.3}, \"marker\": {\"size\": 10, \"symbol\": \"circle\"}, \"mode\": \"markers+lines\", \"name\": \"Deaths\", \"text\": \"\", \"type\": \"scatter\", \"x\": [\"Total\", \"Maharashtra\", \"Gujarat\", \"Delhi\", \"Rajasthan\", \"Madhya Pradesh\", \"Tamil Nadu\", \"Uttar Pradesh\", \"Andhra Pradesh\", \"Telangana\", \"West Bengal\", \"Jammu and Kashmir\", \"Karnataka\", \"Kerala\", \"Punjab\", \"Haryana\", \"Bihar\", \"Odisha\", \"Jharkhand\", \"Uttarakhand\", \"Himachal Pradesh\", \"Chhattisgarh\", \"Assam\", \"Chandigarh\", \"Andaman and Nicobar Islands\", \"Ladakh\", \"Meghalaya\", \"Puducherry\", \"Goa\", \"Manipur\", \"Tripura\", \"Mizoram\", \"Arunachal Pradesh\", \"Nagaland\", \"Dadra and Nagar Haveli\", \"Daman and Diu\", \"Lakshadweep\", \"Sikkim\"], \"y\": [939, 369, 162, 54, 50, 110, 24, 31, 31, 25, 20, 7, 20, 4, 19, 3, 2, 1, 3, 0, 2, 0, 1, 0, 0, 0, 1, 0, 0, 0, 0, 0, 0, 0, 0, 0, 0, 0]}],\n",
       "                        {\"legend\": {\"bgcolor\": \"#F5F6F9\", \"font\": {\"color\": \"#4D5663\"}}, \"paper_bgcolor\": \"#F5F6F9\", \"plot_bgcolor\": \"#F5F6F9\", \"template\": {\"data\": {\"bar\": [{\"error_x\": {\"color\": \"#2a3f5f\"}, \"error_y\": {\"color\": \"#2a3f5f\"}, \"marker\": {\"line\": {\"color\": \"#E5ECF6\", \"width\": 0.5}}, \"type\": \"bar\"}], \"barpolar\": [{\"marker\": {\"line\": {\"color\": \"#E5ECF6\", \"width\": 0.5}}, \"type\": \"barpolar\"}], \"carpet\": [{\"aaxis\": {\"endlinecolor\": \"#2a3f5f\", \"gridcolor\": \"white\", \"linecolor\": \"white\", \"minorgridcolor\": \"white\", \"startlinecolor\": \"#2a3f5f\"}, \"baxis\": {\"endlinecolor\": \"#2a3f5f\", \"gridcolor\": \"white\", \"linecolor\": \"white\", \"minorgridcolor\": \"white\", \"startlinecolor\": \"#2a3f5f\"}, \"type\": \"carpet\"}], \"choropleth\": [{\"colorbar\": {\"outlinewidth\": 0, \"ticks\": \"\"}, \"type\": \"choropleth\"}], \"contour\": [{\"colorbar\": {\"outlinewidth\": 0, \"ticks\": \"\"}, \"colorscale\": [[0.0, \"#0d0887\"], [0.1111111111111111, \"#46039f\"], [0.2222222222222222, \"#7201a8\"], [0.3333333333333333, \"#9c179e\"], [0.4444444444444444, \"#bd3786\"], [0.5555555555555556, \"#d8576b\"], [0.6666666666666666, \"#ed7953\"], [0.7777777777777778, \"#fb9f3a\"], [0.8888888888888888, \"#fdca26\"], [1.0, \"#f0f921\"]], \"type\": \"contour\"}], \"contourcarpet\": [{\"colorbar\": {\"outlinewidth\": 0, \"ticks\": \"\"}, \"type\": \"contourcarpet\"}], \"heatmap\": [{\"colorbar\": {\"outlinewidth\": 0, \"ticks\": \"\"}, \"colorscale\": [[0.0, \"#0d0887\"], [0.1111111111111111, \"#46039f\"], [0.2222222222222222, \"#7201a8\"], [0.3333333333333333, \"#9c179e\"], [0.4444444444444444, \"#bd3786\"], [0.5555555555555556, \"#d8576b\"], [0.6666666666666666, \"#ed7953\"], [0.7777777777777778, \"#fb9f3a\"], [0.8888888888888888, \"#fdca26\"], [1.0, \"#f0f921\"]], \"type\": \"heatmap\"}], \"heatmapgl\": [{\"colorbar\": {\"outlinewidth\": 0, \"ticks\": \"\"}, \"colorscale\": [[0.0, \"#0d0887\"], [0.1111111111111111, \"#46039f\"], [0.2222222222222222, \"#7201a8\"], [0.3333333333333333, \"#9c179e\"], [0.4444444444444444, \"#bd3786\"], [0.5555555555555556, \"#d8576b\"], [0.6666666666666666, \"#ed7953\"], [0.7777777777777778, \"#fb9f3a\"], [0.8888888888888888, \"#fdca26\"], [1.0, \"#f0f921\"]], \"type\": \"heatmapgl\"}], \"histogram\": [{\"marker\": {\"colorbar\": {\"outlinewidth\": 0, \"ticks\": \"\"}}, \"type\": \"histogram\"}], \"histogram2d\": [{\"colorbar\": {\"outlinewidth\": 0, \"ticks\": \"\"}, \"colorscale\": [[0.0, \"#0d0887\"], [0.1111111111111111, \"#46039f\"], [0.2222222222222222, \"#7201a8\"], [0.3333333333333333, \"#9c179e\"], [0.4444444444444444, \"#bd3786\"], [0.5555555555555556, \"#d8576b\"], [0.6666666666666666, \"#ed7953\"], [0.7777777777777778, \"#fb9f3a\"], [0.8888888888888888, \"#fdca26\"], [1.0, \"#f0f921\"]], \"type\": \"histogram2d\"}], \"histogram2dcontour\": [{\"colorbar\": {\"outlinewidth\": 0, \"ticks\": \"\"}, \"colorscale\": [[0.0, \"#0d0887\"], [0.1111111111111111, \"#46039f\"], [0.2222222222222222, \"#7201a8\"], [0.3333333333333333, \"#9c179e\"], [0.4444444444444444, \"#bd3786\"], [0.5555555555555556, \"#d8576b\"], [0.6666666666666666, \"#ed7953\"], [0.7777777777777778, \"#fb9f3a\"], [0.8888888888888888, \"#fdca26\"], [1.0, \"#f0f921\"]], \"type\": \"histogram2dcontour\"}], \"mesh3d\": [{\"colorbar\": {\"outlinewidth\": 0, \"ticks\": \"\"}, \"type\": \"mesh3d\"}], \"parcoords\": [{\"line\": {\"colorbar\": {\"outlinewidth\": 0, \"ticks\": \"\"}}, \"type\": \"parcoords\"}], \"pie\": [{\"automargin\": true, \"type\": \"pie\"}], \"scatter\": [{\"marker\": {\"colorbar\": {\"outlinewidth\": 0, \"ticks\": \"\"}}, \"type\": \"scatter\"}], \"scatter3d\": [{\"line\": {\"colorbar\": {\"outlinewidth\": 0, \"ticks\": \"\"}}, \"marker\": {\"colorbar\": {\"outlinewidth\": 0, \"ticks\": \"\"}}, \"type\": \"scatter3d\"}], \"scattercarpet\": [{\"marker\": {\"colorbar\": {\"outlinewidth\": 0, \"ticks\": \"\"}}, \"type\": \"scattercarpet\"}], \"scattergeo\": [{\"marker\": {\"colorbar\": {\"outlinewidth\": 0, \"ticks\": \"\"}}, \"type\": \"scattergeo\"}], \"scattergl\": [{\"marker\": {\"colorbar\": {\"outlinewidth\": 0, \"ticks\": \"\"}}, \"type\": \"scattergl\"}], \"scattermapbox\": [{\"marker\": {\"colorbar\": {\"outlinewidth\": 0, \"ticks\": \"\"}}, \"type\": \"scattermapbox\"}], \"scatterpolar\": [{\"marker\": {\"colorbar\": {\"outlinewidth\": 0, \"ticks\": \"\"}}, \"type\": \"scatterpolar\"}], \"scatterpolargl\": [{\"marker\": {\"colorbar\": {\"outlinewidth\": 0, \"ticks\": \"\"}}, \"type\": \"scatterpolargl\"}], \"scatterternary\": [{\"marker\": {\"colorbar\": {\"outlinewidth\": 0, \"ticks\": \"\"}}, \"type\": \"scatterternary\"}], \"surface\": [{\"colorbar\": {\"outlinewidth\": 0, \"ticks\": \"\"}, \"colorscale\": [[0.0, \"#0d0887\"], [0.1111111111111111, \"#46039f\"], [0.2222222222222222, \"#7201a8\"], [0.3333333333333333, \"#9c179e\"], [0.4444444444444444, \"#bd3786\"], [0.5555555555555556, \"#d8576b\"], [0.6666666666666666, \"#ed7953\"], [0.7777777777777778, \"#fb9f3a\"], [0.8888888888888888, \"#fdca26\"], [1.0, \"#f0f921\"]], \"type\": \"surface\"}], \"table\": [{\"cells\": {\"fill\": {\"color\": \"#EBF0F8\"}, \"line\": {\"color\": \"white\"}}, \"header\": {\"fill\": {\"color\": \"#C8D4E3\"}, \"line\": {\"color\": \"white\"}}, \"type\": \"table\"}]}, \"layout\": {\"annotationdefaults\": {\"arrowcolor\": \"#2a3f5f\", \"arrowhead\": 0, \"arrowwidth\": 1}, \"coloraxis\": {\"colorbar\": {\"outlinewidth\": 0, \"ticks\": \"\"}}, \"colorscale\": {\"diverging\": [[0, \"#8e0152\"], [0.1, \"#c51b7d\"], [0.2, \"#de77ae\"], [0.3, \"#f1b6da\"], [0.4, \"#fde0ef\"], [0.5, \"#f7f7f7\"], [0.6, \"#e6f5d0\"], [0.7, \"#b8e186\"], [0.8, \"#7fbc41\"], [0.9, \"#4d9221\"], [1, \"#276419\"]], \"sequential\": [[0.0, \"#0d0887\"], [0.1111111111111111, \"#46039f\"], [0.2222222222222222, \"#7201a8\"], [0.3333333333333333, \"#9c179e\"], [0.4444444444444444, \"#bd3786\"], [0.5555555555555556, \"#d8576b\"], [0.6666666666666666, \"#ed7953\"], [0.7777777777777778, \"#fb9f3a\"], [0.8888888888888888, \"#fdca26\"], [1.0, \"#f0f921\"]], \"sequentialminus\": [[0.0, \"#0d0887\"], [0.1111111111111111, \"#46039f\"], [0.2222222222222222, \"#7201a8\"], [0.3333333333333333, \"#9c179e\"], [0.4444444444444444, \"#bd3786\"], [0.5555555555555556, \"#d8576b\"], [0.6666666666666666, \"#ed7953\"], [0.7777777777777778, \"#fb9f3a\"], [0.8888888888888888, \"#fdca26\"], [1.0, \"#f0f921\"]]}, \"colorway\": [\"#636efa\", \"#EF553B\", \"#00cc96\", \"#ab63fa\", \"#FFA15A\", \"#19d3f3\", \"#FF6692\", \"#B6E880\", \"#FF97FF\", \"#FECB52\"], \"font\": {\"color\": \"#2a3f5f\"}, \"geo\": {\"bgcolor\": \"white\", \"lakecolor\": \"white\", \"landcolor\": \"#E5ECF6\", \"showlakes\": true, \"showland\": true, \"subunitcolor\": \"white\"}, \"hoverlabel\": {\"align\": \"left\"}, \"hovermode\": \"closest\", \"mapbox\": {\"style\": \"light\"}, \"paper_bgcolor\": \"white\", \"plot_bgcolor\": \"#E5ECF6\", \"polar\": {\"angularaxis\": {\"gridcolor\": \"white\", \"linecolor\": \"white\", \"ticks\": \"\"}, \"bgcolor\": \"#E5ECF6\", \"radialaxis\": {\"gridcolor\": \"white\", \"linecolor\": \"white\", \"ticks\": \"\"}}, \"scene\": {\"xaxis\": {\"backgroundcolor\": \"#E5ECF6\", \"gridcolor\": \"white\", \"gridwidth\": 2, \"linecolor\": \"white\", \"showbackground\": true, \"ticks\": \"\", \"zerolinecolor\": \"white\"}, \"yaxis\": {\"backgroundcolor\": \"#E5ECF6\", \"gridcolor\": \"white\", \"gridwidth\": 2, \"linecolor\": \"white\", \"showbackground\": true, \"ticks\": \"\", \"zerolinecolor\": \"white\"}, \"zaxis\": {\"backgroundcolor\": \"#E5ECF6\", \"gridcolor\": \"white\", \"gridwidth\": 2, \"linecolor\": \"white\", \"showbackground\": true, \"ticks\": \"\", \"zerolinecolor\": \"white\"}}, \"shapedefaults\": {\"line\": {\"color\": \"#2a3f5f\"}}, \"ternary\": {\"aaxis\": {\"gridcolor\": \"white\", \"linecolor\": \"white\", \"ticks\": \"\"}, \"baxis\": {\"gridcolor\": \"white\", \"linecolor\": \"white\", \"ticks\": \"\"}, \"bgcolor\": \"#E5ECF6\", \"caxis\": {\"gridcolor\": \"white\", \"linecolor\": \"white\", \"ticks\": \"\"}}, \"title\": {\"x\": 0.05}, \"xaxis\": {\"automargin\": true, \"gridcolor\": \"white\", \"linecolor\": \"white\", \"ticks\": \"\", \"title\": {\"standoff\": 15}, \"zerolinecolor\": \"white\", \"zerolinewidth\": 2}, \"yaxis\": {\"automargin\": true, \"gridcolor\": \"white\", \"linecolor\": \"white\", \"ticks\": \"\", \"title\": {\"standoff\": 15}, \"zerolinecolor\": \"white\", \"zerolinewidth\": 2}}}, \"title\": {\"font\": {\"color\": \"#4D5663\"}, \"text\": \"Covid_19 graph\"}, \"xaxis\": {\"gridcolor\": \"#E1E5ED\", \"showgrid\": true, \"tickfont\": {\"color\": \"#4D5663\"}, \"title\": {\"font\": {\"color\": \"#4D5663\"}, \"text\": \"State\"}, \"zerolinecolor\": \"#E1E5ED\"}, \"yaxis\": {\"gridcolor\": \"#E1E5ED\", \"showgrid\": true, \"tickfont\": {\"color\": \"#4D5663\"}, \"title\": {\"font\": {\"color\": \"#4D5663\"}, \"text\": \"Deaths\"}, \"zerolinecolor\": \"#E1E5ED\"}},\n",
       "                        {\"showLink\": true, \"linkText\": \"Export to plot.ly\", \"plotlyServerURL\": \"https://plot.ly\", \"responsive\": true}\n",
       "                    ).then(function(){\n",
       "                            \n",
       "var gd = document.getElementById('3a66afa3-be4b-47d5-9c32-6493a27e876a');\n",
       "var x = new MutationObserver(function (mutations, observer) {{\n",
       "        var display = window.getComputedStyle(gd).display;\n",
       "        if (!display || display === 'none') {{\n",
       "            console.log([gd, 'removed!']);\n",
       "            Plotly.purge(gd);\n",
       "            observer.disconnect();\n",
       "        }}\n",
       "}});\n",
       "\n",
       "// Listen for the removal of the full notebook cells\n",
       "var notebookContainer = gd.closest('#notebook-container');\n",
       "if (notebookContainer) {{\n",
       "    x.observe(notebookContainer, {childList: true});\n",
       "}}\n",
       "\n",
       "// Listen for the clearing of the current output cell\n",
       "var outputEl = gd.closest('.output');\n",
       "if (outputEl) {{\n",
       "    x.observe(outputEl, {childList: true});\n",
       "}}\n",
       "\n",
       "                        })\n",
       "                };\n",
       "                });\n",
       "            </script>\n",
       "        </div>"
      ]
     },
     "metadata": {},
     "output_type": "display_data"
    }
   ],
   "source": [
    "df.iplot(kind= 'scatter', x= 'State', y='Deaths', mode= 'markers+lines', title= 'Covid_19 graph', xTitle= 'State', yTitle= 'Deaths', color= 'red', size= 10)\n"
   ]
  },
  {
   "cell_type": "markdown",
   "metadata": {},
   "source": [
    "# Active Cases per State"
   ]
  },
  {
   "cell_type": "code",
   "execution_count": 14,
   "metadata": {},
   "outputs": [
    {
     "data": {
      "application/vnd.plotly.v1+json": {
       "config": {
        "linkText": "Export to plot.ly",
        "plotlyServerURL": "https://plot.ly",
        "showLink": true
       },
       "data": [
        {
         "line": {
          "color": "rgba(219, 64, 82, 1.0)",
          "dash": "solid",
          "shape": "linear",
          "width": 1.3
         },
         "marker": {
          "size": 10,
          "symbol": "circle"
         },
         "mode": "markers+lines",
         "name": "Active",
         "text": "",
         "type": "scatter",
         "x": [
          "Total",
          "Maharashtra",
          "Gujarat",
          "Delhi",
          "Rajasthan",
          "Madhya Pradesh",
          "Tamil Nadu",
          "Uttar Pradesh",
          "Andhra Pradesh",
          "Telangana",
          "West Bengal",
          "Jammu and Kashmir",
          "Karnataka",
          "Kerala",
          "Punjab",
          "Haryana",
          "Bihar",
          "Odisha",
          "Jharkhand",
          "Uttarakhand",
          "Himachal Pradesh",
          "Chhattisgarh",
          "Assam",
          "Chandigarh",
          "Andaman and Nicobar Islands",
          "Ladakh",
          "Meghalaya",
          "Puducherry",
          "Goa",
          "Manipur",
          "Tripura",
          "Mizoram",
          "Arunachal Pradesh",
          "Nagaland",
          "Dadra and Nagar Haveli",
          "Daman and Diu",
          "Lakshadweep",
          "Sikkim"
         ],
         "y": [
          21382,
          6939,
          2992,
          2177,
          1468,
          1698,
          812,
          1556,
          911,
          646,
          524,
          375,
          299,
          123,
          213,
          85,
          288,
          80,
          83,
          18,
          13,
          5,
          8,
          28,
          22,
          4,
          11,
          3,
          0,
          0,
          0,
          1,
          0,
          0,
          0,
          0,
          0,
          0
         ]
        }
       ],
       "layout": {
        "legend": {
         "bgcolor": "#F5F6F9",
         "font": {
          "color": "#4D5663"
         }
        },
        "paper_bgcolor": "#F5F6F9",
        "plot_bgcolor": "#F5F6F9",
        "template": {
         "data": {
          "bar": [
           {
            "error_x": {
             "color": "#2a3f5f"
            },
            "error_y": {
             "color": "#2a3f5f"
            },
            "marker": {
             "line": {
              "color": "#E5ECF6",
              "width": 0.5
             }
            },
            "type": "bar"
           }
          ],
          "barpolar": [
           {
            "marker": {
             "line": {
              "color": "#E5ECF6",
              "width": 0.5
             }
            },
            "type": "barpolar"
           }
          ],
          "carpet": [
           {
            "aaxis": {
             "endlinecolor": "#2a3f5f",
             "gridcolor": "white",
             "linecolor": "white",
             "minorgridcolor": "white",
             "startlinecolor": "#2a3f5f"
            },
            "baxis": {
             "endlinecolor": "#2a3f5f",
             "gridcolor": "white",
             "linecolor": "white",
             "minorgridcolor": "white",
             "startlinecolor": "#2a3f5f"
            },
            "type": "carpet"
           }
          ],
          "choropleth": [
           {
            "colorbar": {
             "outlinewidth": 0,
             "ticks": ""
            },
            "type": "choropleth"
           }
          ],
          "contour": [
           {
            "colorbar": {
             "outlinewidth": 0,
             "ticks": ""
            },
            "colorscale": [
             [
              0,
              "#0d0887"
             ],
             [
              0.1111111111111111,
              "#46039f"
             ],
             [
              0.2222222222222222,
              "#7201a8"
             ],
             [
              0.3333333333333333,
              "#9c179e"
             ],
             [
              0.4444444444444444,
              "#bd3786"
             ],
             [
              0.5555555555555556,
              "#d8576b"
             ],
             [
              0.6666666666666666,
              "#ed7953"
             ],
             [
              0.7777777777777778,
              "#fb9f3a"
             ],
             [
              0.8888888888888888,
              "#fdca26"
             ],
             [
              1,
              "#f0f921"
             ]
            ],
            "type": "contour"
           }
          ],
          "contourcarpet": [
           {
            "colorbar": {
             "outlinewidth": 0,
             "ticks": ""
            },
            "type": "contourcarpet"
           }
          ],
          "heatmap": [
           {
            "colorbar": {
             "outlinewidth": 0,
             "ticks": ""
            },
            "colorscale": [
             [
              0,
              "#0d0887"
             ],
             [
              0.1111111111111111,
              "#46039f"
             ],
             [
              0.2222222222222222,
              "#7201a8"
             ],
             [
              0.3333333333333333,
              "#9c179e"
             ],
             [
              0.4444444444444444,
              "#bd3786"
             ],
             [
              0.5555555555555556,
              "#d8576b"
             ],
             [
              0.6666666666666666,
              "#ed7953"
             ],
             [
              0.7777777777777778,
              "#fb9f3a"
             ],
             [
              0.8888888888888888,
              "#fdca26"
             ],
             [
              1,
              "#f0f921"
             ]
            ],
            "type": "heatmap"
           }
          ],
          "heatmapgl": [
           {
            "colorbar": {
             "outlinewidth": 0,
             "ticks": ""
            },
            "colorscale": [
             [
              0,
              "#0d0887"
             ],
             [
              0.1111111111111111,
              "#46039f"
             ],
             [
              0.2222222222222222,
              "#7201a8"
             ],
             [
              0.3333333333333333,
              "#9c179e"
             ],
             [
              0.4444444444444444,
              "#bd3786"
             ],
             [
              0.5555555555555556,
              "#d8576b"
             ],
             [
              0.6666666666666666,
              "#ed7953"
             ],
             [
              0.7777777777777778,
              "#fb9f3a"
             ],
             [
              0.8888888888888888,
              "#fdca26"
             ],
             [
              1,
              "#f0f921"
             ]
            ],
            "type": "heatmapgl"
           }
          ],
          "histogram": [
           {
            "marker": {
             "colorbar": {
              "outlinewidth": 0,
              "ticks": ""
             }
            },
            "type": "histogram"
           }
          ],
          "histogram2d": [
           {
            "colorbar": {
             "outlinewidth": 0,
             "ticks": ""
            },
            "colorscale": [
             [
              0,
              "#0d0887"
             ],
             [
              0.1111111111111111,
              "#46039f"
             ],
             [
              0.2222222222222222,
              "#7201a8"
             ],
             [
              0.3333333333333333,
              "#9c179e"
             ],
             [
              0.4444444444444444,
              "#bd3786"
             ],
             [
              0.5555555555555556,
              "#d8576b"
             ],
             [
              0.6666666666666666,
              "#ed7953"
             ],
             [
              0.7777777777777778,
              "#fb9f3a"
             ],
             [
              0.8888888888888888,
              "#fdca26"
             ],
             [
              1,
              "#f0f921"
             ]
            ],
            "type": "histogram2d"
           }
          ],
          "histogram2dcontour": [
           {
            "colorbar": {
             "outlinewidth": 0,
             "ticks": ""
            },
            "colorscale": [
             [
              0,
              "#0d0887"
             ],
             [
              0.1111111111111111,
              "#46039f"
             ],
             [
              0.2222222222222222,
              "#7201a8"
             ],
             [
              0.3333333333333333,
              "#9c179e"
             ],
             [
              0.4444444444444444,
              "#bd3786"
             ],
             [
              0.5555555555555556,
              "#d8576b"
             ],
             [
              0.6666666666666666,
              "#ed7953"
             ],
             [
              0.7777777777777778,
              "#fb9f3a"
             ],
             [
              0.8888888888888888,
              "#fdca26"
             ],
             [
              1,
              "#f0f921"
             ]
            ],
            "type": "histogram2dcontour"
           }
          ],
          "mesh3d": [
           {
            "colorbar": {
             "outlinewidth": 0,
             "ticks": ""
            },
            "type": "mesh3d"
           }
          ],
          "parcoords": [
           {
            "line": {
             "colorbar": {
              "outlinewidth": 0,
              "ticks": ""
             }
            },
            "type": "parcoords"
           }
          ],
          "pie": [
           {
            "automargin": true,
            "type": "pie"
           }
          ],
          "scatter": [
           {
            "marker": {
             "colorbar": {
              "outlinewidth": 0,
              "ticks": ""
             }
            },
            "type": "scatter"
           }
          ],
          "scatter3d": [
           {
            "line": {
             "colorbar": {
              "outlinewidth": 0,
              "ticks": ""
             }
            },
            "marker": {
             "colorbar": {
              "outlinewidth": 0,
              "ticks": ""
             }
            },
            "type": "scatter3d"
           }
          ],
          "scattercarpet": [
           {
            "marker": {
             "colorbar": {
              "outlinewidth": 0,
              "ticks": ""
             }
            },
            "type": "scattercarpet"
           }
          ],
          "scattergeo": [
           {
            "marker": {
             "colorbar": {
              "outlinewidth": 0,
              "ticks": ""
             }
            },
            "type": "scattergeo"
           }
          ],
          "scattergl": [
           {
            "marker": {
             "colorbar": {
              "outlinewidth": 0,
              "ticks": ""
             }
            },
            "type": "scattergl"
           }
          ],
          "scattermapbox": [
           {
            "marker": {
             "colorbar": {
              "outlinewidth": 0,
              "ticks": ""
             }
            },
            "type": "scattermapbox"
           }
          ],
          "scatterpolar": [
           {
            "marker": {
             "colorbar": {
              "outlinewidth": 0,
              "ticks": ""
             }
            },
            "type": "scatterpolar"
           }
          ],
          "scatterpolargl": [
           {
            "marker": {
             "colorbar": {
              "outlinewidth": 0,
              "ticks": ""
             }
            },
            "type": "scatterpolargl"
           }
          ],
          "scatterternary": [
           {
            "marker": {
             "colorbar": {
              "outlinewidth": 0,
              "ticks": ""
             }
            },
            "type": "scatterternary"
           }
          ],
          "surface": [
           {
            "colorbar": {
             "outlinewidth": 0,
             "ticks": ""
            },
            "colorscale": [
             [
              0,
              "#0d0887"
             ],
             [
              0.1111111111111111,
              "#46039f"
             ],
             [
              0.2222222222222222,
              "#7201a8"
             ],
             [
              0.3333333333333333,
              "#9c179e"
             ],
             [
              0.4444444444444444,
              "#bd3786"
             ],
             [
              0.5555555555555556,
              "#d8576b"
             ],
             [
              0.6666666666666666,
              "#ed7953"
             ],
             [
              0.7777777777777778,
              "#fb9f3a"
             ],
             [
              0.8888888888888888,
              "#fdca26"
             ],
             [
              1,
              "#f0f921"
             ]
            ],
            "type": "surface"
           }
          ],
          "table": [
           {
            "cells": {
             "fill": {
              "color": "#EBF0F8"
             },
             "line": {
              "color": "white"
             }
            },
            "header": {
             "fill": {
              "color": "#C8D4E3"
             },
             "line": {
              "color": "white"
             }
            },
            "type": "table"
           }
          ]
         },
         "layout": {
          "annotationdefaults": {
           "arrowcolor": "#2a3f5f",
           "arrowhead": 0,
           "arrowwidth": 1
          },
          "coloraxis": {
           "colorbar": {
            "outlinewidth": 0,
            "ticks": ""
           }
          },
          "colorscale": {
           "diverging": [
            [
             0,
             "#8e0152"
            ],
            [
             0.1,
             "#c51b7d"
            ],
            [
             0.2,
             "#de77ae"
            ],
            [
             0.3,
             "#f1b6da"
            ],
            [
             0.4,
             "#fde0ef"
            ],
            [
             0.5,
             "#f7f7f7"
            ],
            [
             0.6,
             "#e6f5d0"
            ],
            [
             0.7,
             "#b8e186"
            ],
            [
             0.8,
             "#7fbc41"
            ],
            [
             0.9,
             "#4d9221"
            ],
            [
             1,
             "#276419"
            ]
           ],
           "sequential": [
            [
             0,
             "#0d0887"
            ],
            [
             0.1111111111111111,
             "#46039f"
            ],
            [
             0.2222222222222222,
             "#7201a8"
            ],
            [
             0.3333333333333333,
             "#9c179e"
            ],
            [
             0.4444444444444444,
             "#bd3786"
            ],
            [
             0.5555555555555556,
             "#d8576b"
            ],
            [
             0.6666666666666666,
             "#ed7953"
            ],
            [
             0.7777777777777778,
             "#fb9f3a"
            ],
            [
             0.8888888888888888,
             "#fdca26"
            ],
            [
             1,
             "#f0f921"
            ]
           ],
           "sequentialminus": [
            [
             0,
             "#0d0887"
            ],
            [
             0.1111111111111111,
             "#46039f"
            ],
            [
             0.2222222222222222,
             "#7201a8"
            ],
            [
             0.3333333333333333,
             "#9c179e"
            ],
            [
             0.4444444444444444,
             "#bd3786"
            ],
            [
             0.5555555555555556,
             "#d8576b"
            ],
            [
             0.6666666666666666,
             "#ed7953"
            ],
            [
             0.7777777777777778,
             "#fb9f3a"
            ],
            [
             0.8888888888888888,
             "#fdca26"
            ],
            [
             1,
             "#f0f921"
            ]
           ]
          },
          "colorway": [
           "#636efa",
           "#EF553B",
           "#00cc96",
           "#ab63fa",
           "#FFA15A",
           "#19d3f3",
           "#FF6692",
           "#B6E880",
           "#FF97FF",
           "#FECB52"
          ],
          "font": {
           "color": "#2a3f5f"
          },
          "geo": {
           "bgcolor": "white",
           "lakecolor": "white",
           "landcolor": "#E5ECF6",
           "showlakes": true,
           "showland": true,
           "subunitcolor": "white"
          },
          "hoverlabel": {
           "align": "left"
          },
          "hovermode": "closest",
          "mapbox": {
           "style": "light"
          },
          "paper_bgcolor": "white",
          "plot_bgcolor": "#E5ECF6",
          "polar": {
           "angularaxis": {
            "gridcolor": "white",
            "linecolor": "white",
            "ticks": ""
           },
           "bgcolor": "#E5ECF6",
           "radialaxis": {
            "gridcolor": "white",
            "linecolor": "white",
            "ticks": ""
           }
          },
          "scene": {
           "xaxis": {
            "backgroundcolor": "#E5ECF6",
            "gridcolor": "white",
            "gridwidth": 2,
            "linecolor": "white",
            "showbackground": true,
            "ticks": "",
            "zerolinecolor": "white"
           },
           "yaxis": {
            "backgroundcolor": "#E5ECF6",
            "gridcolor": "white",
            "gridwidth": 2,
            "linecolor": "white",
            "showbackground": true,
            "ticks": "",
            "zerolinecolor": "white"
           },
           "zaxis": {
            "backgroundcolor": "#E5ECF6",
            "gridcolor": "white",
            "gridwidth": 2,
            "linecolor": "white",
            "showbackground": true,
            "ticks": "",
            "zerolinecolor": "white"
           }
          },
          "shapedefaults": {
           "line": {
            "color": "#2a3f5f"
           }
          },
          "ternary": {
           "aaxis": {
            "gridcolor": "white",
            "linecolor": "white",
            "ticks": ""
           },
           "baxis": {
            "gridcolor": "white",
            "linecolor": "white",
            "ticks": ""
           },
           "bgcolor": "#E5ECF6",
           "caxis": {
            "gridcolor": "white",
            "linecolor": "white",
            "ticks": ""
           }
          },
          "title": {
           "x": 0.05
          },
          "xaxis": {
           "automargin": true,
           "gridcolor": "white",
           "linecolor": "white",
           "ticks": "",
           "title": {
            "standoff": 15
           },
           "zerolinecolor": "white",
           "zerolinewidth": 2
          },
          "yaxis": {
           "automargin": true,
           "gridcolor": "white",
           "linecolor": "white",
           "ticks": "",
           "title": {
            "standoff": 15
           },
           "zerolinecolor": "white",
           "zerolinewidth": 2
          }
         }
        },
        "title": {
         "font": {
          "color": "#4D5663"
         },
         "text": "Covid_19 graph"
        },
        "xaxis": {
         "gridcolor": "#E1E5ED",
         "showgrid": true,
         "tickfont": {
          "color": "#4D5663"
         },
         "title": {
          "font": {
           "color": "#4D5663"
          },
          "text": "State"
         },
         "zerolinecolor": "#E1E5ED"
        },
        "yaxis": {
         "gridcolor": "#E1E5ED",
         "showgrid": true,
         "tickfont": {
          "color": "#4D5663"
         },
         "title": {
          "font": {
           "color": "#4D5663"
          },
          "text": "Active Cases"
         },
         "zerolinecolor": "#E1E5ED"
        }
       }
      },
      "text/html": [
       "<div>\n",
       "        \n",
       "        \n",
       "            <div id=\"d8a1aecb-969b-4025-b9a8-c5641647dcf1\" class=\"plotly-graph-div\" style=\"height:525px; width:100%;\"></div>\n",
       "            <script type=\"text/javascript\">\n",
       "                require([\"plotly\"], function(Plotly) {\n",
       "                    window.PLOTLYENV=window.PLOTLYENV || {};\n",
       "                    window.PLOTLYENV.BASE_URL='https://plot.ly';\n",
       "                    \n",
       "                if (document.getElementById(\"d8a1aecb-969b-4025-b9a8-c5641647dcf1\")) {\n",
       "                    Plotly.newPlot(\n",
       "                        'd8a1aecb-969b-4025-b9a8-c5641647dcf1',\n",
       "                        [{\"line\": {\"color\": \"rgba(219, 64, 82, 1.0)\", \"dash\": \"solid\", \"shape\": \"linear\", \"width\": 1.3}, \"marker\": {\"size\": 10, \"symbol\": \"circle\"}, \"mode\": \"markers+lines\", \"name\": \"Active\", \"text\": \"\", \"type\": \"scatter\", \"x\": [\"Total\", \"Maharashtra\", \"Gujarat\", \"Delhi\", \"Rajasthan\", \"Madhya Pradesh\", \"Tamil Nadu\", \"Uttar Pradesh\", \"Andhra Pradesh\", \"Telangana\", \"West Bengal\", \"Jammu and Kashmir\", \"Karnataka\", \"Kerala\", \"Punjab\", \"Haryana\", \"Bihar\", \"Odisha\", \"Jharkhand\", \"Uttarakhand\", \"Himachal Pradesh\", \"Chhattisgarh\", \"Assam\", \"Chandigarh\", \"Andaman and Nicobar Islands\", \"Ladakh\", \"Meghalaya\", \"Puducherry\", \"Goa\", \"Manipur\", \"Tripura\", \"Mizoram\", \"Arunachal Pradesh\", \"Nagaland\", \"Dadra and Nagar Haveli\", \"Daman and Diu\", \"Lakshadweep\", \"Sikkim\"], \"y\": [21382, 6939, 2992, 2177, 1468, 1698, 812, 1556, 911, 646, 524, 375, 299, 123, 213, 85, 288, 80, 83, 18, 13, 5, 8, 28, 22, 4, 11, 3, 0, 0, 0, 1, 0, 0, 0, 0, 0, 0]}],\n",
       "                        {\"legend\": {\"bgcolor\": \"#F5F6F9\", \"font\": {\"color\": \"#4D5663\"}}, \"paper_bgcolor\": \"#F5F6F9\", \"plot_bgcolor\": \"#F5F6F9\", \"template\": {\"data\": {\"bar\": [{\"error_x\": {\"color\": \"#2a3f5f\"}, \"error_y\": {\"color\": \"#2a3f5f\"}, \"marker\": {\"line\": {\"color\": \"#E5ECF6\", \"width\": 0.5}}, \"type\": \"bar\"}], \"barpolar\": [{\"marker\": {\"line\": {\"color\": \"#E5ECF6\", \"width\": 0.5}}, \"type\": \"barpolar\"}], \"carpet\": [{\"aaxis\": {\"endlinecolor\": \"#2a3f5f\", \"gridcolor\": \"white\", \"linecolor\": \"white\", \"minorgridcolor\": \"white\", \"startlinecolor\": \"#2a3f5f\"}, \"baxis\": {\"endlinecolor\": \"#2a3f5f\", \"gridcolor\": \"white\", \"linecolor\": \"white\", \"minorgridcolor\": \"white\", \"startlinecolor\": \"#2a3f5f\"}, \"type\": \"carpet\"}], \"choropleth\": [{\"colorbar\": {\"outlinewidth\": 0, \"ticks\": \"\"}, \"type\": \"choropleth\"}], \"contour\": [{\"colorbar\": {\"outlinewidth\": 0, \"ticks\": \"\"}, \"colorscale\": [[0.0, \"#0d0887\"], [0.1111111111111111, \"#46039f\"], [0.2222222222222222, \"#7201a8\"], [0.3333333333333333, \"#9c179e\"], [0.4444444444444444, \"#bd3786\"], [0.5555555555555556, \"#d8576b\"], [0.6666666666666666, \"#ed7953\"], [0.7777777777777778, \"#fb9f3a\"], [0.8888888888888888, \"#fdca26\"], [1.0, \"#f0f921\"]], \"type\": \"contour\"}], \"contourcarpet\": [{\"colorbar\": {\"outlinewidth\": 0, \"ticks\": \"\"}, \"type\": \"contourcarpet\"}], \"heatmap\": [{\"colorbar\": {\"outlinewidth\": 0, \"ticks\": \"\"}, \"colorscale\": [[0.0, \"#0d0887\"], [0.1111111111111111, \"#46039f\"], [0.2222222222222222, \"#7201a8\"], [0.3333333333333333, \"#9c179e\"], [0.4444444444444444, \"#bd3786\"], [0.5555555555555556, \"#d8576b\"], [0.6666666666666666, \"#ed7953\"], [0.7777777777777778, \"#fb9f3a\"], [0.8888888888888888, \"#fdca26\"], [1.0, \"#f0f921\"]], \"type\": \"heatmap\"}], \"heatmapgl\": [{\"colorbar\": {\"outlinewidth\": 0, \"ticks\": \"\"}, \"colorscale\": [[0.0, \"#0d0887\"], [0.1111111111111111, \"#46039f\"], [0.2222222222222222, \"#7201a8\"], [0.3333333333333333, \"#9c179e\"], [0.4444444444444444, \"#bd3786\"], [0.5555555555555556, \"#d8576b\"], [0.6666666666666666, \"#ed7953\"], [0.7777777777777778, \"#fb9f3a\"], [0.8888888888888888, \"#fdca26\"], [1.0, \"#f0f921\"]], \"type\": \"heatmapgl\"}], \"histogram\": [{\"marker\": {\"colorbar\": {\"outlinewidth\": 0, \"ticks\": \"\"}}, \"type\": \"histogram\"}], \"histogram2d\": [{\"colorbar\": {\"outlinewidth\": 0, \"ticks\": \"\"}, \"colorscale\": [[0.0, \"#0d0887\"], [0.1111111111111111, \"#46039f\"], [0.2222222222222222, \"#7201a8\"], [0.3333333333333333, \"#9c179e\"], [0.4444444444444444, \"#bd3786\"], [0.5555555555555556, \"#d8576b\"], [0.6666666666666666, \"#ed7953\"], [0.7777777777777778, \"#fb9f3a\"], [0.8888888888888888, \"#fdca26\"], [1.0, \"#f0f921\"]], \"type\": \"histogram2d\"}], \"histogram2dcontour\": [{\"colorbar\": {\"outlinewidth\": 0, \"ticks\": \"\"}, \"colorscale\": [[0.0, \"#0d0887\"], [0.1111111111111111, \"#46039f\"], [0.2222222222222222, \"#7201a8\"], [0.3333333333333333, \"#9c179e\"], [0.4444444444444444, \"#bd3786\"], [0.5555555555555556, \"#d8576b\"], [0.6666666666666666, \"#ed7953\"], [0.7777777777777778, \"#fb9f3a\"], [0.8888888888888888, \"#fdca26\"], [1.0, \"#f0f921\"]], \"type\": \"histogram2dcontour\"}], \"mesh3d\": [{\"colorbar\": {\"outlinewidth\": 0, \"ticks\": \"\"}, \"type\": \"mesh3d\"}], \"parcoords\": [{\"line\": {\"colorbar\": {\"outlinewidth\": 0, \"ticks\": \"\"}}, \"type\": \"parcoords\"}], \"pie\": [{\"automargin\": true, \"type\": \"pie\"}], \"scatter\": [{\"marker\": {\"colorbar\": {\"outlinewidth\": 0, \"ticks\": \"\"}}, \"type\": \"scatter\"}], \"scatter3d\": [{\"line\": {\"colorbar\": {\"outlinewidth\": 0, \"ticks\": \"\"}}, \"marker\": {\"colorbar\": {\"outlinewidth\": 0, \"ticks\": \"\"}}, \"type\": \"scatter3d\"}], \"scattercarpet\": [{\"marker\": {\"colorbar\": {\"outlinewidth\": 0, \"ticks\": \"\"}}, \"type\": \"scattercarpet\"}], \"scattergeo\": [{\"marker\": {\"colorbar\": {\"outlinewidth\": 0, \"ticks\": \"\"}}, \"type\": \"scattergeo\"}], \"scattergl\": [{\"marker\": {\"colorbar\": {\"outlinewidth\": 0, \"ticks\": \"\"}}, \"type\": \"scattergl\"}], \"scattermapbox\": [{\"marker\": {\"colorbar\": {\"outlinewidth\": 0, \"ticks\": \"\"}}, \"type\": \"scattermapbox\"}], \"scatterpolar\": [{\"marker\": {\"colorbar\": {\"outlinewidth\": 0, \"ticks\": \"\"}}, \"type\": \"scatterpolar\"}], \"scatterpolargl\": [{\"marker\": {\"colorbar\": {\"outlinewidth\": 0, \"ticks\": \"\"}}, \"type\": \"scatterpolargl\"}], \"scatterternary\": [{\"marker\": {\"colorbar\": {\"outlinewidth\": 0, \"ticks\": \"\"}}, \"type\": \"scatterternary\"}], \"surface\": [{\"colorbar\": {\"outlinewidth\": 0, \"ticks\": \"\"}, \"colorscale\": [[0.0, \"#0d0887\"], [0.1111111111111111, \"#46039f\"], [0.2222222222222222, \"#7201a8\"], [0.3333333333333333, \"#9c179e\"], [0.4444444444444444, \"#bd3786\"], [0.5555555555555556, \"#d8576b\"], [0.6666666666666666, \"#ed7953\"], [0.7777777777777778, \"#fb9f3a\"], [0.8888888888888888, \"#fdca26\"], [1.0, \"#f0f921\"]], \"type\": \"surface\"}], \"table\": [{\"cells\": {\"fill\": {\"color\": \"#EBF0F8\"}, \"line\": {\"color\": \"white\"}}, \"header\": {\"fill\": {\"color\": \"#C8D4E3\"}, \"line\": {\"color\": \"white\"}}, \"type\": \"table\"}]}, \"layout\": {\"annotationdefaults\": {\"arrowcolor\": \"#2a3f5f\", \"arrowhead\": 0, \"arrowwidth\": 1}, \"coloraxis\": {\"colorbar\": {\"outlinewidth\": 0, \"ticks\": \"\"}}, \"colorscale\": {\"diverging\": [[0, \"#8e0152\"], [0.1, \"#c51b7d\"], [0.2, \"#de77ae\"], [0.3, \"#f1b6da\"], [0.4, \"#fde0ef\"], [0.5, \"#f7f7f7\"], [0.6, \"#e6f5d0\"], [0.7, \"#b8e186\"], [0.8, \"#7fbc41\"], [0.9, \"#4d9221\"], [1, \"#276419\"]], \"sequential\": [[0.0, \"#0d0887\"], [0.1111111111111111, \"#46039f\"], [0.2222222222222222, \"#7201a8\"], [0.3333333333333333, \"#9c179e\"], [0.4444444444444444, \"#bd3786\"], [0.5555555555555556, \"#d8576b\"], [0.6666666666666666, \"#ed7953\"], [0.7777777777777778, \"#fb9f3a\"], [0.8888888888888888, \"#fdca26\"], [1.0, \"#f0f921\"]], \"sequentialminus\": [[0.0, \"#0d0887\"], [0.1111111111111111, \"#46039f\"], [0.2222222222222222, \"#7201a8\"], [0.3333333333333333, \"#9c179e\"], [0.4444444444444444, \"#bd3786\"], [0.5555555555555556, \"#d8576b\"], [0.6666666666666666, \"#ed7953\"], [0.7777777777777778, \"#fb9f3a\"], [0.8888888888888888, \"#fdca26\"], [1.0, \"#f0f921\"]]}, \"colorway\": [\"#636efa\", \"#EF553B\", \"#00cc96\", \"#ab63fa\", \"#FFA15A\", \"#19d3f3\", \"#FF6692\", \"#B6E880\", \"#FF97FF\", \"#FECB52\"], \"font\": {\"color\": \"#2a3f5f\"}, \"geo\": {\"bgcolor\": \"white\", \"lakecolor\": \"white\", \"landcolor\": \"#E5ECF6\", \"showlakes\": true, \"showland\": true, \"subunitcolor\": \"white\"}, \"hoverlabel\": {\"align\": \"left\"}, \"hovermode\": \"closest\", \"mapbox\": {\"style\": \"light\"}, \"paper_bgcolor\": \"white\", \"plot_bgcolor\": \"#E5ECF6\", \"polar\": {\"angularaxis\": {\"gridcolor\": \"white\", \"linecolor\": \"white\", \"ticks\": \"\"}, \"bgcolor\": \"#E5ECF6\", \"radialaxis\": {\"gridcolor\": \"white\", \"linecolor\": \"white\", \"ticks\": \"\"}}, \"scene\": {\"xaxis\": {\"backgroundcolor\": \"#E5ECF6\", \"gridcolor\": \"white\", \"gridwidth\": 2, \"linecolor\": \"white\", \"showbackground\": true, \"ticks\": \"\", \"zerolinecolor\": \"white\"}, \"yaxis\": {\"backgroundcolor\": \"#E5ECF6\", \"gridcolor\": \"white\", \"gridwidth\": 2, \"linecolor\": \"white\", \"showbackground\": true, \"ticks\": \"\", \"zerolinecolor\": \"white\"}, \"zaxis\": {\"backgroundcolor\": \"#E5ECF6\", \"gridcolor\": \"white\", \"gridwidth\": 2, \"linecolor\": \"white\", \"showbackground\": true, \"ticks\": \"\", \"zerolinecolor\": \"white\"}}, \"shapedefaults\": {\"line\": {\"color\": \"#2a3f5f\"}}, \"ternary\": {\"aaxis\": {\"gridcolor\": \"white\", \"linecolor\": \"white\", \"ticks\": \"\"}, \"baxis\": {\"gridcolor\": \"white\", \"linecolor\": \"white\", \"ticks\": \"\"}, \"bgcolor\": \"#E5ECF6\", \"caxis\": {\"gridcolor\": \"white\", \"linecolor\": \"white\", \"ticks\": \"\"}}, \"title\": {\"x\": 0.05}, \"xaxis\": {\"automargin\": true, \"gridcolor\": \"white\", \"linecolor\": \"white\", \"ticks\": \"\", \"title\": {\"standoff\": 15}, \"zerolinecolor\": \"white\", \"zerolinewidth\": 2}, \"yaxis\": {\"automargin\": true, \"gridcolor\": \"white\", \"linecolor\": \"white\", \"ticks\": \"\", \"title\": {\"standoff\": 15}, \"zerolinecolor\": \"white\", \"zerolinewidth\": 2}}}, \"title\": {\"font\": {\"color\": \"#4D5663\"}, \"text\": \"Covid_19 graph\"}, \"xaxis\": {\"gridcolor\": \"#E1E5ED\", \"showgrid\": true, \"tickfont\": {\"color\": \"#4D5663\"}, \"title\": {\"font\": {\"color\": \"#4D5663\"}, \"text\": \"State\"}, \"zerolinecolor\": \"#E1E5ED\"}, \"yaxis\": {\"gridcolor\": \"#E1E5ED\", \"showgrid\": true, \"tickfont\": {\"color\": \"#4D5663\"}, \"title\": {\"font\": {\"color\": \"#4D5663\"}, \"text\": \"Active Cases\"}, \"zerolinecolor\": \"#E1E5ED\"}},\n",
       "                        {\"showLink\": true, \"linkText\": \"Export to plot.ly\", \"plotlyServerURL\": \"https://plot.ly\", \"responsive\": true}\n",
       "                    ).then(function(){\n",
       "                            \n",
       "var gd = document.getElementById('d8a1aecb-969b-4025-b9a8-c5641647dcf1');\n",
       "var x = new MutationObserver(function (mutations, observer) {{\n",
       "        var display = window.getComputedStyle(gd).display;\n",
       "        if (!display || display === 'none') {{\n",
       "            console.log([gd, 'removed!']);\n",
       "            Plotly.purge(gd);\n",
       "            observer.disconnect();\n",
       "        }}\n",
       "}});\n",
       "\n",
       "// Listen for the removal of the full notebook cells\n",
       "var notebookContainer = gd.closest('#notebook-container');\n",
       "if (notebookContainer) {{\n",
       "    x.observe(notebookContainer, {childList: true});\n",
       "}}\n",
       "\n",
       "// Listen for the clearing of the current output cell\n",
       "var outputEl = gd.closest('.output');\n",
       "if (outputEl) {{\n",
       "    x.observe(outputEl, {childList: true});\n",
       "}}\n",
       "\n",
       "                        })\n",
       "                };\n",
       "                });\n",
       "            </script>\n",
       "        </div>"
      ]
     },
     "metadata": {},
     "output_type": "display_data"
    }
   ],
   "source": [
    "df.iplot(kind= 'scatter', x= 'State', y='Active', mode= 'markers+lines', title= 'Covid_19 graph', xTitle= 'State', yTitle= 'Active Cases', color= 'red', size= 10)\n"
   ]
  },
  {
   "cell_type": "code",
   "execution_count": 15,
   "metadata": {},
   "outputs": [],
   "source": [
    "Indian_Coordinates= pd.read_excel(r\"Indian Coordinates (1).xlsx\")"
   ]
  },
  {
   "cell_type": "code",
   "execution_count": 16,
   "metadata": {},
   "outputs": [],
   "source": [
    "##Indian_Coordinates"
   ]
  },
  {
   "cell_type": "code",
   "execution_count": null,
   "metadata": {},
   "outputs": [],
   "source": []
  },
  {
   "cell_type": "code",
   "execution_count": 17,
   "metadata": {},
   "outputs": [],
   "source": [
    "df_full= pd.merge(df, Indian_Coordinates, on= 'State_code')"
   ]
  },
  {
   "cell_type": "code",
   "execution_count": 18,
   "metadata": {},
   "outputs": [],
   "source": [
    "##df_full"
   ]
  },
  {
   "cell_type": "code",
   "execution_count": 19,
   "metadata": {},
   "outputs": [],
   "source": [
    "map= folium.Map(location=[20,70], zoom_start=4, tiles= 'Stamenterrain')\n",
    "for lat, long, value, name in zip(df_add['Latitude'],df_add['Longitude'],df_add['Confirmed'], df_add['State']):\n",
    "    folium.CircleMarker([lat, long], radius= value*0.0, popup= ('<strong>State</strong>:'+str(name).capitalize()+ '<br>''<strong>Confirmed</strong>:' +str(value)+'<br>'+ '<br>''<strong>Recovered</strong>:' +str(value)+'<br>'), color= 'red', full_color= 'red', fill_opacity= 0.6).add_to(map)                                  "
   ]
  },
  {
   "cell_type": "markdown",
   "metadata": {},
   "source": [
    "---"
   ]
  },
  {
   "cell_type": "markdown",
   "metadata": {},
   "source": [
    "# Data from 30th January till date."
   ]
  },
  {
   "cell_type": "code",
   "execution_count": 20,
   "metadata": {},
   "outputs": [],
   "source": [
    "df6= pd.read_csv(\"https://api.covid19india.org/csv/latest/case_time_series.csv\")\n",
    "##df6"
   ]
  },
  {
   "cell_type": "markdown",
   "metadata": {},
   "source": [
    "# Total confirmed, recovered and deceased- datewise."
   ]
  },
  {
   "cell_type": "code",
   "execution_count": 21,
   "metadata": {},
   "outputs": [
    {
     "data": {
      "application/vnd.plotly.v1+json": {
       "config": {
        "linkText": "Export to plot.ly",
        "plotlyServerURL": "https://plot.ly",
        "showLink": true
       },
       "data": [
        {
         "line": {
          "color": "rgba(219, 64, 82, 1.0)",
          "dash": "solid",
          "shape": "linear",
          "width": 1.3
         },
         "marker": {
          "size": 2,
          "symbol": "circle"
         },
         "mode": "markers+lines",
         "name": "Total Confirmed",
         "text": "",
         "type": "scatter",
         "x": [
          "30 January ",
          "31 January ",
          "01 February ",
          "02 February ",
          "03 February ",
          "04 February ",
          "05 February ",
          "06 February ",
          "07 February ",
          "08 February ",
          "09 February ",
          "10 February ",
          "11 February ",
          "12 February ",
          "13 February ",
          "14 February ",
          "15 February ",
          "16 February ",
          "17 February ",
          "18 February ",
          "19 February ",
          "20 February ",
          "21 February ",
          "22 February ",
          "23 February ",
          "24 February ",
          "25 February ",
          "26 February ",
          "27 February ",
          "28 February ",
          "29 February ",
          "01 March ",
          "02 March ",
          "03 March ",
          "04 March ",
          "05 March ",
          "06 March ",
          "07 March ",
          "08 March ",
          "09 March ",
          "10 March ",
          "11 March ",
          "12 March ",
          "13 March ",
          "14 March ",
          "15 March ",
          "16 March ",
          "17 March ",
          "18 March ",
          "19 March ",
          "20 March ",
          "21 March ",
          "22 March ",
          "23 March ",
          "24 March ",
          "25 March ",
          "26 March ",
          "27 March ",
          "28 March ",
          "29 March ",
          "30 March ",
          "31 March ",
          "01 April ",
          "02 April ",
          "03 April ",
          "04 April ",
          "05 April ",
          "06 April ",
          "07 April ",
          "08 April ",
          "09 April ",
          "10 April ",
          "11 April ",
          "12 April ",
          "13 April ",
          "14 April ",
          "15 April ",
          "16 April ",
          "17 April ",
          "18 April ",
          "19 April ",
          "20 April ",
          "21 April ",
          "22 April ",
          "23 April ",
          "24 April ",
          "25 April ",
          "26 April ",
          "27 April "
         ],
         "y": [
          1,
          1,
          1,
          2,
          3,
          3,
          3,
          3,
          3,
          3,
          3,
          3,
          3,
          3,
          3,
          3,
          3,
          3,
          3,
          3,
          3,
          3,
          3,
          3,
          3,
          3,
          3,
          3,
          3,
          3,
          3,
          3,
          5,
          6,
          28,
          30,
          31,
          34,
          39,
          48,
          63,
          71,
          81,
          91,
          102,
          112,
          126,
          146,
          171,
          198,
          256,
          334,
          403,
          497,
          571,
          657,
          730,
          883,
          1019,
          1139,
          1326,
          1635,
          2059,
          2545,
          3105,
          3684,
          4293,
          4777,
          5350,
          5915,
          6728,
          7599,
          8453,
          9211,
          10454,
          11485,
          12371,
          13432,
          14354,
          15725,
          17305,
          18544,
          20081,
          21373,
          23040,
          24448,
          26283,
          27890,
          29451
         ]
        },
        {
         "line": {
          "color": "rgba(55, 128, 191, 1.0)",
          "dash": "solid",
          "shape": "linear",
          "width": 1.3
         },
         "marker": {
          "size": 2,
          "symbol": "circle"
         },
         "mode": "markers+lines",
         "name": "Total Recovered",
         "text": "",
         "type": "scatter",
         "x": [
          "30 January ",
          "31 January ",
          "01 February ",
          "02 February ",
          "03 February ",
          "04 February ",
          "05 February ",
          "06 February ",
          "07 February ",
          "08 February ",
          "09 February ",
          "10 February ",
          "11 February ",
          "12 February ",
          "13 February ",
          "14 February ",
          "15 February ",
          "16 February ",
          "17 February ",
          "18 February ",
          "19 February ",
          "20 February ",
          "21 February ",
          "22 February ",
          "23 February ",
          "24 February ",
          "25 February ",
          "26 February ",
          "27 February ",
          "28 February ",
          "29 February ",
          "01 March ",
          "02 March ",
          "03 March ",
          "04 March ",
          "05 March ",
          "06 March ",
          "07 March ",
          "08 March ",
          "09 March ",
          "10 March ",
          "11 March ",
          "12 March ",
          "13 March ",
          "14 March ",
          "15 March ",
          "16 March ",
          "17 March ",
          "18 March ",
          "19 March ",
          "20 March ",
          "21 March ",
          "22 March ",
          "23 March ",
          "24 March ",
          "25 March ",
          "26 March ",
          "27 March ",
          "28 March ",
          "29 March ",
          "30 March ",
          "31 March ",
          "01 April ",
          "02 April ",
          "03 April ",
          "04 April ",
          "05 April ",
          "06 April ",
          "07 April ",
          "08 April ",
          "09 April ",
          "10 April ",
          "11 April ",
          "12 April ",
          "13 April ",
          "14 April ",
          "15 April ",
          "16 April ",
          "17 April ",
          "18 April ",
          "19 April ",
          "20 April ",
          "21 April ",
          "22 April ",
          "23 April ",
          "24 April ",
          "25 April ",
          "26 April ",
          "27 April "
         ],
         "y": [
          0,
          0,
          0,
          0,
          0,
          0,
          0,
          0,
          0,
          0,
          0,
          0,
          0,
          0,
          1,
          1,
          1,
          2,
          2,
          2,
          2,
          3,
          3,
          3,
          3,
          3,
          3,
          3,
          3,
          3,
          3,
          3,
          3,
          3,
          3,
          3,
          3,
          3,
          3,
          3,
          4,
          4,
          4,
          10,
          10,
          13,
          14,
          15,
          15,
          20,
          23,
          23,
          23,
          25,
          40,
          43,
          50,
          75,
          85,
          102,
          137,
          150,
          169,
          191,
          230,
          286,
          329,
          394,
          469,
          565,
          635,
          786,
          972,
          1086,
          1198,
          1365,
          1509,
          1767,
          2040,
          2466,
          2854,
          3273,
          3976,
          4370,
          5012,
          5496,
          5938,
          6523,
          7137
         ]
        },
        {
         "line": {
          "color": "rgba(0, 128, 0, 1.0)",
          "dash": "solid",
          "shape": "linear",
          "width": 1.3
         },
         "marker": {
          "size": 2,
          "symbol": "circle"
         },
         "mode": "markers+lines",
         "name": "Total Deceased",
         "text": "",
         "type": "scatter",
         "x": [
          "30 January ",
          "31 January ",
          "01 February ",
          "02 February ",
          "03 February ",
          "04 February ",
          "05 February ",
          "06 February ",
          "07 February ",
          "08 February ",
          "09 February ",
          "10 February ",
          "11 February ",
          "12 February ",
          "13 February ",
          "14 February ",
          "15 February ",
          "16 February ",
          "17 February ",
          "18 February ",
          "19 February ",
          "20 February ",
          "21 February ",
          "22 February ",
          "23 February ",
          "24 February ",
          "25 February ",
          "26 February ",
          "27 February ",
          "28 February ",
          "29 February ",
          "01 March ",
          "02 March ",
          "03 March ",
          "04 March ",
          "05 March ",
          "06 March ",
          "07 March ",
          "08 March ",
          "09 March ",
          "10 March ",
          "11 March ",
          "12 March ",
          "13 March ",
          "14 March ",
          "15 March ",
          "16 March ",
          "17 March ",
          "18 March ",
          "19 March ",
          "20 March ",
          "21 March ",
          "22 March ",
          "23 March ",
          "24 March ",
          "25 March ",
          "26 March ",
          "27 March ",
          "28 March ",
          "29 March ",
          "30 March ",
          "31 March ",
          "01 April ",
          "02 April ",
          "03 April ",
          "04 April ",
          "05 April ",
          "06 April ",
          "07 April ",
          "08 April ",
          "09 April ",
          "10 April ",
          "11 April ",
          "12 April ",
          "13 April ",
          "14 April ",
          "15 April ",
          "16 April ",
          "17 April ",
          "18 April ",
          "19 April ",
          "20 April ",
          "21 April ",
          "22 April ",
          "23 April ",
          "24 April ",
          "25 April ",
          "26 April ",
          "27 April "
         ],
         "y": [
          0,
          0,
          0,
          0,
          0,
          0,
          0,
          0,
          0,
          0,
          0,
          0,
          0,
          0,
          0,
          0,
          0,
          0,
          0,
          0,
          0,
          0,
          0,
          0,
          0,
          0,
          0,
          0,
          0,
          0,
          0,
          0,
          0,
          0,
          0,
          0,
          0,
          0,
          0,
          0,
          0,
          0,
          1,
          1,
          2,
          2,
          2,
          3,
          3,
          4,
          4,
          4,
          7,
          9,
          10,
          11,
          16,
          19,
          24,
          27,
          41,
          47,
          53,
          69,
          83,
          96,
          118,
          134,
          161,
          181,
          227,
          249,
          290,
          332,
          359,
          396,
          423,
          449,
          487,
          522,
          560,
          593,
          646,
          682,
          722,
          781,
          825,
          881,
          939
         ]
        }
       ],
       "layout": {
        "legend": {
         "bgcolor": "#F5F6F9",
         "font": {
          "color": "#4D5663"
         }
        },
        "paper_bgcolor": "#F5F6F9",
        "plot_bgcolor": "#F5F6F9",
        "template": {
         "data": {
          "bar": [
           {
            "error_x": {
             "color": "#2a3f5f"
            },
            "error_y": {
             "color": "#2a3f5f"
            },
            "marker": {
             "line": {
              "color": "#E5ECF6",
              "width": 0.5
             }
            },
            "type": "bar"
           }
          ],
          "barpolar": [
           {
            "marker": {
             "line": {
              "color": "#E5ECF6",
              "width": 0.5
             }
            },
            "type": "barpolar"
           }
          ],
          "carpet": [
           {
            "aaxis": {
             "endlinecolor": "#2a3f5f",
             "gridcolor": "white",
             "linecolor": "white",
             "minorgridcolor": "white",
             "startlinecolor": "#2a3f5f"
            },
            "baxis": {
             "endlinecolor": "#2a3f5f",
             "gridcolor": "white",
             "linecolor": "white",
             "minorgridcolor": "white",
             "startlinecolor": "#2a3f5f"
            },
            "type": "carpet"
           }
          ],
          "choropleth": [
           {
            "colorbar": {
             "outlinewidth": 0,
             "ticks": ""
            },
            "type": "choropleth"
           }
          ],
          "contour": [
           {
            "colorbar": {
             "outlinewidth": 0,
             "ticks": ""
            },
            "colorscale": [
             [
              0,
              "#0d0887"
             ],
             [
              0.1111111111111111,
              "#46039f"
             ],
             [
              0.2222222222222222,
              "#7201a8"
             ],
             [
              0.3333333333333333,
              "#9c179e"
             ],
             [
              0.4444444444444444,
              "#bd3786"
             ],
             [
              0.5555555555555556,
              "#d8576b"
             ],
             [
              0.6666666666666666,
              "#ed7953"
             ],
             [
              0.7777777777777778,
              "#fb9f3a"
             ],
             [
              0.8888888888888888,
              "#fdca26"
             ],
             [
              1,
              "#f0f921"
             ]
            ],
            "type": "contour"
           }
          ],
          "contourcarpet": [
           {
            "colorbar": {
             "outlinewidth": 0,
             "ticks": ""
            },
            "type": "contourcarpet"
           }
          ],
          "heatmap": [
           {
            "colorbar": {
             "outlinewidth": 0,
             "ticks": ""
            },
            "colorscale": [
             [
              0,
              "#0d0887"
             ],
             [
              0.1111111111111111,
              "#46039f"
             ],
             [
              0.2222222222222222,
              "#7201a8"
             ],
             [
              0.3333333333333333,
              "#9c179e"
             ],
             [
              0.4444444444444444,
              "#bd3786"
             ],
             [
              0.5555555555555556,
              "#d8576b"
             ],
             [
              0.6666666666666666,
              "#ed7953"
             ],
             [
              0.7777777777777778,
              "#fb9f3a"
             ],
             [
              0.8888888888888888,
              "#fdca26"
             ],
             [
              1,
              "#f0f921"
             ]
            ],
            "type": "heatmap"
           }
          ],
          "heatmapgl": [
           {
            "colorbar": {
             "outlinewidth": 0,
             "ticks": ""
            },
            "colorscale": [
             [
              0,
              "#0d0887"
             ],
             [
              0.1111111111111111,
              "#46039f"
             ],
             [
              0.2222222222222222,
              "#7201a8"
             ],
             [
              0.3333333333333333,
              "#9c179e"
             ],
             [
              0.4444444444444444,
              "#bd3786"
             ],
             [
              0.5555555555555556,
              "#d8576b"
             ],
             [
              0.6666666666666666,
              "#ed7953"
             ],
             [
              0.7777777777777778,
              "#fb9f3a"
             ],
             [
              0.8888888888888888,
              "#fdca26"
             ],
             [
              1,
              "#f0f921"
             ]
            ],
            "type": "heatmapgl"
           }
          ],
          "histogram": [
           {
            "marker": {
             "colorbar": {
              "outlinewidth": 0,
              "ticks": ""
             }
            },
            "type": "histogram"
           }
          ],
          "histogram2d": [
           {
            "colorbar": {
             "outlinewidth": 0,
             "ticks": ""
            },
            "colorscale": [
             [
              0,
              "#0d0887"
             ],
             [
              0.1111111111111111,
              "#46039f"
             ],
             [
              0.2222222222222222,
              "#7201a8"
             ],
             [
              0.3333333333333333,
              "#9c179e"
             ],
             [
              0.4444444444444444,
              "#bd3786"
             ],
             [
              0.5555555555555556,
              "#d8576b"
             ],
             [
              0.6666666666666666,
              "#ed7953"
             ],
             [
              0.7777777777777778,
              "#fb9f3a"
             ],
             [
              0.8888888888888888,
              "#fdca26"
             ],
             [
              1,
              "#f0f921"
             ]
            ],
            "type": "histogram2d"
           }
          ],
          "histogram2dcontour": [
           {
            "colorbar": {
             "outlinewidth": 0,
             "ticks": ""
            },
            "colorscale": [
             [
              0,
              "#0d0887"
             ],
             [
              0.1111111111111111,
              "#46039f"
             ],
             [
              0.2222222222222222,
              "#7201a8"
             ],
             [
              0.3333333333333333,
              "#9c179e"
             ],
             [
              0.4444444444444444,
              "#bd3786"
             ],
             [
              0.5555555555555556,
              "#d8576b"
             ],
             [
              0.6666666666666666,
              "#ed7953"
             ],
             [
              0.7777777777777778,
              "#fb9f3a"
             ],
             [
              0.8888888888888888,
              "#fdca26"
             ],
             [
              1,
              "#f0f921"
             ]
            ],
            "type": "histogram2dcontour"
           }
          ],
          "mesh3d": [
           {
            "colorbar": {
             "outlinewidth": 0,
             "ticks": ""
            },
            "type": "mesh3d"
           }
          ],
          "parcoords": [
           {
            "line": {
             "colorbar": {
              "outlinewidth": 0,
              "ticks": ""
             }
            },
            "type": "parcoords"
           }
          ],
          "pie": [
           {
            "automargin": true,
            "type": "pie"
           }
          ],
          "scatter": [
           {
            "marker": {
             "colorbar": {
              "outlinewidth": 0,
              "ticks": ""
             }
            },
            "type": "scatter"
           }
          ],
          "scatter3d": [
           {
            "line": {
             "colorbar": {
              "outlinewidth": 0,
              "ticks": ""
             }
            },
            "marker": {
             "colorbar": {
              "outlinewidth": 0,
              "ticks": ""
             }
            },
            "type": "scatter3d"
           }
          ],
          "scattercarpet": [
           {
            "marker": {
             "colorbar": {
              "outlinewidth": 0,
              "ticks": ""
             }
            },
            "type": "scattercarpet"
           }
          ],
          "scattergeo": [
           {
            "marker": {
             "colorbar": {
              "outlinewidth": 0,
              "ticks": ""
             }
            },
            "type": "scattergeo"
           }
          ],
          "scattergl": [
           {
            "marker": {
             "colorbar": {
              "outlinewidth": 0,
              "ticks": ""
             }
            },
            "type": "scattergl"
           }
          ],
          "scattermapbox": [
           {
            "marker": {
             "colorbar": {
              "outlinewidth": 0,
              "ticks": ""
             }
            },
            "type": "scattermapbox"
           }
          ],
          "scatterpolar": [
           {
            "marker": {
             "colorbar": {
              "outlinewidth": 0,
              "ticks": ""
             }
            },
            "type": "scatterpolar"
           }
          ],
          "scatterpolargl": [
           {
            "marker": {
             "colorbar": {
              "outlinewidth": 0,
              "ticks": ""
             }
            },
            "type": "scatterpolargl"
           }
          ],
          "scatterternary": [
           {
            "marker": {
             "colorbar": {
              "outlinewidth": 0,
              "ticks": ""
             }
            },
            "type": "scatterternary"
           }
          ],
          "surface": [
           {
            "colorbar": {
             "outlinewidth": 0,
             "ticks": ""
            },
            "colorscale": [
             [
              0,
              "#0d0887"
             ],
             [
              0.1111111111111111,
              "#46039f"
             ],
             [
              0.2222222222222222,
              "#7201a8"
             ],
             [
              0.3333333333333333,
              "#9c179e"
             ],
             [
              0.4444444444444444,
              "#bd3786"
             ],
             [
              0.5555555555555556,
              "#d8576b"
             ],
             [
              0.6666666666666666,
              "#ed7953"
             ],
             [
              0.7777777777777778,
              "#fb9f3a"
             ],
             [
              0.8888888888888888,
              "#fdca26"
             ],
             [
              1,
              "#f0f921"
             ]
            ],
            "type": "surface"
           }
          ],
          "table": [
           {
            "cells": {
             "fill": {
              "color": "#EBF0F8"
             },
             "line": {
              "color": "white"
             }
            },
            "header": {
             "fill": {
              "color": "#C8D4E3"
             },
             "line": {
              "color": "white"
             }
            },
            "type": "table"
           }
          ]
         },
         "layout": {
          "annotationdefaults": {
           "arrowcolor": "#2a3f5f",
           "arrowhead": 0,
           "arrowwidth": 1
          },
          "coloraxis": {
           "colorbar": {
            "outlinewidth": 0,
            "ticks": ""
           }
          },
          "colorscale": {
           "diverging": [
            [
             0,
             "#8e0152"
            ],
            [
             0.1,
             "#c51b7d"
            ],
            [
             0.2,
             "#de77ae"
            ],
            [
             0.3,
             "#f1b6da"
            ],
            [
             0.4,
             "#fde0ef"
            ],
            [
             0.5,
             "#f7f7f7"
            ],
            [
             0.6,
             "#e6f5d0"
            ],
            [
             0.7,
             "#b8e186"
            ],
            [
             0.8,
             "#7fbc41"
            ],
            [
             0.9,
             "#4d9221"
            ],
            [
             1,
             "#276419"
            ]
           ],
           "sequential": [
            [
             0,
             "#0d0887"
            ],
            [
             0.1111111111111111,
             "#46039f"
            ],
            [
             0.2222222222222222,
             "#7201a8"
            ],
            [
             0.3333333333333333,
             "#9c179e"
            ],
            [
             0.4444444444444444,
             "#bd3786"
            ],
            [
             0.5555555555555556,
             "#d8576b"
            ],
            [
             0.6666666666666666,
             "#ed7953"
            ],
            [
             0.7777777777777778,
             "#fb9f3a"
            ],
            [
             0.8888888888888888,
             "#fdca26"
            ],
            [
             1,
             "#f0f921"
            ]
           ],
           "sequentialminus": [
            [
             0,
             "#0d0887"
            ],
            [
             0.1111111111111111,
             "#46039f"
            ],
            [
             0.2222222222222222,
             "#7201a8"
            ],
            [
             0.3333333333333333,
             "#9c179e"
            ],
            [
             0.4444444444444444,
             "#bd3786"
            ],
            [
             0.5555555555555556,
             "#d8576b"
            ],
            [
             0.6666666666666666,
             "#ed7953"
            ],
            [
             0.7777777777777778,
             "#fb9f3a"
            ],
            [
             0.8888888888888888,
             "#fdca26"
            ],
            [
             1,
             "#f0f921"
            ]
           ]
          },
          "colorway": [
           "#636efa",
           "#EF553B",
           "#00cc96",
           "#ab63fa",
           "#FFA15A",
           "#19d3f3",
           "#FF6692",
           "#B6E880",
           "#FF97FF",
           "#FECB52"
          ],
          "font": {
           "color": "#2a3f5f"
          },
          "geo": {
           "bgcolor": "white",
           "lakecolor": "white",
           "landcolor": "#E5ECF6",
           "showlakes": true,
           "showland": true,
           "subunitcolor": "white"
          },
          "hoverlabel": {
           "align": "left"
          },
          "hovermode": "closest",
          "mapbox": {
           "style": "light"
          },
          "paper_bgcolor": "white",
          "plot_bgcolor": "#E5ECF6",
          "polar": {
           "angularaxis": {
            "gridcolor": "white",
            "linecolor": "white",
            "ticks": ""
           },
           "bgcolor": "#E5ECF6",
           "radialaxis": {
            "gridcolor": "white",
            "linecolor": "white",
            "ticks": ""
           }
          },
          "scene": {
           "xaxis": {
            "backgroundcolor": "#E5ECF6",
            "gridcolor": "white",
            "gridwidth": 2,
            "linecolor": "white",
            "showbackground": true,
            "ticks": "",
            "zerolinecolor": "white"
           },
           "yaxis": {
            "backgroundcolor": "#E5ECF6",
            "gridcolor": "white",
            "gridwidth": 2,
            "linecolor": "white",
            "showbackground": true,
            "ticks": "",
            "zerolinecolor": "white"
           },
           "zaxis": {
            "backgroundcolor": "#E5ECF6",
            "gridcolor": "white",
            "gridwidth": 2,
            "linecolor": "white",
            "showbackground": true,
            "ticks": "",
            "zerolinecolor": "white"
           }
          },
          "shapedefaults": {
           "line": {
            "color": "#2a3f5f"
           }
          },
          "ternary": {
           "aaxis": {
            "gridcolor": "white",
            "linecolor": "white",
            "ticks": ""
           },
           "baxis": {
            "gridcolor": "white",
            "linecolor": "white",
            "ticks": ""
           },
           "bgcolor": "#E5ECF6",
           "caxis": {
            "gridcolor": "white",
            "linecolor": "white",
            "ticks": ""
           }
          },
          "title": {
           "x": 0.05
          },
          "xaxis": {
           "automargin": true,
           "gridcolor": "white",
           "linecolor": "white",
           "ticks": "",
           "title": {
            "standoff": 15
           },
           "zerolinecolor": "white",
           "zerolinewidth": 2
          },
          "yaxis": {
           "automargin": true,
           "gridcolor": "white",
           "linecolor": "white",
           "ticks": "",
           "title": {
            "standoff": 15
           },
           "zerolinecolor": "white",
           "zerolinewidth": 2
          }
         }
        },
        "title": {
         "font": {
          "color": "#4D5663"
         }
        },
        "xaxis": {
         "gridcolor": "#E1E5ED",
         "showgrid": true,
         "tickfont": {
          "color": "#4D5663"
         },
         "title": {
          "font": {
           "color": "#4D5663"
          },
          "text": "Date"
         },
         "zerolinecolor": "#E1E5ED"
        },
        "yaxis": {
         "gridcolor": "#E1E5ED",
         "showgrid": true,
         "tickfont": {
          "color": "#4D5663"
         },
         "title": {
          "font": {
           "color": "#4D5663"
          },
          "text": "Total Confirmed, Recovered and Deceased"
         },
         "zerolinecolor": "#E1E5ED"
        }
       }
      },
      "text/html": [
       "<div>\n",
       "        \n",
       "        \n",
       "            <div id=\"9cb4a647-4d15-4bef-bf0b-107ab2f0a9e0\" class=\"plotly-graph-div\" style=\"height:525px; width:100%;\"></div>\n",
       "            <script type=\"text/javascript\">\n",
       "                require([\"plotly\"], function(Plotly) {\n",
       "                    window.PLOTLYENV=window.PLOTLYENV || {};\n",
       "                    window.PLOTLYENV.BASE_URL='https://plot.ly';\n",
       "                    \n",
       "                if (document.getElementById(\"9cb4a647-4d15-4bef-bf0b-107ab2f0a9e0\")) {\n",
       "                    Plotly.newPlot(\n",
       "                        '9cb4a647-4d15-4bef-bf0b-107ab2f0a9e0',\n",
       "                        [{\"line\": {\"color\": \"rgba(219, 64, 82, 1.0)\", \"dash\": \"solid\", \"shape\": \"linear\", \"width\": 1.3}, \"marker\": {\"size\": 2, \"symbol\": \"circle\"}, \"mode\": \"markers+lines\", \"name\": \"Total Confirmed\", \"text\": \"\", \"type\": \"scatter\", \"x\": [\"30 January \", \"31 January \", \"01 February \", \"02 February \", \"03 February \", \"04 February \", \"05 February \", \"06 February \", \"07 February \", \"08 February \", \"09 February \", \"10 February \", \"11 February \", \"12 February \", \"13 February \", \"14 February \", \"15 February \", \"16 February \", \"17 February \", \"18 February \", \"19 February \", \"20 February \", \"21 February \", \"22 February \", \"23 February \", \"24 February \", \"25 February \", \"26 February \", \"27 February \", \"28 February \", \"29 February \", \"01 March \", \"02 March \", \"03 March \", \"04 March \", \"05 March \", \"06 March \", \"07 March \", \"08 March \", \"09 March \", \"10 March \", \"11 March \", \"12 March \", \"13 March \", \"14 March \", \"15 March \", \"16 March \", \"17 March \", \"18 March \", \"19 March \", \"20 March \", \"21 March \", \"22 March \", \"23 March \", \"24 March \", \"25 March \", \"26 March \", \"27 March \", \"28 March \", \"29 March \", \"30 March \", \"31 March \", \"01 April \", \"02 April \", \"03 April \", \"04 April \", \"05 April \", \"06 April \", \"07 April \", \"08 April \", \"09 April \", \"10 April \", \"11 April \", \"12 April \", \"13 April \", \"14 April \", \"15 April \", \"16 April \", \"17 April \", \"18 April \", \"19 April \", \"20 April \", \"21 April \", \"22 April \", \"23 April \", \"24 April \", \"25 April \", \"26 April \", \"27 April \"], \"y\": [1, 1, 1, 2, 3, 3, 3, 3, 3, 3, 3, 3, 3, 3, 3, 3, 3, 3, 3, 3, 3, 3, 3, 3, 3, 3, 3, 3, 3, 3, 3, 3, 5, 6, 28, 30, 31, 34, 39, 48, 63, 71, 81, 91, 102, 112, 126, 146, 171, 198, 256, 334, 403, 497, 571, 657, 730, 883, 1019, 1139, 1326, 1635, 2059, 2545, 3105, 3684, 4293, 4777, 5350, 5915, 6728, 7599, 8453, 9211, 10454, 11485, 12371, 13432, 14354, 15725, 17305, 18544, 20081, 21373, 23040, 24448, 26283, 27890, 29451]}, {\"line\": {\"color\": \"rgba(55, 128, 191, 1.0)\", \"dash\": \"solid\", \"shape\": \"linear\", \"width\": 1.3}, \"marker\": {\"size\": 2, \"symbol\": \"circle\"}, \"mode\": \"markers+lines\", \"name\": \"Total Recovered\", \"text\": \"\", \"type\": \"scatter\", \"x\": [\"30 January \", \"31 January \", \"01 February \", \"02 February \", \"03 February \", \"04 February \", \"05 February \", \"06 February \", \"07 February \", \"08 February \", \"09 February \", \"10 February \", \"11 February \", \"12 February \", \"13 February \", \"14 February \", \"15 February \", \"16 February \", \"17 February \", \"18 February \", \"19 February \", \"20 February \", \"21 February \", \"22 February \", \"23 February \", \"24 February \", \"25 February \", \"26 February \", \"27 February \", \"28 February \", \"29 February \", \"01 March \", \"02 March \", \"03 March \", \"04 March \", \"05 March \", \"06 March \", \"07 March \", \"08 March \", \"09 March \", \"10 March \", \"11 March \", \"12 March \", \"13 March \", \"14 March \", \"15 March \", \"16 March \", \"17 March \", \"18 March \", \"19 March \", \"20 March \", \"21 March \", \"22 March \", \"23 March \", \"24 March \", \"25 March \", \"26 March \", \"27 March \", \"28 March \", \"29 March \", \"30 March \", \"31 March \", \"01 April \", \"02 April \", \"03 April \", \"04 April \", \"05 April \", \"06 April \", \"07 April \", \"08 April \", \"09 April \", \"10 April \", \"11 April \", \"12 April \", \"13 April \", \"14 April \", \"15 April \", \"16 April \", \"17 April \", \"18 April \", \"19 April \", \"20 April \", \"21 April \", \"22 April \", \"23 April \", \"24 April \", \"25 April \", \"26 April \", \"27 April \"], \"y\": [0, 0, 0, 0, 0, 0, 0, 0, 0, 0, 0, 0, 0, 0, 1, 1, 1, 2, 2, 2, 2, 3, 3, 3, 3, 3, 3, 3, 3, 3, 3, 3, 3, 3, 3, 3, 3, 3, 3, 3, 4, 4, 4, 10, 10, 13, 14, 15, 15, 20, 23, 23, 23, 25, 40, 43, 50, 75, 85, 102, 137, 150, 169, 191, 230, 286, 329, 394, 469, 565, 635, 786, 972, 1086, 1198, 1365, 1509, 1767, 2040, 2466, 2854, 3273, 3976, 4370, 5012, 5496, 5938, 6523, 7137]}, {\"line\": {\"color\": \"rgba(0, 128, 0, 1.0)\", \"dash\": \"solid\", \"shape\": \"linear\", \"width\": 1.3}, \"marker\": {\"size\": 2, \"symbol\": \"circle\"}, \"mode\": \"markers+lines\", \"name\": \"Total Deceased\", \"text\": \"\", \"type\": \"scatter\", \"x\": [\"30 January \", \"31 January \", \"01 February \", \"02 February \", \"03 February \", \"04 February \", \"05 February \", \"06 February \", \"07 February \", \"08 February \", \"09 February \", \"10 February \", \"11 February \", \"12 February \", \"13 February \", \"14 February \", \"15 February \", \"16 February \", \"17 February \", \"18 February \", \"19 February \", \"20 February \", \"21 February \", \"22 February \", \"23 February \", \"24 February \", \"25 February \", \"26 February \", \"27 February \", \"28 February \", \"29 February \", \"01 March \", \"02 March \", \"03 March \", \"04 March \", \"05 March \", \"06 March \", \"07 March \", \"08 March \", \"09 March \", \"10 March \", \"11 March \", \"12 March \", \"13 March \", \"14 March \", \"15 March \", \"16 March \", \"17 March \", \"18 March \", \"19 March \", \"20 March \", \"21 March \", \"22 March \", \"23 March \", \"24 March \", \"25 March \", \"26 March \", \"27 March \", \"28 March \", \"29 March \", \"30 March \", \"31 March \", \"01 April \", \"02 April \", \"03 April \", \"04 April \", \"05 April \", \"06 April \", \"07 April \", \"08 April \", \"09 April \", \"10 April \", \"11 April \", \"12 April \", \"13 April \", \"14 April \", \"15 April \", \"16 April \", \"17 April \", \"18 April \", \"19 April \", \"20 April \", \"21 April \", \"22 April \", \"23 April \", \"24 April \", \"25 April \", \"26 April \", \"27 April \"], \"y\": [0, 0, 0, 0, 0, 0, 0, 0, 0, 0, 0, 0, 0, 0, 0, 0, 0, 0, 0, 0, 0, 0, 0, 0, 0, 0, 0, 0, 0, 0, 0, 0, 0, 0, 0, 0, 0, 0, 0, 0, 0, 0, 1, 1, 2, 2, 2, 3, 3, 4, 4, 4, 7, 9, 10, 11, 16, 19, 24, 27, 41, 47, 53, 69, 83, 96, 118, 134, 161, 181, 227, 249, 290, 332, 359, 396, 423, 449, 487, 522, 560, 593, 646, 682, 722, 781, 825, 881, 939]}],\n",
       "                        {\"legend\": {\"bgcolor\": \"#F5F6F9\", \"font\": {\"color\": \"#4D5663\"}}, \"paper_bgcolor\": \"#F5F6F9\", \"plot_bgcolor\": \"#F5F6F9\", \"template\": {\"data\": {\"bar\": [{\"error_x\": {\"color\": \"#2a3f5f\"}, \"error_y\": {\"color\": \"#2a3f5f\"}, \"marker\": {\"line\": {\"color\": \"#E5ECF6\", \"width\": 0.5}}, \"type\": \"bar\"}], \"barpolar\": [{\"marker\": {\"line\": {\"color\": \"#E5ECF6\", \"width\": 0.5}}, \"type\": \"barpolar\"}], \"carpet\": [{\"aaxis\": {\"endlinecolor\": \"#2a3f5f\", \"gridcolor\": \"white\", \"linecolor\": \"white\", \"minorgridcolor\": \"white\", \"startlinecolor\": \"#2a3f5f\"}, \"baxis\": {\"endlinecolor\": \"#2a3f5f\", \"gridcolor\": \"white\", \"linecolor\": \"white\", \"minorgridcolor\": \"white\", \"startlinecolor\": \"#2a3f5f\"}, \"type\": \"carpet\"}], \"choropleth\": [{\"colorbar\": {\"outlinewidth\": 0, \"ticks\": \"\"}, \"type\": \"choropleth\"}], \"contour\": [{\"colorbar\": {\"outlinewidth\": 0, \"ticks\": \"\"}, \"colorscale\": [[0.0, \"#0d0887\"], [0.1111111111111111, \"#46039f\"], [0.2222222222222222, \"#7201a8\"], [0.3333333333333333, \"#9c179e\"], [0.4444444444444444, \"#bd3786\"], [0.5555555555555556, \"#d8576b\"], [0.6666666666666666, \"#ed7953\"], [0.7777777777777778, \"#fb9f3a\"], [0.8888888888888888, \"#fdca26\"], [1.0, \"#f0f921\"]], \"type\": \"contour\"}], \"contourcarpet\": [{\"colorbar\": {\"outlinewidth\": 0, \"ticks\": \"\"}, \"type\": \"contourcarpet\"}], \"heatmap\": [{\"colorbar\": {\"outlinewidth\": 0, \"ticks\": \"\"}, \"colorscale\": [[0.0, \"#0d0887\"], [0.1111111111111111, \"#46039f\"], [0.2222222222222222, \"#7201a8\"], [0.3333333333333333, \"#9c179e\"], [0.4444444444444444, \"#bd3786\"], [0.5555555555555556, \"#d8576b\"], [0.6666666666666666, \"#ed7953\"], [0.7777777777777778, \"#fb9f3a\"], [0.8888888888888888, \"#fdca26\"], [1.0, \"#f0f921\"]], \"type\": \"heatmap\"}], \"heatmapgl\": [{\"colorbar\": {\"outlinewidth\": 0, \"ticks\": \"\"}, \"colorscale\": [[0.0, \"#0d0887\"], [0.1111111111111111, \"#46039f\"], [0.2222222222222222, \"#7201a8\"], [0.3333333333333333, \"#9c179e\"], [0.4444444444444444, \"#bd3786\"], [0.5555555555555556, \"#d8576b\"], [0.6666666666666666, \"#ed7953\"], [0.7777777777777778, \"#fb9f3a\"], [0.8888888888888888, \"#fdca26\"], [1.0, \"#f0f921\"]], \"type\": \"heatmapgl\"}], \"histogram\": [{\"marker\": {\"colorbar\": {\"outlinewidth\": 0, \"ticks\": \"\"}}, \"type\": \"histogram\"}], \"histogram2d\": [{\"colorbar\": {\"outlinewidth\": 0, \"ticks\": \"\"}, \"colorscale\": [[0.0, \"#0d0887\"], [0.1111111111111111, \"#46039f\"], [0.2222222222222222, \"#7201a8\"], [0.3333333333333333, \"#9c179e\"], [0.4444444444444444, \"#bd3786\"], [0.5555555555555556, \"#d8576b\"], [0.6666666666666666, \"#ed7953\"], [0.7777777777777778, \"#fb9f3a\"], [0.8888888888888888, \"#fdca26\"], [1.0, \"#f0f921\"]], \"type\": \"histogram2d\"}], \"histogram2dcontour\": [{\"colorbar\": {\"outlinewidth\": 0, \"ticks\": \"\"}, \"colorscale\": [[0.0, \"#0d0887\"], [0.1111111111111111, \"#46039f\"], [0.2222222222222222, \"#7201a8\"], [0.3333333333333333, \"#9c179e\"], [0.4444444444444444, \"#bd3786\"], [0.5555555555555556, \"#d8576b\"], [0.6666666666666666, \"#ed7953\"], [0.7777777777777778, \"#fb9f3a\"], [0.8888888888888888, \"#fdca26\"], [1.0, \"#f0f921\"]], \"type\": \"histogram2dcontour\"}], \"mesh3d\": [{\"colorbar\": {\"outlinewidth\": 0, \"ticks\": \"\"}, \"type\": \"mesh3d\"}], \"parcoords\": [{\"line\": {\"colorbar\": {\"outlinewidth\": 0, \"ticks\": \"\"}}, \"type\": \"parcoords\"}], \"pie\": [{\"automargin\": true, \"type\": \"pie\"}], \"scatter\": [{\"marker\": {\"colorbar\": {\"outlinewidth\": 0, \"ticks\": \"\"}}, \"type\": \"scatter\"}], \"scatter3d\": [{\"line\": {\"colorbar\": {\"outlinewidth\": 0, \"ticks\": \"\"}}, \"marker\": {\"colorbar\": {\"outlinewidth\": 0, \"ticks\": \"\"}}, \"type\": \"scatter3d\"}], \"scattercarpet\": [{\"marker\": {\"colorbar\": {\"outlinewidth\": 0, \"ticks\": \"\"}}, \"type\": \"scattercarpet\"}], \"scattergeo\": [{\"marker\": {\"colorbar\": {\"outlinewidth\": 0, \"ticks\": \"\"}}, \"type\": \"scattergeo\"}], \"scattergl\": [{\"marker\": {\"colorbar\": {\"outlinewidth\": 0, \"ticks\": \"\"}}, \"type\": \"scattergl\"}], \"scattermapbox\": [{\"marker\": {\"colorbar\": {\"outlinewidth\": 0, \"ticks\": \"\"}}, \"type\": \"scattermapbox\"}], \"scatterpolar\": [{\"marker\": {\"colorbar\": {\"outlinewidth\": 0, \"ticks\": \"\"}}, \"type\": \"scatterpolar\"}], \"scatterpolargl\": [{\"marker\": {\"colorbar\": {\"outlinewidth\": 0, \"ticks\": \"\"}}, \"type\": \"scatterpolargl\"}], \"scatterternary\": [{\"marker\": {\"colorbar\": {\"outlinewidth\": 0, \"ticks\": \"\"}}, \"type\": \"scatterternary\"}], \"surface\": [{\"colorbar\": {\"outlinewidth\": 0, \"ticks\": \"\"}, \"colorscale\": [[0.0, \"#0d0887\"], [0.1111111111111111, \"#46039f\"], [0.2222222222222222, \"#7201a8\"], [0.3333333333333333, \"#9c179e\"], [0.4444444444444444, \"#bd3786\"], [0.5555555555555556, \"#d8576b\"], [0.6666666666666666, \"#ed7953\"], [0.7777777777777778, \"#fb9f3a\"], [0.8888888888888888, \"#fdca26\"], [1.0, \"#f0f921\"]], \"type\": \"surface\"}], \"table\": [{\"cells\": {\"fill\": {\"color\": \"#EBF0F8\"}, \"line\": {\"color\": \"white\"}}, \"header\": {\"fill\": {\"color\": \"#C8D4E3\"}, \"line\": {\"color\": \"white\"}}, \"type\": \"table\"}]}, \"layout\": {\"annotationdefaults\": {\"arrowcolor\": \"#2a3f5f\", \"arrowhead\": 0, \"arrowwidth\": 1}, \"coloraxis\": {\"colorbar\": {\"outlinewidth\": 0, \"ticks\": \"\"}}, \"colorscale\": {\"diverging\": [[0, \"#8e0152\"], [0.1, \"#c51b7d\"], [0.2, \"#de77ae\"], [0.3, \"#f1b6da\"], [0.4, \"#fde0ef\"], [0.5, \"#f7f7f7\"], [0.6, \"#e6f5d0\"], [0.7, \"#b8e186\"], [0.8, \"#7fbc41\"], [0.9, \"#4d9221\"], [1, \"#276419\"]], \"sequential\": [[0.0, \"#0d0887\"], [0.1111111111111111, \"#46039f\"], [0.2222222222222222, \"#7201a8\"], [0.3333333333333333, \"#9c179e\"], [0.4444444444444444, \"#bd3786\"], [0.5555555555555556, \"#d8576b\"], [0.6666666666666666, \"#ed7953\"], [0.7777777777777778, \"#fb9f3a\"], [0.8888888888888888, \"#fdca26\"], [1.0, \"#f0f921\"]], \"sequentialminus\": [[0.0, \"#0d0887\"], [0.1111111111111111, \"#46039f\"], [0.2222222222222222, \"#7201a8\"], [0.3333333333333333, \"#9c179e\"], [0.4444444444444444, \"#bd3786\"], [0.5555555555555556, \"#d8576b\"], [0.6666666666666666, \"#ed7953\"], [0.7777777777777778, \"#fb9f3a\"], [0.8888888888888888, \"#fdca26\"], [1.0, \"#f0f921\"]]}, \"colorway\": [\"#636efa\", \"#EF553B\", \"#00cc96\", \"#ab63fa\", \"#FFA15A\", \"#19d3f3\", \"#FF6692\", \"#B6E880\", \"#FF97FF\", \"#FECB52\"], \"font\": {\"color\": \"#2a3f5f\"}, \"geo\": {\"bgcolor\": \"white\", \"lakecolor\": \"white\", \"landcolor\": \"#E5ECF6\", \"showlakes\": true, \"showland\": true, \"subunitcolor\": \"white\"}, \"hoverlabel\": {\"align\": \"left\"}, \"hovermode\": \"closest\", \"mapbox\": {\"style\": \"light\"}, \"paper_bgcolor\": \"white\", \"plot_bgcolor\": \"#E5ECF6\", \"polar\": {\"angularaxis\": {\"gridcolor\": \"white\", \"linecolor\": \"white\", \"ticks\": \"\"}, \"bgcolor\": \"#E5ECF6\", \"radialaxis\": {\"gridcolor\": \"white\", \"linecolor\": \"white\", \"ticks\": \"\"}}, \"scene\": {\"xaxis\": {\"backgroundcolor\": \"#E5ECF6\", \"gridcolor\": \"white\", \"gridwidth\": 2, \"linecolor\": \"white\", \"showbackground\": true, \"ticks\": \"\", \"zerolinecolor\": \"white\"}, \"yaxis\": {\"backgroundcolor\": \"#E5ECF6\", \"gridcolor\": \"white\", \"gridwidth\": 2, \"linecolor\": \"white\", \"showbackground\": true, \"ticks\": \"\", \"zerolinecolor\": \"white\"}, \"zaxis\": {\"backgroundcolor\": \"#E5ECF6\", \"gridcolor\": \"white\", \"gridwidth\": 2, \"linecolor\": \"white\", \"showbackground\": true, \"ticks\": \"\", \"zerolinecolor\": \"white\"}}, \"shapedefaults\": {\"line\": {\"color\": \"#2a3f5f\"}}, \"ternary\": {\"aaxis\": {\"gridcolor\": \"white\", \"linecolor\": \"white\", \"ticks\": \"\"}, \"baxis\": {\"gridcolor\": \"white\", \"linecolor\": \"white\", \"ticks\": \"\"}, \"bgcolor\": \"#E5ECF6\", \"caxis\": {\"gridcolor\": \"white\", \"linecolor\": \"white\", \"ticks\": \"\"}}, \"title\": {\"x\": 0.05}, \"xaxis\": {\"automargin\": true, \"gridcolor\": \"white\", \"linecolor\": \"white\", \"ticks\": \"\", \"title\": {\"standoff\": 15}, \"zerolinecolor\": \"white\", \"zerolinewidth\": 2}, \"yaxis\": {\"automargin\": true, \"gridcolor\": \"white\", \"linecolor\": \"white\", \"ticks\": \"\", \"title\": {\"standoff\": 15}, \"zerolinecolor\": \"white\", \"zerolinewidth\": 2}}}, \"title\": {\"font\": {\"color\": \"#4D5663\"}}, \"xaxis\": {\"gridcolor\": \"#E1E5ED\", \"showgrid\": true, \"tickfont\": {\"color\": \"#4D5663\"}, \"title\": {\"font\": {\"color\": \"#4D5663\"}, \"text\": \"Date\"}, \"zerolinecolor\": \"#E1E5ED\"}, \"yaxis\": {\"gridcolor\": \"#E1E5ED\", \"showgrid\": true, \"tickfont\": {\"color\": \"#4D5663\"}, \"title\": {\"font\": {\"color\": \"#4D5663\"}, \"text\": \"Total Confirmed, Recovered and Deceased\"}, \"zerolinecolor\": \"#E1E5ED\"}},\n",
       "                        {\"showLink\": true, \"linkText\": \"Export to plot.ly\", \"plotlyServerURL\": \"https://plot.ly\", \"responsive\": true}\n",
       "                    ).then(function(){\n",
       "                            \n",
       "var gd = document.getElementById('9cb4a647-4d15-4bef-bf0b-107ab2f0a9e0');\n",
       "var x = new MutationObserver(function (mutations, observer) {{\n",
       "        var display = window.getComputedStyle(gd).display;\n",
       "        if (!display || display === 'none') {{\n",
       "            console.log([gd, 'removed!']);\n",
       "            Plotly.purge(gd);\n",
       "            observer.disconnect();\n",
       "        }}\n",
       "}});\n",
       "\n",
       "// Listen for the removal of the full notebook cells\n",
       "var notebookContainer = gd.closest('#notebook-container');\n",
       "if (notebookContainer) {{\n",
       "    x.observe(notebookContainer, {childList: true});\n",
       "}}\n",
       "\n",
       "// Listen for the clearing of the current output cell\n",
       "var outputEl = gd.closest('.output');\n",
       "if (outputEl) {{\n",
       "    x.observe(outputEl, {childList: true});\n",
       "}}\n",
       "\n",
       "                        })\n",
       "                };\n",
       "                });\n",
       "            </script>\n",
       "        </div>"
      ]
     },
     "metadata": {},
     "output_type": "display_data"
    }
   ],
   "source": [
    "df6.iplot(kind= 'scatter', x= 'Date', y=['Total Confirmed', 'Total Recovered', 'Total Deceased'], mode= 'markers+lines', xTitle= 'Date', yTitle= 'Total Confirmed, Recovered and Deceased', color= ['red', 'blue', 'green'], size= 2)\n"
   ]
  },
  {
   "cell_type": "markdown",
   "metadata": {},
   "source": [
    "# Daily confirmed, recovered and deceased."
   ]
  },
  {
   "cell_type": "code",
   "execution_count": 22,
   "metadata": {},
   "outputs": [
    {
     "data": {
      "application/vnd.plotly.v1+json": {
       "config": {
        "linkText": "Export to plot.ly",
        "plotlyServerURL": "https://plot.ly",
        "showLink": true
       },
       "data": [
        {
         "line": {
          "color": "rgba(219, 64, 82, 1.0)",
          "dash": "solid",
          "shape": "linear",
          "width": 1.3
         },
         "marker": {
          "size": 4,
          "symbol": "circle"
         },
         "mode": "markers+lines",
         "name": "Daily Confirmed",
         "text": "",
         "type": "scatter",
         "x": [
          "30 January ",
          "31 January ",
          "01 February ",
          "02 February ",
          "03 February ",
          "04 February ",
          "05 February ",
          "06 February ",
          "07 February ",
          "08 February ",
          "09 February ",
          "10 February ",
          "11 February ",
          "12 February ",
          "13 February ",
          "14 February ",
          "15 February ",
          "16 February ",
          "17 February ",
          "18 February ",
          "19 February ",
          "20 February ",
          "21 February ",
          "22 February ",
          "23 February ",
          "24 February ",
          "25 February ",
          "26 February ",
          "27 February ",
          "28 February ",
          "29 February ",
          "01 March ",
          "02 March ",
          "03 March ",
          "04 March ",
          "05 March ",
          "06 March ",
          "07 March ",
          "08 March ",
          "09 March ",
          "10 March ",
          "11 March ",
          "12 March ",
          "13 March ",
          "14 March ",
          "15 March ",
          "16 March ",
          "17 March ",
          "18 March ",
          "19 March ",
          "20 March ",
          "21 March ",
          "22 March ",
          "23 March ",
          "24 March ",
          "25 March ",
          "26 March ",
          "27 March ",
          "28 March ",
          "29 March ",
          "30 March ",
          "31 March ",
          "01 April ",
          "02 April ",
          "03 April ",
          "04 April ",
          "05 April ",
          "06 April ",
          "07 April ",
          "08 April ",
          "09 April ",
          "10 April ",
          "11 April ",
          "12 April ",
          "13 April ",
          "14 April ",
          "15 April ",
          "16 April ",
          "17 April ",
          "18 April ",
          "19 April ",
          "20 April ",
          "21 April ",
          "22 April ",
          "23 April ",
          "24 April ",
          "25 April ",
          "26 April ",
          "27 April "
         ],
         "y": [
          1,
          0,
          0,
          1,
          1,
          0,
          0,
          0,
          0,
          0,
          0,
          0,
          0,
          0,
          0,
          0,
          0,
          0,
          0,
          0,
          0,
          0,
          0,
          0,
          0,
          0,
          0,
          0,
          0,
          0,
          0,
          0,
          2,
          1,
          22,
          2,
          1,
          3,
          5,
          9,
          15,
          8,
          10,
          10,
          11,
          10,
          14,
          20,
          25,
          27,
          58,
          78,
          69,
          94,
          74,
          86,
          73,
          153,
          136,
          120,
          187,
          309,
          424,
          486,
          560,
          579,
          609,
          484,
          573,
          565,
          813,
          871,
          854,
          758,
          1243,
          1031,
          886,
          1061,
          922,
          1371,
          1580,
          1239,
          1537,
          1292,
          1667,
          1408,
          1835,
          1607,
          1561
         ]
        },
        {
         "line": {
          "color": "rgba(55, 128, 191, 1.0)",
          "dash": "solid",
          "shape": "linear",
          "width": 1.3
         },
         "marker": {
          "size": 4,
          "symbol": "circle"
         },
         "mode": "markers+lines",
         "name": "Daily Recovered",
         "text": "",
         "type": "scatter",
         "x": [
          "30 January ",
          "31 January ",
          "01 February ",
          "02 February ",
          "03 February ",
          "04 February ",
          "05 February ",
          "06 February ",
          "07 February ",
          "08 February ",
          "09 February ",
          "10 February ",
          "11 February ",
          "12 February ",
          "13 February ",
          "14 February ",
          "15 February ",
          "16 February ",
          "17 February ",
          "18 February ",
          "19 February ",
          "20 February ",
          "21 February ",
          "22 February ",
          "23 February ",
          "24 February ",
          "25 February ",
          "26 February ",
          "27 February ",
          "28 February ",
          "29 February ",
          "01 March ",
          "02 March ",
          "03 March ",
          "04 March ",
          "05 March ",
          "06 March ",
          "07 March ",
          "08 March ",
          "09 March ",
          "10 March ",
          "11 March ",
          "12 March ",
          "13 March ",
          "14 March ",
          "15 March ",
          "16 March ",
          "17 March ",
          "18 March ",
          "19 March ",
          "20 March ",
          "21 March ",
          "22 March ",
          "23 March ",
          "24 March ",
          "25 March ",
          "26 March ",
          "27 March ",
          "28 March ",
          "29 March ",
          "30 March ",
          "31 March ",
          "01 April ",
          "02 April ",
          "03 April ",
          "04 April ",
          "05 April ",
          "06 April ",
          "07 April ",
          "08 April ",
          "09 April ",
          "10 April ",
          "11 April ",
          "12 April ",
          "13 April ",
          "14 April ",
          "15 April ",
          "16 April ",
          "17 April ",
          "18 April ",
          "19 April ",
          "20 April ",
          "21 April ",
          "22 April ",
          "23 April ",
          "24 April ",
          "25 April ",
          "26 April ",
          "27 April "
         ],
         "y": [
          0,
          0,
          0,
          0,
          0,
          0,
          0,
          0,
          0,
          0,
          0,
          0,
          0,
          0,
          1,
          0,
          0,
          1,
          0,
          0,
          0,
          1,
          0,
          0,
          0,
          0,
          0,
          0,
          0,
          0,
          0,
          0,
          0,
          0,
          0,
          0,
          0,
          0,
          0,
          0,
          1,
          0,
          0,
          6,
          0,
          3,
          1,
          1,
          0,
          5,
          3,
          0,
          0,
          2,
          15,
          3,
          7,
          25,
          10,
          17,
          35,
          13,
          19,
          22,
          39,
          56,
          43,
          65,
          75,
          96,
          70,
          151,
          186,
          114,
          112,
          167,
          144,
          258,
          273,
          426,
          388,
          419,
          703,
          394,
          642,
          484,
          442,
          585,
          614
         ]
        },
        {
         "line": {
          "color": "rgba(0, 128, 0, 1.0)",
          "dash": "solid",
          "shape": "linear",
          "width": 1.3
         },
         "marker": {
          "size": 4,
          "symbol": "circle"
         },
         "mode": "markers+lines",
         "name": "Daily Deceased",
         "text": "",
         "type": "scatter",
         "x": [
          "30 January ",
          "31 January ",
          "01 February ",
          "02 February ",
          "03 February ",
          "04 February ",
          "05 February ",
          "06 February ",
          "07 February ",
          "08 February ",
          "09 February ",
          "10 February ",
          "11 February ",
          "12 February ",
          "13 February ",
          "14 February ",
          "15 February ",
          "16 February ",
          "17 February ",
          "18 February ",
          "19 February ",
          "20 February ",
          "21 February ",
          "22 February ",
          "23 February ",
          "24 February ",
          "25 February ",
          "26 February ",
          "27 February ",
          "28 February ",
          "29 February ",
          "01 March ",
          "02 March ",
          "03 March ",
          "04 March ",
          "05 March ",
          "06 March ",
          "07 March ",
          "08 March ",
          "09 March ",
          "10 March ",
          "11 March ",
          "12 March ",
          "13 March ",
          "14 March ",
          "15 March ",
          "16 March ",
          "17 March ",
          "18 March ",
          "19 March ",
          "20 March ",
          "21 March ",
          "22 March ",
          "23 March ",
          "24 March ",
          "25 March ",
          "26 March ",
          "27 March ",
          "28 March ",
          "29 March ",
          "30 March ",
          "31 March ",
          "01 April ",
          "02 April ",
          "03 April ",
          "04 April ",
          "05 April ",
          "06 April ",
          "07 April ",
          "08 April ",
          "09 April ",
          "10 April ",
          "11 April ",
          "12 April ",
          "13 April ",
          "14 April ",
          "15 April ",
          "16 April ",
          "17 April ",
          "18 April ",
          "19 April ",
          "20 April ",
          "21 April ",
          "22 April ",
          "23 April ",
          "24 April ",
          "25 April ",
          "26 April ",
          "27 April "
         ],
         "y": [
          0,
          0,
          0,
          0,
          0,
          0,
          0,
          0,
          0,
          0,
          0,
          0,
          0,
          0,
          0,
          0,
          0,
          0,
          0,
          0,
          0,
          0,
          0,
          0,
          0,
          0,
          0,
          0,
          0,
          0,
          0,
          0,
          0,
          0,
          0,
          0,
          0,
          0,
          0,
          0,
          0,
          0,
          1,
          0,
          1,
          0,
          0,
          1,
          0,
          1,
          0,
          0,
          3,
          2,
          1,
          1,
          5,
          3,
          5,
          3,
          14,
          6,
          6,
          16,
          14,
          13,
          22,
          16,
          27,
          20,
          46,
          22,
          41,
          42,
          27,
          37,
          27,
          26,
          38,
          35,
          38,
          33,
          53,
          36,
          40,
          59,
          44,
          56,
          58
         ]
        }
       ],
       "layout": {
        "legend": {
         "bgcolor": "#F5F6F9",
         "font": {
          "color": "#4D5663"
         }
        },
        "paper_bgcolor": "#F5F6F9",
        "plot_bgcolor": "#F5F6F9",
        "template": {
         "data": {
          "bar": [
           {
            "error_x": {
             "color": "#2a3f5f"
            },
            "error_y": {
             "color": "#2a3f5f"
            },
            "marker": {
             "line": {
              "color": "#E5ECF6",
              "width": 0.5
             }
            },
            "type": "bar"
           }
          ],
          "barpolar": [
           {
            "marker": {
             "line": {
              "color": "#E5ECF6",
              "width": 0.5
             }
            },
            "type": "barpolar"
           }
          ],
          "carpet": [
           {
            "aaxis": {
             "endlinecolor": "#2a3f5f",
             "gridcolor": "white",
             "linecolor": "white",
             "minorgridcolor": "white",
             "startlinecolor": "#2a3f5f"
            },
            "baxis": {
             "endlinecolor": "#2a3f5f",
             "gridcolor": "white",
             "linecolor": "white",
             "minorgridcolor": "white",
             "startlinecolor": "#2a3f5f"
            },
            "type": "carpet"
           }
          ],
          "choropleth": [
           {
            "colorbar": {
             "outlinewidth": 0,
             "ticks": ""
            },
            "type": "choropleth"
           }
          ],
          "contour": [
           {
            "colorbar": {
             "outlinewidth": 0,
             "ticks": ""
            },
            "colorscale": [
             [
              0,
              "#0d0887"
             ],
             [
              0.1111111111111111,
              "#46039f"
             ],
             [
              0.2222222222222222,
              "#7201a8"
             ],
             [
              0.3333333333333333,
              "#9c179e"
             ],
             [
              0.4444444444444444,
              "#bd3786"
             ],
             [
              0.5555555555555556,
              "#d8576b"
             ],
             [
              0.6666666666666666,
              "#ed7953"
             ],
             [
              0.7777777777777778,
              "#fb9f3a"
             ],
             [
              0.8888888888888888,
              "#fdca26"
             ],
             [
              1,
              "#f0f921"
             ]
            ],
            "type": "contour"
           }
          ],
          "contourcarpet": [
           {
            "colorbar": {
             "outlinewidth": 0,
             "ticks": ""
            },
            "type": "contourcarpet"
           }
          ],
          "heatmap": [
           {
            "colorbar": {
             "outlinewidth": 0,
             "ticks": ""
            },
            "colorscale": [
             [
              0,
              "#0d0887"
             ],
             [
              0.1111111111111111,
              "#46039f"
             ],
             [
              0.2222222222222222,
              "#7201a8"
             ],
             [
              0.3333333333333333,
              "#9c179e"
             ],
             [
              0.4444444444444444,
              "#bd3786"
             ],
             [
              0.5555555555555556,
              "#d8576b"
             ],
             [
              0.6666666666666666,
              "#ed7953"
             ],
             [
              0.7777777777777778,
              "#fb9f3a"
             ],
             [
              0.8888888888888888,
              "#fdca26"
             ],
             [
              1,
              "#f0f921"
             ]
            ],
            "type": "heatmap"
           }
          ],
          "heatmapgl": [
           {
            "colorbar": {
             "outlinewidth": 0,
             "ticks": ""
            },
            "colorscale": [
             [
              0,
              "#0d0887"
             ],
             [
              0.1111111111111111,
              "#46039f"
             ],
             [
              0.2222222222222222,
              "#7201a8"
             ],
             [
              0.3333333333333333,
              "#9c179e"
             ],
             [
              0.4444444444444444,
              "#bd3786"
             ],
             [
              0.5555555555555556,
              "#d8576b"
             ],
             [
              0.6666666666666666,
              "#ed7953"
             ],
             [
              0.7777777777777778,
              "#fb9f3a"
             ],
             [
              0.8888888888888888,
              "#fdca26"
             ],
             [
              1,
              "#f0f921"
             ]
            ],
            "type": "heatmapgl"
           }
          ],
          "histogram": [
           {
            "marker": {
             "colorbar": {
              "outlinewidth": 0,
              "ticks": ""
             }
            },
            "type": "histogram"
           }
          ],
          "histogram2d": [
           {
            "colorbar": {
             "outlinewidth": 0,
             "ticks": ""
            },
            "colorscale": [
             [
              0,
              "#0d0887"
             ],
             [
              0.1111111111111111,
              "#46039f"
             ],
             [
              0.2222222222222222,
              "#7201a8"
             ],
             [
              0.3333333333333333,
              "#9c179e"
             ],
             [
              0.4444444444444444,
              "#bd3786"
             ],
             [
              0.5555555555555556,
              "#d8576b"
             ],
             [
              0.6666666666666666,
              "#ed7953"
             ],
             [
              0.7777777777777778,
              "#fb9f3a"
             ],
             [
              0.8888888888888888,
              "#fdca26"
             ],
             [
              1,
              "#f0f921"
             ]
            ],
            "type": "histogram2d"
           }
          ],
          "histogram2dcontour": [
           {
            "colorbar": {
             "outlinewidth": 0,
             "ticks": ""
            },
            "colorscale": [
             [
              0,
              "#0d0887"
             ],
             [
              0.1111111111111111,
              "#46039f"
             ],
             [
              0.2222222222222222,
              "#7201a8"
             ],
             [
              0.3333333333333333,
              "#9c179e"
             ],
             [
              0.4444444444444444,
              "#bd3786"
             ],
             [
              0.5555555555555556,
              "#d8576b"
             ],
             [
              0.6666666666666666,
              "#ed7953"
             ],
             [
              0.7777777777777778,
              "#fb9f3a"
             ],
             [
              0.8888888888888888,
              "#fdca26"
             ],
             [
              1,
              "#f0f921"
             ]
            ],
            "type": "histogram2dcontour"
           }
          ],
          "mesh3d": [
           {
            "colorbar": {
             "outlinewidth": 0,
             "ticks": ""
            },
            "type": "mesh3d"
           }
          ],
          "parcoords": [
           {
            "line": {
             "colorbar": {
              "outlinewidth": 0,
              "ticks": ""
             }
            },
            "type": "parcoords"
           }
          ],
          "pie": [
           {
            "automargin": true,
            "type": "pie"
           }
          ],
          "scatter": [
           {
            "marker": {
             "colorbar": {
              "outlinewidth": 0,
              "ticks": ""
             }
            },
            "type": "scatter"
           }
          ],
          "scatter3d": [
           {
            "line": {
             "colorbar": {
              "outlinewidth": 0,
              "ticks": ""
             }
            },
            "marker": {
             "colorbar": {
              "outlinewidth": 0,
              "ticks": ""
             }
            },
            "type": "scatter3d"
           }
          ],
          "scattercarpet": [
           {
            "marker": {
             "colorbar": {
              "outlinewidth": 0,
              "ticks": ""
             }
            },
            "type": "scattercarpet"
           }
          ],
          "scattergeo": [
           {
            "marker": {
             "colorbar": {
              "outlinewidth": 0,
              "ticks": ""
             }
            },
            "type": "scattergeo"
           }
          ],
          "scattergl": [
           {
            "marker": {
             "colorbar": {
              "outlinewidth": 0,
              "ticks": ""
             }
            },
            "type": "scattergl"
           }
          ],
          "scattermapbox": [
           {
            "marker": {
             "colorbar": {
              "outlinewidth": 0,
              "ticks": ""
             }
            },
            "type": "scattermapbox"
           }
          ],
          "scatterpolar": [
           {
            "marker": {
             "colorbar": {
              "outlinewidth": 0,
              "ticks": ""
             }
            },
            "type": "scatterpolar"
           }
          ],
          "scatterpolargl": [
           {
            "marker": {
             "colorbar": {
              "outlinewidth": 0,
              "ticks": ""
             }
            },
            "type": "scatterpolargl"
           }
          ],
          "scatterternary": [
           {
            "marker": {
             "colorbar": {
              "outlinewidth": 0,
              "ticks": ""
             }
            },
            "type": "scatterternary"
           }
          ],
          "surface": [
           {
            "colorbar": {
             "outlinewidth": 0,
             "ticks": ""
            },
            "colorscale": [
             [
              0,
              "#0d0887"
             ],
             [
              0.1111111111111111,
              "#46039f"
             ],
             [
              0.2222222222222222,
              "#7201a8"
             ],
             [
              0.3333333333333333,
              "#9c179e"
             ],
             [
              0.4444444444444444,
              "#bd3786"
             ],
             [
              0.5555555555555556,
              "#d8576b"
             ],
             [
              0.6666666666666666,
              "#ed7953"
             ],
             [
              0.7777777777777778,
              "#fb9f3a"
             ],
             [
              0.8888888888888888,
              "#fdca26"
             ],
             [
              1,
              "#f0f921"
             ]
            ],
            "type": "surface"
           }
          ],
          "table": [
           {
            "cells": {
             "fill": {
              "color": "#EBF0F8"
             },
             "line": {
              "color": "white"
             }
            },
            "header": {
             "fill": {
              "color": "#C8D4E3"
             },
             "line": {
              "color": "white"
             }
            },
            "type": "table"
           }
          ]
         },
         "layout": {
          "annotationdefaults": {
           "arrowcolor": "#2a3f5f",
           "arrowhead": 0,
           "arrowwidth": 1
          },
          "coloraxis": {
           "colorbar": {
            "outlinewidth": 0,
            "ticks": ""
           }
          },
          "colorscale": {
           "diverging": [
            [
             0,
             "#8e0152"
            ],
            [
             0.1,
             "#c51b7d"
            ],
            [
             0.2,
             "#de77ae"
            ],
            [
             0.3,
             "#f1b6da"
            ],
            [
             0.4,
             "#fde0ef"
            ],
            [
             0.5,
             "#f7f7f7"
            ],
            [
             0.6,
             "#e6f5d0"
            ],
            [
             0.7,
             "#b8e186"
            ],
            [
             0.8,
             "#7fbc41"
            ],
            [
             0.9,
             "#4d9221"
            ],
            [
             1,
             "#276419"
            ]
           ],
           "sequential": [
            [
             0,
             "#0d0887"
            ],
            [
             0.1111111111111111,
             "#46039f"
            ],
            [
             0.2222222222222222,
             "#7201a8"
            ],
            [
             0.3333333333333333,
             "#9c179e"
            ],
            [
             0.4444444444444444,
             "#bd3786"
            ],
            [
             0.5555555555555556,
             "#d8576b"
            ],
            [
             0.6666666666666666,
             "#ed7953"
            ],
            [
             0.7777777777777778,
             "#fb9f3a"
            ],
            [
             0.8888888888888888,
             "#fdca26"
            ],
            [
             1,
             "#f0f921"
            ]
           ],
           "sequentialminus": [
            [
             0,
             "#0d0887"
            ],
            [
             0.1111111111111111,
             "#46039f"
            ],
            [
             0.2222222222222222,
             "#7201a8"
            ],
            [
             0.3333333333333333,
             "#9c179e"
            ],
            [
             0.4444444444444444,
             "#bd3786"
            ],
            [
             0.5555555555555556,
             "#d8576b"
            ],
            [
             0.6666666666666666,
             "#ed7953"
            ],
            [
             0.7777777777777778,
             "#fb9f3a"
            ],
            [
             0.8888888888888888,
             "#fdca26"
            ],
            [
             1,
             "#f0f921"
            ]
           ]
          },
          "colorway": [
           "#636efa",
           "#EF553B",
           "#00cc96",
           "#ab63fa",
           "#FFA15A",
           "#19d3f3",
           "#FF6692",
           "#B6E880",
           "#FF97FF",
           "#FECB52"
          ],
          "font": {
           "color": "#2a3f5f"
          },
          "geo": {
           "bgcolor": "white",
           "lakecolor": "white",
           "landcolor": "#E5ECF6",
           "showlakes": true,
           "showland": true,
           "subunitcolor": "white"
          },
          "hoverlabel": {
           "align": "left"
          },
          "hovermode": "closest",
          "mapbox": {
           "style": "light"
          },
          "paper_bgcolor": "white",
          "plot_bgcolor": "#E5ECF6",
          "polar": {
           "angularaxis": {
            "gridcolor": "white",
            "linecolor": "white",
            "ticks": ""
           },
           "bgcolor": "#E5ECF6",
           "radialaxis": {
            "gridcolor": "white",
            "linecolor": "white",
            "ticks": ""
           }
          },
          "scene": {
           "xaxis": {
            "backgroundcolor": "#E5ECF6",
            "gridcolor": "white",
            "gridwidth": 2,
            "linecolor": "white",
            "showbackground": true,
            "ticks": "",
            "zerolinecolor": "white"
           },
           "yaxis": {
            "backgroundcolor": "#E5ECF6",
            "gridcolor": "white",
            "gridwidth": 2,
            "linecolor": "white",
            "showbackground": true,
            "ticks": "",
            "zerolinecolor": "white"
           },
           "zaxis": {
            "backgroundcolor": "#E5ECF6",
            "gridcolor": "white",
            "gridwidth": 2,
            "linecolor": "white",
            "showbackground": true,
            "ticks": "",
            "zerolinecolor": "white"
           }
          },
          "shapedefaults": {
           "line": {
            "color": "#2a3f5f"
           }
          },
          "ternary": {
           "aaxis": {
            "gridcolor": "white",
            "linecolor": "white",
            "ticks": ""
           },
           "baxis": {
            "gridcolor": "white",
            "linecolor": "white",
            "ticks": ""
           },
           "bgcolor": "#E5ECF6",
           "caxis": {
            "gridcolor": "white",
            "linecolor": "white",
            "ticks": ""
           }
          },
          "title": {
           "x": 0.05
          },
          "xaxis": {
           "automargin": true,
           "gridcolor": "white",
           "linecolor": "white",
           "ticks": "",
           "title": {
            "standoff": 15
           },
           "zerolinecolor": "white",
           "zerolinewidth": 2
          },
          "yaxis": {
           "automargin": true,
           "gridcolor": "white",
           "linecolor": "white",
           "ticks": "",
           "title": {
            "standoff": 15
           },
           "zerolinecolor": "white",
           "zerolinewidth": 2
          }
         }
        },
        "title": {
         "font": {
          "color": "#4D5663"
         },
         "text": "Cases Daily"
        },
        "xaxis": {
         "gridcolor": "#E1E5ED",
         "showgrid": true,
         "tickfont": {
          "color": "#4D5663"
         },
         "title": {
          "font": {
           "color": "#4D5663"
          },
          "text": "Date"
         },
         "zerolinecolor": "#E1E5ED"
        },
        "yaxis": {
         "gridcolor": "#E1E5ED",
         "showgrid": true,
         "tickfont": {
          "color": "#4D5663"
         },
         "title": {
          "font": {
           "color": "#4D5663"
          },
          "text": "Daily Confirmed, Recovered and Deceased"
         },
         "zerolinecolor": "#E1E5ED"
        }
       }
      },
      "text/html": [
       "<div>\n",
       "        \n",
       "        \n",
       "            <div id=\"a491241c-25f5-49ed-a10f-c788cefdd419\" class=\"plotly-graph-div\" style=\"height:525px; width:100%;\"></div>\n",
       "            <script type=\"text/javascript\">\n",
       "                require([\"plotly\"], function(Plotly) {\n",
       "                    window.PLOTLYENV=window.PLOTLYENV || {};\n",
       "                    window.PLOTLYENV.BASE_URL='https://plot.ly';\n",
       "                    \n",
       "                if (document.getElementById(\"a491241c-25f5-49ed-a10f-c788cefdd419\")) {\n",
       "                    Plotly.newPlot(\n",
       "                        'a491241c-25f5-49ed-a10f-c788cefdd419',\n",
       "                        [{\"line\": {\"color\": \"rgba(219, 64, 82, 1.0)\", \"dash\": \"solid\", \"shape\": \"linear\", \"width\": 1.3}, \"marker\": {\"size\": 4, \"symbol\": \"circle\"}, \"mode\": \"markers+lines\", \"name\": \"Daily Confirmed\", \"text\": \"\", \"type\": \"scatter\", \"x\": [\"30 January \", \"31 January \", \"01 February \", \"02 February \", \"03 February \", \"04 February \", \"05 February \", \"06 February \", \"07 February \", \"08 February \", \"09 February \", \"10 February \", \"11 February \", \"12 February \", \"13 February \", \"14 February \", \"15 February \", \"16 February \", \"17 February \", \"18 February \", \"19 February \", \"20 February \", \"21 February \", \"22 February \", \"23 February \", \"24 February \", \"25 February \", \"26 February \", \"27 February \", \"28 February \", \"29 February \", \"01 March \", \"02 March \", \"03 March \", \"04 March \", \"05 March \", \"06 March \", \"07 March \", \"08 March \", \"09 March \", \"10 March \", \"11 March \", \"12 March \", \"13 March \", \"14 March \", \"15 March \", \"16 March \", \"17 March \", \"18 March \", \"19 March \", \"20 March \", \"21 March \", \"22 March \", \"23 March \", \"24 March \", \"25 March \", \"26 March \", \"27 March \", \"28 March \", \"29 March \", \"30 March \", \"31 March \", \"01 April \", \"02 April \", \"03 April \", \"04 April \", \"05 April \", \"06 April \", \"07 April \", \"08 April \", \"09 April \", \"10 April \", \"11 April \", \"12 April \", \"13 April \", \"14 April \", \"15 April \", \"16 April \", \"17 April \", \"18 April \", \"19 April \", \"20 April \", \"21 April \", \"22 April \", \"23 April \", \"24 April \", \"25 April \", \"26 April \", \"27 April \"], \"y\": [1, 0, 0, 1, 1, 0, 0, 0, 0, 0, 0, 0, 0, 0, 0, 0, 0, 0, 0, 0, 0, 0, 0, 0, 0, 0, 0, 0, 0, 0, 0, 0, 2, 1, 22, 2, 1, 3, 5, 9, 15, 8, 10, 10, 11, 10, 14, 20, 25, 27, 58, 78, 69, 94, 74, 86, 73, 153, 136, 120, 187, 309, 424, 486, 560, 579, 609, 484, 573, 565, 813, 871, 854, 758, 1243, 1031, 886, 1061, 922, 1371, 1580, 1239, 1537, 1292, 1667, 1408, 1835, 1607, 1561]}, {\"line\": {\"color\": \"rgba(55, 128, 191, 1.0)\", \"dash\": \"solid\", \"shape\": \"linear\", \"width\": 1.3}, \"marker\": {\"size\": 4, \"symbol\": \"circle\"}, \"mode\": \"markers+lines\", \"name\": \"Daily Recovered\", \"text\": \"\", \"type\": \"scatter\", \"x\": [\"30 January \", \"31 January \", \"01 February \", \"02 February \", \"03 February \", \"04 February \", \"05 February \", \"06 February \", \"07 February \", \"08 February \", \"09 February \", \"10 February \", \"11 February \", \"12 February \", \"13 February \", \"14 February \", \"15 February \", \"16 February \", \"17 February \", \"18 February \", \"19 February \", \"20 February \", \"21 February \", \"22 February \", \"23 February \", \"24 February \", \"25 February \", \"26 February \", \"27 February \", \"28 February \", \"29 February \", \"01 March \", \"02 March \", \"03 March \", \"04 March \", \"05 March \", \"06 March \", \"07 March \", \"08 March \", \"09 March \", \"10 March \", \"11 March \", \"12 March \", \"13 March \", \"14 March \", \"15 March \", \"16 March \", \"17 March \", \"18 March \", \"19 March \", \"20 March \", \"21 March \", \"22 March \", \"23 March \", \"24 March \", \"25 March \", \"26 March \", \"27 March \", \"28 March \", \"29 March \", \"30 March \", \"31 March \", \"01 April \", \"02 April \", \"03 April \", \"04 April \", \"05 April \", \"06 April \", \"07 April \", \"08 April \", \"09 April \", \"10 April \", \"11 April \", \"12 April \", \"13 April \", \"14 April \", \"15 April \", \"16 April \", \"17 April \", \"18 April \", \"19 April \", \"20 April \", \"21 April \", \"22 April \", \"23 April \", \"24 April \", \"25 April \", \"26 April \", \"27 April \"], \"y\": [0, 0, 0, 0, 0, 0, 0, 0, 0, 0, 0, 0, 0, 0, 1, 0, 0, 1, 0, 0, 0, 1, 0, 0, 0, 0, 0, 0, 0, 0, 0, 0, 0, 0, 0, 0, 0, 0, 0, 0, 1, 0, 0, 6, 0, 3, 1, 1, 0, 5, 3, 0, 0, 2, 15, 3, 7, 25, 10, 17, 35, 13, 19, 22, 39, 56, 43, 65, 75, 96, 70, 151, 186, 114, 112, 167, 144, 258, 273, 426, 388, 419, 703, 394, 642, 484, 442, 585, 614]}, {\"line\": {\"color\": \"rgba(0, 128, 0, 1.0)\", \"dash\": \"solid\", \"shape\": \"linear\", \"width\": 1.3}, \"marker\": {\"size\": 4, \"symbol\": \"circle\"}, \"mode\": \"markers+lines\", \"name\": \"Daily Deceased\", \"text\": \"\", \"type\": \"scatter\", \"x\": [\"30 January \", \"31 January \", \"01 February \", \"02 February \", \"03 February \", \"04 February \", \"05 February \", \"06 February \", \"07 February \", \"08 February \", \"09 February \", \"10 February \", \"11 February \", \"12 February \", \"13 February \", \"14 February \", \"15 February \", \"16 February \", \"17 February \", \"18 February \", \"19 February \", \"20 February \", \"21 February \", \"22 February \", \"23 February \", \"24 February \", \"25 February \", \"26 February \", \"27 February \", \"28 February \", \"29 February \", \"01 March \", \"02 March \", \"03 March \", \"04 March \", \"05 March \", \"06 March \", \"07 March \", \"08 March \", \"09 March \", \"10 March \", \"11 March \", \"12 March \", \"13 March \", \"14 March \", \"15 March \", \"16 March \", \"17 March \", \"18 March \", \"19 March \", \"20 March \", \"21 March \", \"22 March \", \"23 March \", \"24 March \", \"25 March \", \"26 March \", \"27 March \", \"28 March \", \"29 March \", \"30 March \", \"31 March \", \"01 April \", \"02 April \", \"03 April \", \"04 April \", \"05 April \", \"06 April \", \"07 April \", \"08 April \", \"09 April \", \"10 April \", \"11 April \", \"12 April \", \"13 April \", \"14 April \", \"15 April \", \"16 April \", \"17 April \", \"18 April \", \"19 April \", \"20 April \", \"21 April \", \"22 April \", \"23 April \", \"24 April \", \"25 April \", \"26 April \", \"27 April \"], \"y\": [0, 0, 0, 0, 0, 0, 0, 0, 0, 0, 0, 0, 0, 0, 0, 0, 0, 0, 0, 0, 0, 0, 0, 0, 0, 0, 0, 0, 0, 0, 0, 0, 0, 0, 0, 0, 0, 0, 0, 0, 0, 0, 1, 0, 1, 0, 0, 1, 0, 1, 0, 0, 3, 2, 1, 1, 5, 3, 5, 3, 14, 6, 6, 16, 14, 13, 22, 16, 27, 20, 46, 22, 41, 42, 27, 37, 27, 26, 38, 35, 38, 33, 53, 36, 40, 59, 44, 56, 58]}],\n",
       "                        {\"legend\": {\"bgcolor\": \"#F5F6F9\", \"font\": {\"color\": \"#4D5663\"}}, \"paper_bgcolor\": \"#F5F6F9\", \"plot_bgcolor\": \"#F5F6F9\", \"template\": {\"data\": {\"bar\": [{\"error_x\": {\"color\": \"#2a3f5f\"}, \"error_y\": {\"color\": \"#2a3f5f\"}, \"marker\": {\"line\": {\"color\": \"#E5ECF6\", \"width\": 0.5}}, \"type\": \"bar\"}], \"barpolar\": [{\"marker\": {\"line\": {\"color\": \"#E5ECF6\", \"width\": 0.5}}, \"type\": \"barpolar\"}], \"carpet\": [{\"aaxis\": {\"endlinecolor\": \"#2a3f5f\", \"gridcolor\": \"white\", \"linecolor\": \"white\", \"minorgridcolor\": \"white\", \"startlinecolor\": \"#2a3f5f\"}, \"baxis\": {\"endlinecolor\": \"#2a3f5f\", \"gridcolor\": \"white\", \"linecolor\": \"white\", \"minorgridcolor\": \"white\", \"startlinecolor\": \"#2a3f5f\"}, \"type\": \"carpet\"}], \"choropleth\": [{\"colorbar\": {\"outlinewidth\": 0, \"ticks\": \"\"}, \"type\": \"choropleth\"}], \"contour\": [{\"colorbar\": {\"outlinewidth\": 0, \"ticks\": \"\"}, \"colorscale\": [[0.0, \"#0d0887\"], [0.1111111111111111, \"#46039f\"], [0.2222222222222222, \"#7201a8\"], [0.3333333333333333, \"#9c179e\"], [0.4444444444444444, \"#bd3786\"], [0.5555555555555556, \"#d8576b\"], [0.6666666666666666, \"#ed7953\"], [0.7777777777777778, \"#fb9f3a\"], [0.8888888888888888, \"#fdca26\"], [1.0, \"#f0f921\"]], \"type\": \"contour\"}], \"contourcarpet\": [{\"colorbar\": {\"outlinewidth\": 0, \"ticks\": \"\"}, \"type\": \"contourcarpet\"}], \"heatmap\": [{\"colorbar\": {\"outlinewidth\": 0, \"ticks\": \"\"}, \"colorscale\": [[0.0, \"#0d0887\"], [0.1111111111111111, \"#46039f\"], [0.2222222222222222, \"#7201a8\"], [0.3333333333333333, \"#9c179e\"], [0.4444444444444444, \"#bd3786\"], [0.5555555555555556, \"#d8576b\"], [0.6666666666666666, \"#ed7953\"], [0.7777777777777778, \"#fb9f3a\"], [0.8888888888888888, \"#fdca26\"], [1.0, \"#f0f921\"]], \"type\": \"heatmap\"}], \"heatmapgl\": [{\"colorbar\": {\"outlinewidth\": 0, \"ticks\": \"\"}, \"colorscale\": [[0.0, \"#0d0887\"], [0.1111111111111111, \"#46039f\"], [0.2222222222222222, \"#7201a8\"], [0.3333333333333333, \"#9c179e\"], [0.4444444444444444, \"#bd3786\"], [0.5555555555555556, \"#d8576b\"], [0.6666666666666666, \"#ed7953\"], [0.7777777777777778, \"#fb9f3a\"], [0.8888888888888888, \"#fdca26\"], [1.0, \"#f0f921\"]], \"type\": \"heatmapgl\"}], \"histogram\": [{\"marker\": {\"colorbar\": {\"outlinewidth\": 0, \"ticks\": \"\"}}, \"type\": \"histogram\"}], \"histogram2d\": [{\"colorbar\": {\"outlinewidth\": 0, \"ticks\": \"\"}, \"colorscale\": [[0.0, \"#0d0887\"], [0.1111111111111111, \"#46039f\"], [0.2222222222222222, \"#7201a8\"], [0.3333333333333333, \"#9c179e\"], [0.4444444444444444, \"#bd3786\"], [0.5555555555555556, \"#d8576b\"], [0.6666666666666666, \"#ed7953\"], [0.7777777777777778, \"#fb9f3a\"], [0.8888888888888888, \"#fdca26\"], [1.0, \"#f0f921\"]], \"type\": \"histogram2d\"}], \"histogram2dcontour\": [{\"colorbar\": {\"outlinewidth\": 0, \"ticks\": \"\"}, \"colorscale\": [[0.0, \"#0d0887\"], [0.1111111111111111, \"#46039f\"], [0.2222222222222222, \"#7201a8\"], [0.3333333333333333, \"#9c179e\"], [0.4444444444444444, \"#bd3786\"], [0.5555555555555556, \"#d8576b\"], [0.6666666666666666, \"#ed7953\"], [0.7777777777777778, \"#fb9f3a\"], [0.8888888888888888, \"#fdca26\"], [1.0, \"#f0f921\"]], \"type\": \"histogram2dcontour\"}], \"mesh3d\": [{\"colorbar\": {\"outlinewidth\": 0, \"ticks\": \"\"}, \"type\": \"mesh3d\"}], \"parcoords\": [{\"line\": {\"colorbar\": {\"outlinewidth\": 0, \"ticks\": \"\"}}, \"type\": \"parcoords\"}], \"pie\": [{\"automargin\": true, \"type\": \"pie\"}], \"scatter\": [{\"marker\": {\"colorbar\": {\"outlinewidth\": 0, \"ticks\": \"\"}}, \"type\": \"scatter\"}], \"scatter3d\": [{\"line\": {\"colorbar\": {\"outlinewidth\": 0, \"ticks\": \"\"}}, \"marker\": {\"colorbar\": {\"outlinewidth\": 0, \"ticks\": \"\"}}, \"type\": \"scatter3d\"}], \"scattercarpet\": [{\"marker\": {\"colorbar\": {\"outlinewidth\": 0, \"ticks\": \"\"}}, \"type\": \"scattercarpet\"}], \"scattergeo\": [{\"marker\": {\"colorbar\": {\"outlinewidth\": 0, \"ticks\": \"\"}}, \"type\": \"scattergeo\"}], \"scattergl\": [{\"marker\": {\"colorbar\": {\"outlinewidth\": 0, \"ticks\": \"\"}}, \"type\": \"scattergl\"}], \"scattermapbox\": [{\"marker\": {\"colorbar\": {\"outlinewidth\": 0, \"ticks\": \"\"}}, \"type\": \"scattermapbox\"}], \"scatterpolar\": [{\"marker\": {\"colorbar\": {\"outlinewidth\": 0, \"ticks\": \"\"}}, \"type\": \"scatterpolar\"}], \"scatterpolargl\": [{\"marker\": {\"colorbar\": {\"outlinewidth\": 0, \"ticks\": \"\"}}, \"type\": \"scatterpolargl\"}], \"scatterternary\": [{\"marker\": {\"colorbar\": {\"outlinewidth\": 0, \"ticks\": \"\"}}, \"type\": \"scatterternary\"}], \"surface\": [{\"colorbar\": {\"outlinewidth\": 0, \"ticks\": \"\"}, \"colorscale\": [[0.0, \"#0d0887\"], [0.1111111111111111, \"#46039f\"], [0.2222222222222222, \"#7201a8\"], [0.3333333333333333, \"#9c179e\"], [0.4444444444444444, \"#bd3786\"], [0.5555555555555556, \"#d8576b\"], [0.6666666666666666, \"#ed7953\"], [0.7777777777777778, \"#fb9f3a\"], [0.8888888888888888, \"#fdca26\"], [1.0, \"#f0f921\"]], \"type\": \"surface\"}], \"table\": [{\"cells\": {\"fill\": {\"color\": \"#EBF0F8\"}, \"line\": {\"color\": \"white\"}}, \"header\": {\"fill\": {\"color\": \"#C8D4E3\"}, \"line\": {\"color\": \"white\"}}, \"type\": \"table\"}]}, \"layout\": {\"annotationdefaults\": {\"arrowcolor\": \"#2a3f5f\", \"arrowhead\": 0, \"arrowwidth\": 1}, \"coloraxis\": {\"colorbar\": {\"outlinewidth\": 0, \"ticks\": \"\"}}, \"colorscale\": {\"diverging\": [[0, \"#8e0152\"], [0.1, \"#c51b7d\"], [0.2, \"#de77ae\"], [0.3, \"#f1b6da\"], [0.4, \"#fde0ef\"], [0.5, \"#f7f7f7\"], [0.6, \"#e6f5d0\"], [0.7, \"#b8e186\"], [0.8, \"#7fbc41\"], [0.9, \"#4d9221\"], [1, \"#276419\"]], \"sequential\": [[0.0, \"#0d0887\"], [0.1111111111111111, \"#46039f\"], [0.2222222222222222, \"#7201a8\"], [0.3333333333333333, \"#9c179e\"], [0.4444444444444444, \"#bd3786\"], [0.5555555555555556, \"#d8576b\"], [0.6666666666666666, \"#ed7953\"], [0.7777777777777778, \"#fb9f3a\"], [0.8888888888888888, \"#fdca26\"], [1.0, \"#f0f921\"]], \"sequentialminus\": [[0.0, \"#0d0887\"], [0.1111111111111111, \"#46039f\"], [0.2222222222222222, \"#7201a8\"], [0.3333333333333333, \"#9c179e\"], [0.4444444444444444, \"#bd3786\"], [0.5555555555555556, \"#d8576b\"], [0.6666666666666666, \"#ed7953\"], [0.7777777777777778, \"#fb9f3a\"], [0.8888888888888888, \"#fdca26\"], [1.0, \"#f0f921\"]]}, \"colorway\": [\"#636efa\", \"#EF553B\", \"#00cc96\", \"#ab63fa\", \"#FFA15A\", \"#19d3f3\", \"#FF6692\", \"#B6E880\", \"#FF97FF\", \"#FECB52\"], \"font\": {\"color\": \"#2a3f5f\"}, \"geo\": {\"bgcolor\": \"white\", \"lakecolor\": \"white\", \"landcolor\": \"#E5ECF6\", \"showlakes\": true, \"showland\": true, \"subunitcolor\": \"white\"}, \"hoverlabel\": {\"align\": \"left\"}, \"hovermode\": \"closest\", \"mapbox\": {\"style\": \"light\"}, \"paper_bgcolor\": \"white\", \"plot_bgcolor\": \"#E5ECF6\", \"polar\": {\"angularaxis\": {\"gridcolor\": \"white\", \"linecolor\": \"white\", \"ticks\": \"\"}, \"bgcolor\": \"#E5ECF6\", \"radialaxis\": {\"gridcolor\": \"white\", \"linecolor\": \"white\", \"ticks\": \"\"}}, \"scene\": {\"xaxis\": {\"backgroundcolor\": \"#E5ECF6\", \"gridcolor\": \"white\", \"gridwidth\": 2, \"linecolor\": \"white\", \"showbackground\": true, \"ticks\": \"\", \"zerolinecolor\": \"white\"}, \"yaxis\": {\"backgroundcolor\": \"#E5ECF6\", \"gridcolor\": \"white\", \"gridwidth\": 2, \"linecolor\": \"white\", \"showbackground\": true, \"ticks\": \"\", \"zerolinecolor\": \"white\"}, \"zaxis\": {\"backgroundcolor\": \"#E5ECF6\", \"gridcolor\": \"white\", \"gridwidth\": 2, \"linecolor\": \"white\", \"showbackground\": true, \"ticks\": \"\", \"zerolinecolor\": \"white\"}}, \"shapedefaults\": {\"line\": {\"color\": \"#2a3f5f\"}}, \"ternary\": {\"aaxis\": {\"gridcolor\": \"white\", \"linecolor\": \"white\", \"ticks\": \"\"}, \"baxis\": {\"gridcolor\": \"white\", \"linecolor\": \"white\", \"ticks\": \"\"}, \"bgcolor\": \"#E5ECF6\", \"caxis\": {\"gridcolor\": \"white\", \"linecolor\": \"white\", \"ticks\": \"\"}}, \"title\": {\"x\": 0.05}, \"xaxis\": {\"automargin\": true, \"gridcolor\": \"white\", \"linecolor\": \"white\", \"ticks\": \"\", \"title\": {\"standoff\": 15}, \"zerolinecolor\": \"white\", \"zerolinewidth\": 2}, \"yaxis\": {\"automargin\": true, \"gridcolor\": \"white\", \"linecolor\": \"white\", \"ticks\": \"\", \"title\": {\"standoff\": 15}, \"zerolinecolor\": \"white\", \"zerolinewidth\": 2}}}, \"title\": {\"font\": {\"color\": \"#4D5663\"}, \"text\": \"Cases Daily\"}, \"xaxis\": {\"gridcolor\": \"#E1E5ED\", \"showgrid\": true, \"tickfont\": {\"color\": \"#4D5663\"}, \"title\": {\"font\": {\"color\": \"#4D5663\"}, \"text\": \"Date\"}, \"zerolinecolor\": \"#E1E5ED\"}, \"yaxis\": {\"gridcolor\": \"#E1E5ED\", \"showgrid\": true, \"tickfont\": {\"color\": \"#4D5663\"}, \"title\": {\"font\": {\"color\": \"#4D5663\"}, \"text\": \"Daily Confirmed, Recovered and Deceased\"}, \"zerolinecolor\": \"#E1E5ED\"}},\n",
       "                        {\"showLink\": true, \"linkText\": \"Export to plot.ly\", \"plotlyServerURL\": \"https://plot.ly\", \"responsive\": true}\n",
       "                    ).then(function(){\n",
       "                            \n",
       "var gd = document.getElementById('a491241c-25f5-49ed-a10f-c788cefdd419');\n",
       "var x = new MutationObserver(function (mutations, observer) {{\n",
       "        var display = window.getComputedStyle(gd).display;\n",
       "        if (!display || display === 'none') {{\n",
       "            console.log([gd, 'removed!']);\n",
       "            Plotly.purge(gd);\n",
       "            observer.disconnect();\n",
       "        }}\n",
       "}});\n",
       "\n",
       "// Listen for the removal of the full notebook cells\n",
       "var notebookContainer = gd.closest('#notebook-container');\n",
       "if (notebookContainer) {{\n",
       "    x.observe(notebookContainer, {childList: true});\n",
       "}}\n",
       "\n",
       "// Listen for the clearing of the current output cell\n",
       "var outputEl = gd.closest('.output');\n",
       "if (outputEl) {{\n",
       "    x.observe(outputEl, {childList: true});\n",
       "}}\n",
       "\n",
       "                        })\n",
       "                };\n",
       "                });\n",
       "            </script>\n",
       "        </div>"
      ]
     },
     "metadata": {},
     "output_type": "display_data"
    }
   ],
   "source": [
    "df6.iplot(kind= 'scatter', x= 'Date', y=['Daily Confirmed', 'Daily Recovered', 'Daily Deceased'], mode= 'markers+lines', title= 'Cases Daily', xTitle= 'Date', yTitle= 'Daily Confirmed, Recovered and Deceased', color= ['red', 'blue', 'green'], size= 4)\n"
   ]
  },
  {
   "cell_type": "code",
   "execution_count": 23,
   "metadata": {},
   "outputs": [
    {
     "data": {
      "text/html": [
       "<script>\n",
       "code_show=true; \n",
       "function code_toggle() {\n",
       " if (code_show){\n",
       " $('div.input').hide();\n",
       " } else {\n",
       " $('div.input').show();\n",
       " }\n",
       " code_show = !code_show\n",
       "} \n",
       "$( document ).ready(code_toggle);\n",
       "</script>\n",
       "<form action=\"javascript:code_toggle()\"><input type=\"submit\" value=\"Click here to toggle on/off the raw code.\"></form>"
      ],
      "text/plain": [
       "<IPython.core.display.HTML object>"
      ]
     },
     "execution_count": 23,
     "metadata": {},
     "output_type": "execute_result"
    }
   ],
   "source": [
    "from IPython.display import HTML\n",
    "\n",
    "HTML('''<script>\n",
    "code_show=true; \n",
    "function code_toggle() {\n",
    " if (code_show){\n",
    " $('div.input').hide();\n",
    " } else {\n",
    " $('div.input').show();\n",
    " }\n",
    " code_show = !code_show\n",
    "} \n",
    "$( document ).ready(code_toggle);\n",
    "</script>\n",
    "<form action=\"javascript:code_toggle()\"><input type=\"submit\" value=\"Click here to toggle on/off the raw code.\"></form>''')"
   ]
  },
  {
   "cell_type": "code",
   "execution_count": null,
   "metadata": {},
   "outputs": [],
   "source": []
  },
  {
   "cell_type": "code",
   "execution_count": null,
   "metadata": {},
   "outputs": [],
   "source": []
  }
 ],
 "metadata": {
  "kernelspec": {
   "display_name": "Python 3",
   "language": "python",
   "name": "python3"
  },
  "language_info": {
   "codemirror_mode": {
    "name": "ipython",
    "version": 3
   },
   "file_extension": ".py",
   "mimetype": "text/x-python",
   "name": "python",
   "nbconvert_exporter": "python",
   "pygments_lexer": "ipython3",
   "version": "3.7.6"
  }
 },
 "nbformat": 4,
 "nbformat_minor": 4
}
